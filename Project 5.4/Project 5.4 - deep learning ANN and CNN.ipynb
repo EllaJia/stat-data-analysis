{
 "cells": [
  {
   "cell_type": "code",
   "execution_count": 1,
   "id": "214764bb",
   "metadata": {},
   "outputs": [],
   "source": [
    "import pandas as pd\n",
    "import numpy as np\n",
    "from pandas import DataFrame\n",
    "\n",
    "import matplotlib.pyplot as plt\n",
    "import seaborn as sns"
   ]
  },
  {
   "cell_type": "markdown",
   "id": "4c1a8672",
   "metadata": {},
   "source": [
    "## Part 1: Read in the data"
   ]
  },
  {
   "cell_type": "code",
   "execution_count": 2,
   "id": "b6875c74",
   "metadata": {},
   "outputs": [],
   "source": [
    "path=r'C:\\Users\\aleci\\Documents\\Project 3 - Mortgage Origination Analysis\\data\\\\'\n",
    "\n",
    "file_2020q1_OH=pd.read_csv(path+'file_2020Q1_OH.csv')\n",
    "file_2020q1_VA=pd.read_csv(path+'file_2020Q1_VA.csv')\n",
    "file_2020q1_GA=pd.read_csv(path+'file_2020Q1_GA.csv')\n",
    "file_2020q1_MI=pd.read_csv(path+'file_2020Q1_MI.csv')\n",
    "file_2020q1_CO=pd.read_csv(path+'file_2020Q1_CO.csv')"
   ]
  },
  {
   "cell_type": "code",
   "execution_count": 3,
   "id": "1339f374",
   "metadata": {},
   "outputs": [
    {
     "data": {
      "text/plain": [
       "(2071611, 108)"
      ]
     },
     "execution_count": 3,
     "metadata": {},
     "output_type": "execute_result"
    }
   ],
   "source": [
    "df=pd.concat([file_2020q1_OH, file_2020q1_VA, file_2020q1_GA, file_2020q1_MI, file_2020q1_CO])\n",
    "df.shape"
   ]
  },
  {
   "cell_type": "code",
   "execution_count": 4,
   "id": "b7c2c9f7",
   "metadata": {},
   "outputs": [
    {
     "data": {
      "text/plain": [
       "104924"
      ]
     },
     "execution_count": 4,
     "metadata": {},
     "output_type": "execute_result"
    }
   ],
   "source": [
    "df['LOAN_ID'].nunique()"
   ]
  },
  {
   "cell_type": "code",
   "execution_count": 5,
   "id": "d89912a1",
   "metadata": {},
   "outputs": [
    {
     "data": {
      "text/plain": [
       "STATE\n",
       "CO    485045\n",
       "GA    428255\n",
       "MI    479014\n",
       "OH    339552\n",
       "VA    339745\n",
       "Name: LOAN_ID, dtype: int64"
      ]
     },
     "execution_count": 5,
     "metadata": {},
     "output_type": "execute_result"
    }
   ],
   "source": [
    "df.groupby('STATE')['LOAN_ID'].count()"
   ]
  },
  {
   "cell_type": "markdown",
   "id": "069a2a35",
   "metadata": {},
   "source": [
    "## Part 2: Define 'bad'\n",
    "* We intend to apply a more stringent criterion for defining 'bad'.\n",
    "* This definition bad will be used to build a payment default model.\n",
    "* Two things to consider for defining such a variable as 'bad'?\n",
    "** The definition should be representative of bad/derogatory behavior\n",
    "** We can get enough such data points for modeling"
   ]
  },
  {
   "cell_type": "code",
   "execution_count": 6,
   "id": "7304b9a3",
   "metadata": {},
   "outputs": [
    {
     "data": {
      "text/plain": [
       "['POOL_ID',\n",
       " 'LOAN_ID',\n",
       " 'ACT_PERIOD',\n",
       " 'CHANNEL',\n",
       " 'SELLER',\n",
       " 'SERVICER',\n",
       " 'MASTER_SERVICER',\n",
       " 'ORIG_RATE',\n",
       " 'CURR_RATE',\n",
       " 'ORIG_UPB',\n",
       " 'ISSUANCE_UPB',\n",
       " 'CURRENT_UPB',\n",
       " 'ORIG_TERM',\n",
       " 'ORIG_DATE',\n",
       " 'FIRST_PAY',\n",
       " 'LOAN_AGE',\n",
       " 'REM_MONTHS',\n",
       " 'ADJ_REM_MONTHS',\n",
       " 'MATR_DT',\n",
       " 'OLTV',\n",
       " 'OCLTV',\n",
       " 'NUM_BO',\n",
       " 'DTI',\n",
       " 'CSCORE_B',\n",
       " 'CSCORE_C',\n",
       " 'FIRST_FLAG',\n",
       " 'PURPOSE',\n",
       " 'PROP',\n",
       " 'NO_UNITS',\n",
       " 'OCC_STAT',\n",
       " 'STATE',\n",
       " 'MSA',\n",
       " 'ZIP',\n",
       " 'MI_PCT',\n",
       " 'PRODUCT',\n",
       " 'PPMT_FLG',\n",
       " 'IO',\n",
       " 'FIRST_PAY_IO',\n",
       " 'MNTHS_TO_AMTZ_IO',\n",
       " 'DLQ_STATUS',\n",
       " 'PMT_HISTORY',\n",
       " 'MOD_FLAG',\n",
       " 'MI_CANCEL_FLAG',\n",
       " 'Zero_Bal_Code',\n",
       " 'ZB_DTE',\n",
       " 'LAST_UPB',\n",
       " 'RPRCH_DTE',\n",
       " 'CURR_SCHD_PRNCPL',\n",
       " 'TOT_SCHD_PRNCPL',\n",
       " 'UNSCHD_PRNCPL_CURR',\n",
       " 'LAST_PAID_INSTALLMENT_DATE',\n",
       " 'FORECLOSURE_DATE',\n",
       " 'DISPOSITION_DATE',\n",
       " 'FORECLOSURE_COSTS',\n",
       " 'PROPERTY_PRESERVATION_AND_REPAIR_COSTS',\n",
       " 'ASSET_RECOVERY_COSTS',\n",
       " 'MISCELLANEOUS_HOLDING_EXPENSES_AND_CREDITS',\n",
       " 'ASSOCIATED_TAXES_FOR_HOLDING_PROPERTY',\n",
       " 'NET_SALES_PROCEEDS',\n",
       " 'CREDIT_ENHANCEMENT_PROCEEDS',\n",
       " 'REPURCHASES_MAKE_WHOLE_PROCEEDS',\n",
       " 'OTHER_FORECLOSURE_PROCEEDS',\n",
       " 'NON_INTEREST_BEARING_UPB',\n",
       " 'PRINCIPAL_FORGIVENESS_AMOUNT',\n",
       " 'ORIGINAL_LIST_START_DATE',\n",
       " 'ORIGINAL_LIST_PRICE',\n",
       " 'CURRENT_LIST_START_DATE',\n",
       " 'CURRENT_LIST_PRICE',\n",
       " 'ISSUE_SCOREB',\n",
       " 'ISSUE_SCOREC',\n",
       " 'CURR_SCOREB',\n",
       " 'CURR_SCOREC',\n",
       " 'MI_TYPE',\n",
       " 'SERV_IND',\n",
       " 'CURRENT_PERIOD_MODIFICATION_LOSS_AMOUNT',\n",
       " 'CUMULATIVE_MODIFICATION_LOSS_AMOUNT',\n",
       " 'CURRENT_PERIOD_CREDIT_EVENT_NET_GAIN_OR_LOSS',\n",
       " 'CUMULATIVE_CREDIT_EVENT_NET_GAIN_OR_LOSS',\n",
       " 'HOMEREADY_PROGRAM_INDICATOR',\n",
       " 'FORECLOSURE_PRINCIPAL_WRITE_OFF_AMOUNT',\n",
       " 'RELOCATION_MORTGAGE_INDICATOR',\n",
       " 'ZERO_BALANCE_CODE_CHANGE_DATE',\n",
       " 'LOAN_HOLDBACK_INDICATOR',\n",
       " 'LOAN_HOLDBACK_EFFECTIVE_DATE',\n",
       " 'DELINQUENT_ACCRUED_INTEREST',\n",
       " 'PROPERTY_INSPECTION_WAIVER_INDICATOR',\n",
       " 'HIGH_BALANCE_LOAN_INDICATOR',\n",
       " 'ARM_5_YR_INDICATOR',\n",
       " 'ARM_PRODUCT_TYPE',\n",
       " 'MONTHS_UNTIL_FIRST_PAYMENT_RESET',\n",
       " 'MONTHS_BETWEEN_SUBSEQUENT_PAYMENT_RESET',\n",
       " 'INTEREST_RATE_CHANGE_DATE',\n",
       " 'PAYMENT_CHANGE_DATE',\n",
       " 'ARM_INDEX',\n",
       " 'ARM_CAP_STRUCTURE',\n",
       " 'INITIAL_INTEREST_RATE_CAP',\n",
       " 'PERIODIC_INTEREST_RATE_CAP',\n",
       " 'LIFETIME_INTEREST_RATE_CAP',\n",
       " 'MARGIN',\n",
       " 'BALLOON_INDICATOR',\n",
       " 'PLAN_NUMBER',\n",
       " 'FORBEARANCE_INDICATOR',\n",
       " 'HIGH_LOAN_TO_VALUE_HLTV_REFINANCE_OPTION_INDICATOR',\n",
       " 'DEAL_NAME',\n",
       " 'RE_PROCS_FLAG',\n",
       " 'ADR_TYPE',\n",
       " 'ADR_COUNT',\n",
       " 'ADR_UPB']"
      ]
     },
     "execution_count": 6,
     "metadata": {},
     "output_type": "execute_result"
    }
   ],
   "source": [
    "df.columns.tolist()"
   ]
  },
  {
   "cell_type": "code",
   "execution_count": 7,
   "id": "48f29f71",
   "metadata": {},
   "outputs": [
    {
     "data": {
      "text/plain": [
       "DLQ_STATUS\n",
       "0     2019379\n",
       "1       14783\n",
       "2        7204\n",
       "3        5353\n",
       "4        3983\n",
       "5        3351\n",
       "6        2724\n",
       "7        2209\n",
       "8        1934\n",
       "9        1704\n",
       "10       1510\n",
       "11       1368\n",
       "12       1146\n",
       "13        963\n",
       "14        856\n",
       "15        746\n",
       "16        617\n",
       "17        557\n",
       "18        409\n",
       "19        296\n",
       "20        250\n",
       "21        145\n",
       "22         70\n",
       "23         40\n",
       "24         14\n",
       "Name: LOAN_ID, dtype: int64"
      ]
     },
     "execution_count": 7,
     "metadata": {},
     "output_type": "execute_result"
    }
   ],
   "source": [
    "df.groupby('DLQ_STATUS')['LOAN_ID'].count()"
   ]
  },
  {
   "cell_type": "code",
   "execution_count": 8,
   "id": "8f0af6da",
   "metadata": {},
   "outputs": [],
   "source": [
    "df['bad']=np.where(df['DLQ_STATUS'] >= 6, 1, 0)\n",
    "df_bad=df.groupby('LOAN_ID')['bad'].sum().reset_index()\n",
    "df_bad['bad']=np.where(df_bad['bad'] > 0, 1, 0)"
   ]
  },
  {
   "cell_type": "code",
   "execution_count": 9,
   "id": "8f40bb26",
   "metadata": {},
   "outputs": [
    {
     "name": "stdout",
     "output_type": "stream",
     "text": [
      "0.02353131790629408\n",
      "2469\n"
     ]
    }
   ],
   "source": [
    "print(df_bad['bad'].mean())\n",
    "print(df_bad['bad'].sum())"
   ]
  },
  {
   "cell_type": "code",
   "execution_count": 10,
   "id": "ee260948",
   "metadata": {},
   "outputs": [
    {
     "name": "stdout",
     "output_type": "stream",
     "text": [
      "<class 'pandas.core.frame.DataFrame'>\n",
      "RangeIndex: 104924 entries, 0 to 104923\n",
      "Data columns (total 2 columns):\n",
      " #   Column   Non-Null Count   Dtype\n",
      "---  ------   --------------   -----\n",
      " 0   LOAN_ID  104924 non-null  int64\n",
      " 1   bad      104924 non-null  int32\n",
      "dtypes: int32(1), int64(1)\n",
      "memory usage: 1.2 MB\n"
     ]
    }
   ],
   "source": [
    "df_bad.info()"
   ]
  },
  {
   "cell_type": "code",
   "execution_count": 11,
   "id": "54c2daef",
   "metadata": {},
   "outputs": [],
   "source": [
    "df_nodup=df.drop_duplicates(subset='LOAN_ID', keep='first').reset_index()"
   ]
  },
  {
   "cell_type": "code",
   "execution_count": 12,
   "id": "853a9df0",
   "metadata": {},
   "outputs": [
    {
     "data": {
      "text/plain": [
       "['index',\n",
       " 'POOL_ID',\n",
       " 'LOAN_ID',\n",
       " 'ACT_PERIOD',\n",
       " 'CHANNEL',\n",
       " 'SELLER',\n",
       " 'SERVICER',\n",
       " 'MASTER_SERVICER',\n",
       " 'ORIG_RATE',\n",
       " 'CURR_RATE',\n",
       " 'ORIG_UPB',\n",
       " 'ISSUANCE_UPB',\n",
       " 'CURRENT_UPB',\n",
       " 'ORIG_TERM',\n",
       " 'ORIG_DATE',\n",
       " 'FIRST_PAY',\n",
       " 'LOAN_AGE',\n",
       " 'REM_MONTHS',\n",
       " 'ADJ_REM_MONTHS',\n",
       " 'MATR_DT',\n",
       " 'OLTV',\n",
       " 'OCLTV',\n",
       " 'NUM_BO',\n",
       " 'DTI',\n",
       " 'CSCORE_B',\n",
       " 'CSCORE_C',\n",
       " 'FIRST_FLAG',\n",
       " 'PURPOSE',\n",
       " 'PROP',\n",
       " 'NO_UNITS',\n",
       " 'OCC_STAT',\n",
       " 'STATE',\n",
       " 'MSA',\n",
       " 'ZIP',\n",
       " 'MI_PCT',\n",
       " 'PRODUCT',\n",
       " 'PPMT_FLG',\n",
       " 'IO',\n",
       " 'FIRST_PAY_IO',\n",
       " 'MNTHS_TO_AMTZ_IO',\n",
       " 'DLQ_STATUS',\n",
       " 'PMT_HISTORY',\n",
       " 'MOD_FLAG',\n",
       " 'MI_CANCEL_FLAG',\n",
       " 'Zero_Bal_Code',\n",
       " 'ZB_DTE',\n",
       " 'LAST_UPB',\n",
       " 'RPRCH_DTE',\n",
       " 'CURR_SCHD_PRNCPL',\n",
       " 'TOT_SCHD_PRNCPL',\n",
       " 'UNSCHD_PRNCPL_CURR',\n",
       " 'LAST_PAID_INSTALLMENT_DATE',\n",
       " 'FORECLOSURE_DATE',\n",
       " 'DISPOSITION_DATE',\n",
       " 'FORECLOSURE_COSTS',\n",
       " 'PROPERTY_PRESERVATION_AND_REPAIR_COSTS',\n",
       " 'ASSET_RECOVERY_COSTS',\n",
       " 'MISCELLANEOUS_HOLDING_EXPENSES_AND_CREDITS',\n",
       " 'ASSOCIATED_TAXES_FOR_HOLDING_PROPERTY',\n",
       " 'NET_SALES_PROCEEDS',\n",
       " 'CREDIT_ENHANCEMENT_PROCEEDS',\n",
       " 'REPURCHASES_MAKE_WHOLE_PROCEEDS',\n",
       " 'OTHER_FORECLOSURE_PROCEEDS',\n",
       " 'NON_INTEREST_BEARING_UPB',\n",
       " 'PRINCIPAL_FORGIVENESS_AMOUNT',\n",
       " 'ORIGINAL_LIST_START_DATE',\n",
       " 'ORIGINAL_LIST_PRICE',\n",
       " 'CURRENT_LIST_START_DATE',\n",
       " 'CURRENT_LIST_PRICE',\n",
       " 'ISSUE_SCOREB',\n",
       " 'ISSUE_SCOREC',\n",
       " 'CURR_SCOREB',\n",
       " 'CURR_SCOREC',\n",
       " 'MI_TYPE',\n",
       " 'SERV_IND',\n",
       " 'CURRENT_PERIOD_MODIFICATION_LOSS_AMOUNT',\n",
       " 'CUMULATIVE_MODIFICATION_LOSS_AMOUNT',\n",
       " 'CURRENT_PERIOD_CREDIT_EVENT_NET_GAIN_OR_LOSS',\n",
       " 'CUMULATIVE_CREDIT_EVENT_NET_GAIN_OR_LOSS',\n",
       " 'HOMEREADY_PROGRAM_INDICATOR',\n",
       " 'FORECLOSURE_PRINCIPAL_WRITE_OFF_AMOUNT',\n",
       " 'RELOCATION_MORTGAGE_INDICATOR',\n",
       " 'ZERO_BALANCE_CODE_CHANGE_DATE',\n",
       " 'LOAN_HOLDBACK_INDICATOR',\n",
       " 'LOAN_HOLDBACK_EFFECTIVE_DATE',\n",
       " 'DELINQUENT_ACCRUED_INTEREST',\n",
       " 'PROPERTY_INSPECTION_WAIVER_INDICATOR',\n",
       " 'HIGH_BALANCE_LOAN_INDICATOR',\n",
       " 'ARM_5_YR_INDICATOR',\n",
       " 'ARM_PRODUCT_TYPE',\n",
       " 'MONTHS_UNTIL_FIRST_PAYMENT_RESET',\n",
       " 'MONTHS_BETWEEN_SUBSEQUENT_PAYMENT_RESET',\n",
       " 'INTEREST_RATE_CHANGE_DATE',\n",
       " 'PAYMENT_CHANGE_DATE',\n",
       " 'ARM_INDEX',\n",
       " 'ARM_CAP_STRUCTURE',\n",
       " 'INITIAL_INTEREST_RATE_CAP',\n",
       " 'PERIODIC_INTEREST_RATE_CAP',\n",
       " 'LIFETIME_INTEREST_RATE_CAP',\n",
       " 'MARGIN',\n",
       " 'BALLOON_INDICATOR',\n",
       " 'PLAN_NUMBER',\n",
       " 'FORBEARANCE_INDICATOR',\n",
       " 'HIGH_LOAN_TO_VALUE_HLTV_REFINANCE_OPTION_INDICATOR',\n",
       " 'DEAL_NAME',\n",
       " 'RE_PROCS_FLAG',\n",
       " 'ADR_TYPE',\n",
       " 'ADR_COUNT',\n",
       " 'ADR_UPB',\n",
       " 'bad']"
      ]
     },
     "execution_count": 12,
     "metadata": {},
     "output_type": "execute_result"
    }
   ],
   "source": [
    "df_nodup.columns.tolist()"
   ]
  },
  {
   "cell_type": "code",
   "execution_count": 13,
   "id": "c3d7ddb1",
   "metadata": {},
   "outputs": [],
   "source": [
    "df_nodup=pd.merge(df_nodup.drop('bad', axis=1), df_bad, on='LOAN_ID', how='inner')"
   ]
  },
  {
   "cell_type": "code",
   "execution_count": 14,
   "id": "9b58613f",
   "metadata": {},
   "outputs": [
    {
     "data": {
      "text/plain": [
       "0.02353131790629408"
      ]
     },
     "execution_count": 14,
     "metadata": {},
     "output_type": "execute_result"
    }
   ],
   "source": [
    "df_nodup['bad'].mean()"
   ]
  },
  {
   "cell_type": "markdown",
   "id": "0cb7e0b0",
   "metadata": {},
   "source": [
    "## Part 3: Select variables for modeling\n",
    "* Since this is an underwriting model, we will only select those variables available at the time of origination. \n",
    "* These varibles do not change their values throughout the life of a loan. "
   ]
  },
  {
   "cell_type": "code",
   "execution_count": 18,
   "id": "0948761f",
   "metadata": {},
   "outputs": [],
   "source": [
    "def dummyvar(x):\n",
    "    x['purpose_rate_refi']=np.where(x['PURPOSE'].str.strip()=='R', 1, 0)\n",
    "    x['purpose_cashout_refi']=np.where(x['PURPOSE'].str.strip()=='C', 1, 0)\n",
    "    x['property_pud']=np.where(x['PROP'].str.strip()=='PU', 1, 0)\n",
    "    x['property_condo']=np.where(x['PROP'].str.strip()=='CO', 1, 0)\n",
    "    x['property_other']=np.where(x['PROP'].str.strip().isin(['CP', 'MH']), 1, 0)\n",
    "    x['term_30years']=np.where(x['ORIG_TERM']==360, 1, 0)\n",
    "    x['term_15years']=np.where(x['ORIG_TERM']==180, 1, 0)\n",
    "    x['mi']=np.where(x['MI_PCT'] > 0, 1, 0)\n",
    "    \n",
    "dummyvar(df_nodup)"
   ]
  },
  {
   "cell_type": "code",
   "execution_count": 19,
   "id": "90bab526",
   "metadata": {},
   "outputs": [
    {
     "data": {
      "text/html": [
       "<div>\n",
       "<style scoped>\n",
       "    .dataframe tbody tr th:only-of-type {\n",
       "        vertical-align: middle;\n",
       "    }\n",
       "\n",
       "    .dataframe tbody tr th {\n",
       "        vertical-align: top;\n",
       "    }\n",
       "\n",
       "    .dataframe thead th {\n",
       "        text-align: right;\n",
       "    }\n",
       "</style>\n",
       "<table border=\"1\" class=\"dataframe\">\n",
       "  <thead>\n",
       "    <tr style=\"text-align: right;\">\n",
       "      <th></th>\n",
       "      <th>count</th>\n",
       "      <th>mean</th>\n",
       "      <th>std</th>\n",
       "      <th>min</th>\n",
       "      <th>25%</th>\n",
       "      <th>50%</th>\n",
       "      <th>75%</th>\n",
       "      <th>max</th>\n",
       "    </tr>\n",
       "  </thead>\n",
       "  <tbody>\n",
       "    <tr>\n",
       "      <th>CSCORE_B</th>\n",
       "      <td>104873.0</td>\n",
       "      <td>7.567624e+02</td>\n",
       "      <td>42.412137</td>\n",
       "      <td>620.0</td>\n",
       "      <td>729.00</td>\n",
       "      <td>766.0</td>\n",
       "      <td>791.00</td>\n",
       "      <td>835.0</td>\n",
       "    </tr>\n",
       "    <tr>\n",
       "      <th>DTI</th>\n",
       "      <td>104922.0</td>\n",
       "      <td>3.415779e+01</td>\n",
       "      <td>9.579630</td>\n",
       "      <td>1.0</td>\n",
       "      <td>27.00</td>\n",
       "      <td>35.0</td>\n",
       "      <td>42.00</td>\n",
       "      <td>50.0</td>\n",
       "    </tr>\n",
       "    <tr>\n",
       "      <th>OLTV</th>\n",
       "      <td>104924.0</td>\n",
       "      <td>7.392929e+01</td>\n",
       "      <td>16.254267</td>\n",
       "      <td>7.0</td>\n",
       "      <td>65.00</td>\n",
       "      <td>76.0</td>\n",
       "      <td>85.00</td>\n",
       "      <td>97.0</td>\n",
       "    </tr>\n",
       "    <tr>\n",
       "      <th>ORIG_UPB</th>\n",
       "      <td>104924.0</td>\n",
       "      <td>2.537213e+05</td>\n",
       "      <td>123826.341576</td>\n",
       "      <td>10000.0</td>\n",
       "      <td>156000.00</td>\n",
       "      <td>237000.0</td>\n",
       "      <td>335000.00</td>\n",
       "      <td>800000.0</td>\n",
       "    </tr>\n",
       "    <tr>\n",
       "      <th>bad</th>\n",
       "      <td>104924.0</td>\n",
       "      <td>2.353132e-02</td>\n",
       "      <td>0.151584</td>\n",
       "      <td>0.0</td>\n",
       "      <td>0.00</td>\n",
       "      <td>0.0</td>\n",
       "      <td>0.00</td>\n",
       "      <td>1.0</td>\n",
       "    </tr>\n",
       "    <tr>\n",
       "      <th>LOAN_ID</th>\n",
       "      <td>104924.0</td>\n",
       "      <td>9.917922e+07</td>\n",
       "      <td>197019.945107</td>\n",
       "      <td>98836742.0</td>\n",
       "      <td>99009455.75</td>\n",
       "      <td>99180553.5</td>\n",
       "      <td>99349026.75</td>\n",
       "      <td>99520476.0</td>\n",
       "    </tr>\n",
       "  </tbody>\n",
       "</table>\n",
       "</div>"
      ],
      "text/plain": [
       "             count          mean            std         min          25%  \\\n",
       "CSCORE_B  104873.0  7.567624e+02      42.412137       620.0       729.00   \n",
       "DTI       104922.0  3.415779e+01       9.579630         1.0        27.00   \n",
       "OLTV      104924.0  7.392929e+01      16.254267         7.0        65.00   \n",
       "ORIG_UPB  104924.0  2.537213e+05  123826.341576     10000.0    156000.00   \n",
       "bad       104924.0  2.353132e-02       0.151584         0.0         0.00   \n",
       "LOAN_ID   104924.0  9.917922e+07  197019.945107  98836742.0  99009455.75   \n",
       "\n",
       "                 50%          75%         max  \n",
       "CSCORE_B       766.0       791.00       835.0  \n",
       "DTI             35.0        42.00        50.0  \n",
       "OLTV            76.0        85.00        97.0  \n",
       "ORIG_UPB    237000.0    335000.00    800000.0  \n",
       "bad              0.0         0.00         1.0  \n",
       "LOAN_ID   99180553.5  99349026.75  99520476.0  "
      ]
     },
     "execution_count": 19,
     "metadata": {},
     "output_type": "execute_result"
    }
   ],
   "source": [
    "columns_to_keep=['CSCORE_B', 'DTI', 'OLTV', 'ORIG_UPB', 'bad', 'LOAN_ID']\n",
    "\n",
    "df_nodup[columns_to_keep].describe().T"
   ]
  },
  {
   "cell_type": "code",
   "execution_count": 54,
   "id": "8942d04f",
   "metadata": {},
   "outputs": [
    {
     "data": {
      "text/html": [
       "<div>\n",
       "<style scoped>\n",
       "    .dataframe tbody tr th:only-of-type {\n",
       "        vertical-align: middle;\n",
       "    }\n",
       "\n",
       "    .dataframe tbody tr th {\n",
       "        vertical-align: top;\n",
       "    }\n",
       "\n",
       "    .dataframe thead th {\n",
       "        text-align: right;\n",
       "    }\n",
       "</style>\n",
       "<table border=\"1\" class=\"dataframe\">\n",
       "  <thead>\n",
       "    <tr style=\"text-align: right;\">\n",
       "      <th></th>\n",
       "      <th>count</th>\n",
       "      <th>mean</th>\n",
       "      <th>std</th>\n",
       "      <th>min</th>\n",
       "      <th>25%</th>\n",
       "      <th>50%</th>\n",
       "      <th>75%</th>\n",
       "      <th>max</th>\n",
       "    </tr>\n",
       "  </thead>\n",
       "  <tbody>\n",
       "    <tr>\n",
       "      <th>CSCORE_B</th>\n",
       "      <td>104871.0</td>\n",
       "      <td>7.567624e+02</td>\n",
       "      <td>42.412282</td>\n",
       "      <td>620.0</td>\n",
       "      <td>729.0</td>\n",
       "      <td>766.0</td>\n",
       "      <td>791.0</td>\n",
       "      <td>835.0</td>\n",
       "    </tr>\n",
       "    <tr>\n",
       "      <th>DTI</th>\n",
       "      <td>104871.0</td>\n",
       "      <td>3.416106e+01</td>\n",
       "      <td>9.578838</td>\n",
       "      <td>1.0</td>\n",
       "      <td>27.0</td>\n",
       "      <td>35.0</td>\n",
       "      <td>42.0</td>\n",
       "      <td>50.0</td>\n",
       "    </tr>\n",
       "    <tr>\n",
       "      <th>OLTV</th>\n",
       "      <td>104871.0</td>\n",
       "      <td>7.392818e+01</td>\n",
       "      <td>16.254008</td>\n",
       "      <td>7.0</td>\n",
       "      <td>65.0</td>\n",
       "      <td>76.0</td>\n",
       "      <td>85.0</td>\n",
       "      <td>97.0</td>\n",
       "    </tr>\n",
       "    <tr>\n",
       "      <th>ORIG_UPB</th>\n",
       "      <td>104871.0</td>\n",
       "      <td>2.537530e+05</td>\n",
       "      <td>123823.523399</td>\n",
       "      <td>10000.0</td>\n",
       "      <td>156000.0</td>\n",
       "      <td>237000.0</td>\n",
       "      <td>335000.0</td>\n",
       "      <td>800000.0</td>\n",
       "    </tr>\n",
       "    <tr>\n",
       "      <th>bad</th>\n",
       "      <td>104871.0</td>\n",
       "      <td>2.354321e-02</td>\n",
       "      <td>0.151622</td>\n",
       "      <td>0.0</td>\n",
       "      <td>0.0</td>\n",
       "      <td>0.0</td>\n",
       "      <td>0.0</td>\n",
       "      <td>1.0</td>\n",
       "    </tr>\n",
       "    <tr>\n",
       "      <th>LOAN_ID</th>\n",
       "      <td>104871.0</td>\n",
       "      <td>9.917920e+07</td>\n",
       "      <td>197011.330265</td>\n",
       "      <td>98836742.0</td>\n",
       "      <td>99009454.5</td>\n",
       "      <td>99180544.0</td>\n",
       "      <td>99349004.0</td>\n",
       "      <td>99520476.0</td>\n",
       "    </tr>\n",
       "  </tbody>\n",
       "</table>\n",
       "</div>"
      ],
      "text/plain": [
       "             count          mean            std         min         25%  \\\n",
       "CSCORE_B  104871.0  7.567624e+02      42.412282       620.0       729.0   \n",
       "DTI       104871.0  3.416106e+01       9.578838         1.0        27.0   \n",
       "OLTV      104871.0  7.392818e+01      16.254008         7.0        65.0   \n",
       "ORIG_UPB  104871.0  2.537530e+05  123823.523399     10000.0    156000.0   \n",
       "bad       104871.0  2.354321e-02       0.151622         0.0         0.0   \n",
       "LOAN_ID   104871.0  9.917920e+07  197011.330265  98836742.0  99009454.5   \n",
       "\n",
       "                 50%         75%         max  \n",
       "CSCORE_B       766.0       791.0       835.0  \n",
       "DTI             35.0        42.0        50.0  \n",
       "OLTV            76.0        85.0        97.0  \n",
       "ORIG_UPB    237000.0    335000.0    800000.0  \n",
       "bad              0.0         0.0         1.0  \n",
       "LOAN_ID   99180544.0  99349004.0  99520476.0  "
      ]
     },
     "execution_count": 54,
     "metadata": {},
     "output_type": "execute_result"
    }
   ],
   "source": [
    "# remove loans with no credit score or DTI\n",
    "df_sample=df_nodup[(df_nodup['CSCORE_B'] > 0) & (df_nodup['DTI'] > 0)][columns_to_keep]\n",
    "df_sample.describe().T"
   ]
  },
  {
   "cell_type": "markdown",
   "id": "260483bd",
   "metadata": {},
   "source": [
    "## Part 4: Create additional features"
   ]
  },
  {
   "cell_type": "markdown",
   "id": "d7b267e3",
   "metadata": {},
   "source": [
    "* Split the sample into a modeling sample and a validation sample"
   ]
  },
  {
   "cell_type": "code",
   "execution_count": 69,
   "id": "48d99695",
   "metadata": {},
   "outputs": [],
   "source": [
    "# create a few more variables\n",
    "df_sample['ORIG_UPB']=np.log(df_sample['ORIG_UPB'])\n",
    "df_sample['DTI_OTV']=df_sample['DTI']/df_sample['OLTV']\n",
    "df_sample['home_price']=df_sample['ORIG_UPB']/df_sample['OLTV']\n",
    "df_sample['home_price_log']=np.log(df_sample['home_price'])\n",
    "df_sample['home_price_fico']=df_sample['CSCORE_B']/df_sample['home_price_log']"
   ]
  },
  {
   "cell_type": "code",
   "execution_count": 70,
   "id": "a026d346",
   "metadata": {},
   "outputs": [],
   "source": [
    "x=df_sample.drop('bad', axis=1)\n",
    "y=df_sample['bad']"
   ]
  },
  {
   "cell_type": "code",
   "execution_count": 71,
   "id": "cd9b0246",
   "metadata": {},
   "outputs": [
    {
     "data": {
      "text/html": [
       "<div>\n",
       "<style scoped>\n",
       "    .dataframe tbody tr th:only-of-type {\n",
       "        vertical-align: middle;\n",
       "    }\n",
       "\n",
       "    .dataframe tbody tr th {\n",
       "        vertical-align: top;\n",
       "    }\n",
       "\n",
       "    .dataframe thead th {\n",
       "        text-align: right;\n",
       "    }\n",
       "</style>\n",
       "<table border=\"1\" class=\"dataframe\">\n",
       "  <thead>\n",
       "    <tr style=\"text-align: right;\">\n",
       "      <th></th>\n",
       "      <th>count</th>\n",
       "      <th>mean</th>\n",
       "      <th>std</th>\n",
       "      <th>min</th>\n",
       "      <th>25%</th>\n",
       "      <th>50%</th>\n",
       "      <th>75%</th>\n",
       "      <th>max</th>\n",
       "    </tr>\n",
       "  </thead>\n",
       "  <tbody>\n",
       "    <tr>\n",
       "      <th>CSCORE_B</th>\n",
       "      <td>104871.0</td>\n",
       "      <td>7.567624e+02</td>\n",
       "      <td>42.412282</td>\n",
       "      <td>6.200000e+02</td>\n",
       "      <td>7.290000e+02</td>\n",
       "      <td>7.660000e+02</td>\n",
       "      <td>7.910000e+02</td>\n",
       "      <td>8.350000e+02</td>\n",
       "    </tr>\n",
       "    <tr>\n",
       "      <th>DTI</th>\n",
       "      <td>104871.0</td>\n",
       "      <td>3.416106e+01</td>\n",
       "      <td>9.578838</td>\n",
       "      <td>1.000000e+00</td>\n",
       "      <td>2.700000e+01</td>\n",
       "      <td>3.500000e+01</td>\n",
       "      <td>4.200000e+01</td>\n",
       "      <td>5.000000e+01</td>\n",
       "    </tr>\n",
       "    <tr>\n",
       "      <th>OLTV</th>\n",
       "      <td>104871.0</td>\n",
       "      <td>7.392818e+01</td>\n",
       "      <td>16.254008</td>\n",
       "      <td>7.000000e+00</td>\n",
       "      <td>6.500000e+01</td>\n",
       "      <td>7.600000e+01</td>\n",
       "      <td>8.500000e+01</td>\n",
       "      <td>9.700000e+01</td>\n",
       "    </tr>\n",
       "    <tr>\n",
       "      <th>ORIG_UPB</th>\n",
       "      <td>104871.0</td>\n",
       "      <td>2.509544e+00</td>\n",
       "      <td>0.044755</td>\n",
       "      <td>2.220327e+00</td>\n",
       "      <td>2.481368e+00</td>\n",
       "      <td>2.515744e+00</td>\n",
       "      <td>2.543324e+00</td>\n",
       "      <td>2.609508e+00</td>\n",
       "    </tr>\n",
       "    <tr>\n",
       "      <th>bad</th>\n",
       "      <td>104871.0</td>\n",
       "      <td>2.354321e-02</td>\n",
       "      <td>0.151622</td>\n",
       "      <td>0.000000e+00</td>\n",
       "      <td>0.000000e+00</td>\n",
       "      <td>0.000000e+00</td>\n",
       "      <td>0.000000e+00</td>\n",
       "      <td>1.000000e+00</td>\n",
       "    </tr>\n",
       "    <tr>\n",
       "      <th>LOAN_ID</th>\n",
       "      <td>104871.0</td>\n",
       "      <td>9.917920e+07</td>\n",
       "      <td>197011.330265</td>\n",
       "      <td>9.883674e+07</td>\n",
       "      <td>9.900945e+07</td>\n",
       "      <td>9.918054e+07</td>\n",
       "      <td>9.934900e+07</td>\n",
       "      <td>9.952048e+07</td>\n",
       "    </tr>\n",
       "    <tr>\n",
       "      <th>DTI_OTV</th>\n",
       "      <td>104871.0</td>\n",
       "      <td>4.909012e-01</td>\n",
       "      <td>0.216396</td>\n",
       "      <td>1.428571e-02</td>\n",
       "      <td>3.604651e-01</td>\n",
       "      <td>4.625000e-01</td>\n",
       "      <td>5.733333e-01</td>\n",
       "      <td>6.000000e+00</td>\n",
       "    </tr>\n",
       "    <tr>\n",
       "      <th>home_price</th>\n",
       "      <td>104871.0</td>\n",
       "      <td>3.646799e-02</td>\n",
       "      <td>0.013212</td>\n",
       "      <td>2.374955e-02</td>\n",
       "      <td>2.963237e-02</td>\n",
       "      <td>3.277671e-02</td>\n",
       "      <td>3.877354e-02</td>\n",
       "      <td>3.490672e-01</td>\n",
       "    </tr>\n",
       "    <tr>\n",
       "      <th>home_price_log</th>\n",
       "      <td>104871.0</td>\n",
       "      <td>-3.352499e+00</td>\n",
       "      <td>0.262676</td>\n",
       "      <td>-3.740192e+00</td>\n",
       "      <td>-3.518888e+00</td>\n",
       "      <td>-3.418037e+00</td>\n",
       "      <td>-3.250017e+00</td>\n",
       "      <td>-1.052491e+00</td>\n",
       "    </tr>\n",
       "    <tr>\n",
       "      <th>home_price_fico</th>\n",
       "      <td>104871.0</td>\n",
       "      <td>-2.275558e+02</td>\n",
       "      <td>27.047704</td>\n",
       "      <td>-7.487001e+02</td>\n",
       "      <td>-2.371175e+02</td>\n",
       "      <td>-2.238235e+02</td>\n",
       "      <td>-2.111682e+02</td>\n",
       "      <td>-1.693007e+02</td>\n",
       "    </tr>\n",
       "  </tbody>\n",
       "</table>\n",
       "</div>"
      ],
      "text/plain": [
       "                    count          mean            std           min  \\\n",
       "CSCORE_B         104871.0  7.567624e+02      42.412282  6.200000e+02   \n",
       "DTI              104871.0  3.416106e+01       9.578838  1.000000e+00   \n",
       "OLTV             104871.0  7.392818e+01      16.254008  7.000000e+00   \n",
       "ORIG_UPB         104871.0  2.509544e+00       0.044755  2.220327e+00   \n",
       "bad              104871.0  2.354321e-02       0.151622  0.000000e+00   \n",
       "LOAN_ID          104871.0  9.917920e+07  197011.330265  9.883674e+07   \n",
       "DTI_OTV          104871.0  4.909012e-01       0.216396  1.428571e-02   \n",
       "home_price       104871.0  3.646799e-02       0.013212  2.374955e-02   \n",
       "home_price_log   104871.0 -3.352499e+00       0.262676 -3.740192e+00   \n",
       "home_price_fico  104871.0 -2.275558e+02      27.047704 -7.487001e+02   \n",
       "\n",
       "                          25%           50%           75%           max  \n",
       "CSCORE_B         7.290000e+02  7.660000e+02  7.910000e+02  8.350000e+02  \n",
       "DTI              2.700000e+01  3.500000e+01  4.200000e+01  5.000000e+01  \n",
       "OLTV             6.500000e+01  7.600000e+01  8.500000e+01  9.700000e+01  \n",
       "ORIG_UPB         2.481368e+00  2.515744e+00  2.543324e+00  2.609508e+00  \n",
       "bad              0.000000e+00  0.000000e+00  0.000000e+00  1.000000e+00  \n",
       "LOAN_ID          9.900945e+07  9.918054e+07  9.934900e+07  9.952048e+07  \n",
       "DTI_OTV          3.604651e-01  4.625000e-01  5.733333e-01  6.000000e+00  \n",
       "home_price       2.963237e-02  3.277671e-02  3.877354e-02  3.490672e-01  \n",
       "home_price_log  -3.518888e+00 -3.418037e+00 -3.250017e+00 -1.052491e+00  \n",
       "home_price_fico -2.371175e+02 -2.238235e+02 -2.111682e+02 -1.693007e+02  "
      ]
     },
     "execution_count": 71,
     "metadata": {},
     "output_type": "execute_result"
    }
   ],
   "source": [
    "df_sample.describe().T"
   ]
  },
  {
   "cell_type": "code",
   "execution_count": 72,
   "id": "26e4eb16",
   "metadata": {},
   "outputs": [
    {
     "data": {
      "text/plain": [
       "((104871, 9), (104871,))"
      ]
     },
     "execution_count": 72,
     "metadata": {},
     "output_type": "execute_result"
    }
   ],
   "source": [
    "x.shape, y.shape"
   ]
  },
  {
   "cell_type": "code",
   "execution_count": 73,
   "id": "0a6ba2f2",
   "metadata": {},
   "outputs": [],
   "source": [
    "# split the sample into train and test sets\n",
    "from sklearn.model_selection import train_test_split\n",
    "\n",
    "x_train, x_test, y_train, y_test=train_test_split(x, y, test_size=0.3, random_state=0)"
   ]
  },
  {
   "cell_type": "code",
   "execution_count": 74,
   "id": "2ca4f07b",
   "metadata": {},
   "outputs": [
    {
     "data": {
      "text/plain": [
       "((73409, 9), (31462, 9))"
      ]
     },
     "execution_count": 74,
     "metadata": {},
     "output_type": "execute_result"
    }
   ],
   "source": [
    "x_train.shape, x_test.shape"
   ]
  },
  {
   "cell_type": "code",
   "execution_count": 75,
   "id": "d84f1e3d",
   "metadata": {},
   "outputs": [],
   "source": [
    "# feature scaling\n",
    "from sklearn.preprocessing import StandardScaler\n",
    "sc=StandardScaler()\n",
    "x_train=sc.fit_transform(x_train)\n",
    "x_test=sc.transform(x_test)"
   ]
  },
  {
   "cell_type": "code",
   "execution_count": 76,
   "id": "a416c24f",
   "metadata": {},
   "outputs": [
    {
     "data": {
      "text/plain": [
       "array([[ 0.40735144, -0.54154947, -0.54802405, ...,  0.05445674,\n",
       "         0.23137678, -0.28064675],\n",
       "       [ 0.4308852 , -0.22828757,  1.29716966, ..., -0.75729257,\n",
       "        -1.06393796,  0.52335029],\n",
       "       [ 0.57208774,  0.81591873,  0.37457281, ..., -0.33304137,\n",
       "        -0.3324616 ,  0.01843858],\n",
       "       ...,\n",
       "       [ 1.16043165, -1.27249388, -0.24049176, ...,  0.01145337,\n",
       "         0.17277218, -0.59743792],\n",
       "       [-0.76933639, -1.89901766, -1.16308862, ...,  0.60519071,\n",
       "         0.91153862, -0.18646654],\n",
       "       [ 1.32516795,  0.29381558,  0.92813092, ..., -0.61058535,\n",
       "        -0.79478061, -0.0271346 ]])"
      ]
     },
     "execution_count": 76,
     "metadata": {},
     "output_type": "execute_result"
    }
   ],
   "source": [
    "x_train"
   ]
  },
  {
   "cell_type": "code",
   "execution_count": 77,
   "id": "1c138ca7",
   "metadata": {},
   "outputs": [],
   "source": [
    "y_train=y_train.to_numpy()\n",
    "y_test=y_test.to_numpy()"
   ]
  },
  {
   "cell_type": "code",
   "execution_count": 78,
   "id": "0c0084ba",
   "metadata": {},
   "outputs": [
    {
     "data": {
      "text/plain": [
       "((73409, 9), (31462, 9))"
      ]
     },
     "execution_count": 78,
     "metadata": {},
     "output_type": "execute_result"
    }
   ],
   "source": [
    "x_train.shape, x_test.shape"
   ]
  },
  {
   "cell_type": "code",
   "execution_count": 79,
   "id": "56b3be95",
   "metadata": {},
   "outputs": [],
   "source": [
    "# reshape the dataset\n",
    "# You must add a 3rd dimension in order to run neural network\n",
    "x_train=x_train.reshape(73409, 9, 1)\n",
    "x_test=x_test.reshape(31462, 9, 1)"
   ]
  },
  {
   "cell_type": "code",
   "execution_count": 80,
   "id": "0a81c6c9",
   "metadata": {},
   "outputs": [
    {
     "data": {
      "text/plain": [
       "((73409, 9, 1), (31462, 9, 1))"
      ]
     },
     "execution_count": 80,
     "metadata": {},
     "output_type": "execute_result"
    }
   ],
   "source": [
    "x_train.shape, x_test.shape"
   ]
  },
  {
   "cell_type": "markdown",
   "id": "5efe5e46",
   "metadata": {},
   "source": [
    "### Part 3: Artificial Neural Network (ANN)\n",
    "#### Part 3.1: set up the ANN model structure"
   ]
  },
  {
   "cell_type": "code",
   "execution_count": 81,
   "id": "9711e186",
   "metadata": {},
   "outputs": [
    {
     "name": "stdout",
     "output_type": "stream",
     "text": [
      "2.11.0-dev20220812\n",
      "Model: \"sequential_3\"\n",
      "_________________________________________________________________\n",
      " Layer (type)                Output Shape              Param #   \n",
      "=================================================================\n",
      " dense_9 (Dense)             (None, 9)                 90        \n",
      "                                                                 \n",
      " dense_10 (Dense)            (None, 6)                 60        \n",
      "                                                                 \n",
      " dense_11 (Dense)            (None, 1)                 7         \n",
      "                                                                 \n",
      "=================================================================\n",
      "Total params: 157\n",
      "Trainable params: 157\n",
      "Non-trainable params: 0\n",
      "_________________________________________________________________\n"
     ]
    }
   ],
   "source": [
    "import tensorflow as tf\n",
    "print(tf.__version__)\n",
    "\n",
    "model=tf.keras.models.Sequential()\n",
    "\n",
    "# set up initial input layer\n",
    "# input_dim should be the same as number of input variables\n",
    "model.add(tf.keras.layers.Dense(units=9, activation='relu', input_dim=9))\n",
    "\n",
    "# add 2nd hidden layer\n",
    "model.add(tf.keras.layers.Dense(units=6, activation='relu'))\n",
    "\n",
    "# output layer\n",
    "# units should be the same as the predicted goal. In our case, we are predicting bad, so units=1.\n",
    "model.add(tf.keras.layers.Dense(units=1, activation='sigmoid'))\n",
    "\n",
    "#compile the model\n",
    "model.compile(optimizer='adam', loss='binary_crossentropy', metrics=['accuracy'])\n",
    "model.summary()"
   ]
  },
  {
   "cell_type": "markdown",
   "id": "a004ceff",
   "metadata": {},
   "source": [
    "#### 3.2: Run ANN model"
   ]
  },
  {
   "cell_type": "code",
   "execution_count": 82,
   "id": "8dbcd06c",
   "metadata": {},
   "outputs": [
    {
     "name": "stdout",
     "output_type": "stream",
     "text": [
      "Epoch 1/10\n",
      "7341/7341 [==============================] - 14s 2ms/step - loss: 0.1247 - accuracy: 0.9714\n",
      "Epoch 2/10\n",
      "7341/7341 [==============================] - 13s 2ms/step - loss: 0.1048 - accuracy: 0.9764\n",
      "Epoch 3/10\n",
      "7341/7341 [==============================] - 13s 2ms/step - loss: 0.1045 - accuracy: 0.9764\n",
      "Epoch 4/10\n",
      "7341/7341 [==============================] - 14s 2ms/step - loss: 0.1043 - accuracy: 0.9764\n",
      "Epoch 5/10\n",
      "7341/7341 [==============================] - 13s 2ms/step - loss: 0.1043 - accuracy: 0.9764\n",
      "Epoch 6/10\n",
      "7341/7341 [==============================] - 13s 2ms/step - loss: 0.1040 - accuracy: 0.9764\n",
      "Epoch 7/10\n",
      "7341/7341 [==============================] - 13s 2ms/step - loss: 0.1040 - accuracy: 0.9764\n",
      "Epoch 8/10\n",
      "7341/7341 [==============================] - 13s 2ms/step - loss: 0.1041 - accuracy: 0.9764\n",
      "Epoch 9/10\n",
      "7341/7341 [==============================] - 13s 2ms/step - loss: 0.1039 - accuracy: 0.9764\n",
      "Epoch 10/10\n",
      "7341/7341 [==============================] - 13s 2ms/step - loss: 0.1038 - accuracy: 0.9764\n"
     ]
    },
    {
     "data": {
      "text/plain": [
       "<keras.callbacks.History at 0x2104740f550>"
      ]
     },
     "execution_count": 82,
     "metadata": {},
     "output_type": "execute_result"
    }
   ],
   "source": [
    "# Epoch is the number of iterations\n",
    "model.fit(x_train, y_train, batch_size=10, epochs=10)"
   ]
  },
  {
   "cell_type": "code",
   "execution_count": 83,
   "id": "84dc55bc",
   "metadata": {},
   "outputs": [
    {
     "name": "stdout",
     "output_type": "stream",
     "text": [
      "984/984 [==============================] - 2s 2ms/step - loss: 0.1014 - accuracy: 0.9767\n"
     ]
    }
   ],
   "source": [
    "# evaluate the model\n",
    "test_loss, test_acc=model.evaluate(x_test, y_test)"
   ]
  },
  {
   "cell_type": "code",
   "execution_count": 84,
   "id": "fd08f86f",
   "metadata": {},
   "outputs": [
    {
     "name": "stdout",
     "output_type": "stream",
     "text": [
      "Test Accuracy: 0.9766702651977539\n"
     ]
    }
   ],
   "source": [
    "print(\"Test Accuracy: {}\".format(test_acc))"
   ]
  },
  {
   "cell_type": "code",
   "execution_count": 85,
   "id": "70b807aa",
   "metadata": {},
   "outputs": [
    {
     "name": "stdout",
     "output_type": "stream",
     "text": [
      "984/984 [==============================] - 2s 2ms/step\n"
     ]
    }
   ],
   "source": [
    "# The following only works for tensorflow 2.6 or later.\n",
    "# for earlier version of tensorflow 2.0, use predict_classes(x_test)\n",
    "y_pred=model.predict(x_test)\n",
    "classes_y=np.argmax(y_pred, axis=1)"
   ]
  },
  {
   "cell_type": "code",
   "execution_count": 86,
   "id": "6102730d",
   "metadata": {},
   "outputs": [
    {
     "data": {
      "text/plain": [
       "array([[0.02174515],\n",
       "       [0.02192432],\n",
       "       [0.06808943],\n",
       "       ...,\n",
       "       [0.07097165],\n",
       "       [0.01774679],\n",
       "       [0.03074125]], dtype=float32)"
      ]
     },
     "execution_count": 86,
     "metadata": {},
     "output_type": "execute_result"
    }
   ],
   "source": [
    "y_pred"
   ]
  },
  {
   "cell_type": "code",
   "execution_count": 87,
   "id": "a441b100",
   "metadata": {},
   "outputs": [],
   "source": [
    "y_pred_df=pd.DataFrame(y_pred)\n",
    "y_pred_df.columns=['y_pred']"
   ]
  },
  {
   "cell_type": "code",
   "execution_count": 88,
   "id": "16e486c4",
   "metadata": {},
   "outputs": [],
   "source": [
    "y_test_df=pd.DataFrame(y_test)\n",
    "y_test_df.columns=['y']"
   ]
  },
  {
   "cell_type": "code",
   "execution_count": 89,
   "id": "2e7a3f84",
   "metadata": {},
   "outputs": [],
   "source": [
    "y_test_df['y_pred']=y_pred_df"
   ]
  },
  {
   "cell_type": "code",
   "execution_count": 90,
   "id": "90d3ea88",
   "metadata": {},
   "outputs": [],
   "source": [
    "num_bins=10\n",
    "\n",
    "binlabels=list(range(0, num_bins))\n",
    "\n",
    "y_test_df['score_cut']=pd.qcut(y_test_df['y_pred'], q=num_bins, labels=binlabels)"
   ]
  },
  {
   "cell_type": "code",
   "execution_count": 91,
   "id": "22fd5bc6",
   "metadata": {},
   "outputs": [
    {
     "name": "stderr",
     "output_type": "stream",
     "text": [
      "C:\\Users\\aleci\\anaconda3\\lib\\site-packages\\seaborn\\_decorators.py:36: FutureWarning: Pass the following variables as keyword args: x, y. From version 0.12, the only valid positional argument will be `data`, and passing other arguments without an explicit keyword will result in an error or misinterpretation.\n",
      "  warnings.warn(\n"
     ]
    },
    {
     "data": {
      "text/plain": [
       "<AxesSubplot:xlabel='score_cut', ylabel='y'>"
      ]
     },
     "execution_count": 91,
     "metadata": {},
     "output_type": "execute_result"
    },
    {
     "data": {
      "image/png": "[encoded data removed]",
      "text/plain": [
       "<Figure size 864x360 with 1 Axes>"
      ]
     },
     "metadata": {
      "needs_background": "light"
     },
     "output_type": "display_data"
    }
   ],
   "source": [
    "fig=plt.figure(figsize=(12, 5))\n",
    "\n",
    "y_test_df_sum=y_test_df.groupby('score_cut')[['y_pred', 'y']].mean().reset_index()\n",
    "y_test_df_sum['score_cut']=y_test_df_sum['score_cut'].astype(int)\n",
    "y_test_df_sum['score_cut']=num_bins-y_test_df_sum['score_cut']\n",
    "\n",
    "sns.barplot(y_test_df_sum['score_cut'], y_test_df_sum['y'])"
   ]
  },
  {
   "cell_type": "code",
   "execution_count": 92,
   "id": "eb50ad14",
   "metadata": {},
   "outputs": [
    {
     "data": {
      "text/plain": [
       "Text(0, 0.5, 'Predicted/Actual')"
      ]
     },
     "execution_count": 92,
     "metadata": {},
     "output_type": "execute_result"
    },
    {
     "data": {
      "image/png": "[encoded data removed]",
      "text/plain": [
       "<Figure size 432x360 with 1 Axes>"
      ]
     },
     "metadata": {
      "needs_background": "light"
     },
     "output_type": "display_data"
    }
   ],
   "source": [
    "fig, ax=plt.subplots(1, 1, figsize=(6, 5))\n",
    "\n",
    "ax.plot(y_test_df_sum['score_cut'], y_test_df_sum['y_pred'], label='Predicted', color='red')\n",
    "ax.plot(y_test_df_sum['score_cut'], y_test_df_sum['y'], label='Actual', color='blue')\n",
    "ax.set_title('Predicted vs Actual')\n",
    "ax.legend(loc='upper right')\n",
    "ax.set_xlabel('Score Bin')\n",
    "ax.set_ylabel('Predicted/Actual')"
   ]
  },
  {
   "cell_type": "markdown",
   "id": "322df36a",
   "metadata": {},
   "source": [
    "### Part 3: Convoluted Neural Network (CNN)\n",
    "#### 3.1: Set up the CNN model structure"
   ]
  },
  {
   "cell_type": "code",
   "execution_count": 103,
   "id": "051a35d8",
   "metadata": {},
   "outputs": [],
   "source": [
    "# define an object for the model\n",
    "model=tf.keras.models.Sequential()"
   ]
  },
  {
   "cell_type": "code",
   "execution_count": 104,
   "id": "4d99dfae",
   "metadata": {},
   "outputs": [],
   "source": [
    "# 1st CNN layer\n",
    "# input shape should correpond to number of input variables\n",
    "model.add(tf.keras.layers.Conv1D(filters=32, kernel_size=2, padding='same', activation='relu', input_shape=(9, 1)))\n",
    "\n",
    "# batch normalization \n",
    "model.add(tf.keras.layers.BatchNormalization())\n",
    "\n",
    "# maxpool layer\n",
    "model.add(tf.keras.layers.MaxPool1D(pool_size=2))\n",
    "\n",
    "# dropout layer\n",
    "# This layer deliberately exclude some data so that the model will not overfit\n",
    "# Usually select 0.2-0.5 as the dropout rate\n",
    "model.add(tf.keras.layers.Dropout(0.2))\n",
    "\n",
    "# 2nd CNN layer\n",
    "model.add(tf.keras.layers.Conv1D(filters=64, kernel_size=2, padding='same', activation='relu'))\n",
    "\n",
    "# batch normalization \n",
    "model.add(tf.keras.layers.BatchNormalization())\n",
    "\n",
    "# maxpool layer\n",
    "model.add(tf.keras.layers.MaxPool1D(pool_size=2))\n",
    "\n",
    "# dropout layer\n",
    "model.add(tf.keras.layers.Dropout(0.3))"
   ]
  },
  {
   "cell_type": "code",
   "execution_count": 105,
   "id": "ce556697",
   "metadata": {},
   "outputs": [],
   "source": [
    "# flatten layer\n",
    "model.add(tf.keras.layers.Flatten())"
   ]
  },
  {
   "cell_type": "code",
   "execution_count": 106,
   "id": "b0c9af8c",
   "metadata": {},
   "outputs": [],
   "source": [
    "# first dense layer\n",
    "model.add(tf.keras.layers.Dense(units=64, activation='relu'))\n",
    "\n",
    "# dropout layer\n",
    "model.add(tf.keras.layers.Dropout(0.3))"
   ]
  },
  {
   "cell_type": "code",
   "execution_count": 107,
   "id": "9b9c4b7a",
   "metadata": {},
   "outputs": [],
   "source": [
    "# output layer\n",
    "model.add(tf.keras.layers.Dense(units=1, activation='sigmoid'))"
   ]
  },
  {
   "cell_type": "code",
   "execution_count": 108,
   "id": "343c0d36",
   "metadata": {},
   "outputs": [
    {
     "name": "stdout",
     "output_type": "stream",
     "text": [
      "Model: \"sequential_5\"\n",
      "_________________________________________________________________\n",
      " Layer (type)                Output Shape              Param #   \n",
      "=================================================================\n",
      " conv1d_3 (Conv1D)           (None, 9, 32)             96        \n",
      "                                                                 \n",
      " batch_normalization_2 (Batc  (None, 9, 32)            128       \n",
      " hNormalization)                                                 \n",
      "                                                                 \n",
      " max_pooling1d_2 (MaxPooling  (None, 4, 32)            0         \n",
      " 1D)                                                             \n",
      "                                                                 \n",
      " dropout_3 (Dropout)         (None, 4, 32)             0         \n",
      "                                                                 \n",
      " conv1d_4 (Conv1D)           (None, 4, 64)             4160      \n",
      "                                                                 \n",
      " batch_normalization_3 (Batc  (None, 4, 64)            256       \n",
      " hNormalization)                                                 \n",
      "                                                                 \n",
      " max_pooling1d_3 (MaxPooling  (None, 2, 64)            0         \n",
      " 1D)                                                             \n",
      "                                                                 \n",
      " dropout_4 (Dropout)         (None, 2, 64)             0         \n",
      "                                                                 \n",
      " flatten_1 (Flatten)         (None, 128)               0         \n",
      "                                                                 \n",
      " dense_14 (Dense)            (None, 64)                8256      \n",
      "                                                                 \n",
      " dropout_5 (Dropout)         (None, 64)                0         \n",
      "                                                                 \n",
      " dense_15 (Dense)            (None, 1)                 65        \n",
      "                                                                 \n",
      "=================================================================\n",
      "Total params: 12,961\n",
      "Trainable params: 12,769\n",
      "Non-trainable params: 192\n",
      "_________________________________________________________________\n"
     ]
    }
   ],
   "source": [
    "model.summary()"
   ]
  },
  {
   "cell_type": "code",
   "execution_count": 109,
   "id": "1dc3e1fa",
   "metadata": {},
   "outputs": [],
   "source": [
    "# learning rate is one of hyperparameters\n",
    "opt=tf.keras.optimizers.Adam(learning_rate=0.0001)"
   ]
  },
  {
   "cell_type": "code",
   "execution_count": 110,
   "id": "901591cb",
   "metadata": {},
   "outputs": [],
   "source": [
    "# compile the CNN model\n",
    "model.compile(optimizer=opt, loss='binary_crossentropy', metrics=['accuracy'])"
   ]
  },
  {
   "cell_type": "markdown",
   "id": "27067a6a",
   "metadata": {},
   "source": [
    "#### part 3.2: Run CNN model"
   ]
  },
  {
   "cell_type": "code",
   "execution_count": 111,
   "id": "4c05a002",
   "metadata": {},
   "outputs": [
    {
     "name": "stdout",
     "output_type": "stream",
     "text": [
      "Epoch 1/25\n",
      "2295/2295 [==============================] - 11s 4ms/step - loss: 0.1702 - accuracy: 0.9610 - val_loss: 0.1098 - val_accuracy: 0.9767\n",
      "Epoch 2/25\n",
      "2295/2295 [==============================] - 10s 4ms/step - loss: 0.1274 - accuracy: 0.9761 - val_loss: 0.1066 - val_accuracy: 0.9767\n",
      "Epoch 3/25\n",
      "2295/2295 [==============================] - 10s 4ms/step - loss: 0.1201 - accuracy: 0.9763 - val_loss: 0.1063 - val_accuracy: 0.9767\n",
      "Epoch 4/25\n",
      "2295/2295 [==============================] - 10s 4ms/step - loss: 0.1171 - accuracy: 0.9764 - val_loss: 0.1090 - val_accuracy: 0.9767\n",
      "Epoch 5/25\n",
      "2295/2295 [==============================] - 10s 4ms/step - loss: 0.1146 - accuracy: 0.9764 - val_loss: 0.1063 - val_accuracy: 0.9767\n",
      "Epoch 6/25\n",
      "2295/2295 [==============================] - 11s 5ms/step - loss: 0.1143 - accuracy: 0.9764 - val_loss: 0.1070 - val_accuracy: 0.9767\n",
      "Epoch 7/25\n",
      "2295/2295 [==============================] - 10s 4ms/step - loss: 0.1129 - accuracy: 0.9764 - val_loss: 0.1058 - val_accuracy: 0.9767\n",
      "Epoch 8/25\n",
      "2295/2295 [==============================] - 10s 4ms/step - loss: 0.1106 - accuracy: 0.9764 - val_loss: 0.1046 - val_accuracy: 0.9767\n",
      "Epoch 9/25\n",
      "2295/2295 [==============================] - 10s 4ms/step - loss: 0.1113 - accuracy: 0.9764 - val_loss: 0.1052 - val_accuracy: 0.9767\n",
      "Epoch 10/25\n",
      "2295/2295 [==============================] - 10s 4ms/step - loss: 0.1103 - accuracy: 0.9764 - val_loss: 0.1050 - val_accuracy: 0.9767\n",
      "Epoch 11/25\n",
      "2295/2295 [==============================] - 10s 4ms/step - loss: 0.1102 - accuracy: 0.9764 - val_loss: 0.1053 - val_accuracy: 0.9767\n",
      "Epoch 12/25\n",
      "2295/2295 [==============================] - 9s 4ms/step - loss: 0.1105 - accuracy: 0.9764 - val_loss: 0.1043 - val_accuracy: 0.9767\n",
      "Epoch 13/25\n",
      "2295/2295 [==============================] - 9s 4ms/step - loss: 0.1095 - accuracy: 0.9764 - val_loss: 0.1051 - val_accuracy: 0.9767\n",
      "Epoch 14/25\n",
      "2295/2295 [==============================] - 10s 4ms/step - loss: 0.1095 - accuracy: 0.9764 - val_loss: 0.1048 - val_accuracy: 0.9767\n",
      "Epoch 15/25\n",
      "2295/2295 [==============================] - 10s 4ms/step - loss: 0.1096 - accuracy: 0.9764 - val_loss: 0.1056 - val_accuracy: 0.9767\n",
      "Epoch 16/25\n",
      "2295/2295 [==============================] - 10s 4ms/step - loss: 0.1087 - accuracy: 0.9764 - val_loss: 0.1044 - val_accuracy: 0.9767\n",
      "Epoch 17/25\n",
      "2295/2295 [==============================] - 10s 4ms/step - loss: 0.1085 - accuracy: 0.9764 - val_loss: 0.1046 - val_accuracy: 0.9767\n",
      "Epoch 18/25\n",
      "2295/2295 [==============================] - 10s 4ms/step - loss: 0.1086 - accuracy: 0.9764 - val_loss: 0.1035 - val_accuracy: 0.9767\n",
      "Epoch 19/25\n",
      "2295/2295 [==============================] - 10s 4ms/step - loss: 0.1078 - accuracy: 0.9764 - val_loss: 0.1030 - val_accuracy: 0.9767\n",
      "Epoch 20/25\n",
      "2295/2295 [==============================] - 10s 4ms/step - loss: 0.1083 - accuracy: 0.9764 - val_loss: 0.1035 - val_accuracy: 0.9767\n",
      "Epoch 21/25\n",
      "2295/2295 [==============================] - 10s 4ms/step - loss: 0.1082 - accuracy: 0.9764 - val_loss: 0.1038 - val_accuracy: 0.9767\n",
      "Epoch 22/25\n",
      "2295/2295 [==============================] - 10s 4ms/step - loss: 0.1078 - accuracy: 0.9764 - val_loss: 0.1035 - val_accuracy: 0.9767\n",
      "Epoch 23/25\n",
      "2295/2295 [==============================] - 10s 4ms/step - loss: 0.1077 - accuracy: 0.9764 - val_loss: 0.1037 - val_accuracy: 0.9767\n",
      "Epoch 24/25\n",
      "2295/2295 [==============================] - 10s 4ms/step - loss: 0.1079 - accuracy: 0.9764 - val_loss: 0.1031 - val_accuracy: 0.9767\n",
      "Epoch 25/25\n",
      "2295/2295 [==============================] - 10s 4ms/step - loss: 0.1078 - accuracy: 0.9764 - val_loss: 0.1042 - val_accuracy: 0.9767\n"
     ]
    }
   ],
   "source": [
    "history=model.fit(x_train, y_train, epochs=25, validation_data=(x_test, y_test))"
   ]
  },
  {
   "cell_type": "code",
   "execution_count": 112,
   "id": "7478ee00",
   "metadata": {},
   "outputs": [
    {
     "name": "stdout",
     "output_type": "stream",
     "text": [
      "984/984 [==============================] - 2s 2ms/step\n"
     ]
    }
   ],
   "source": [
    "# model predictions\n",
    "y_pred=model.predict(x_test)\n",
    "classes_y=np.argmax(y_pred, axis=1)"
   ]
  },
  {
   "cell_type": "code",
   "execution_count": 113,
   "id": "d82f058b",
   "metadata": {},
   "outputs": [
    {
     "name": "stdout",
     "output_type": "stream",
     "text": [
      "[[30728     0]\n",
      " [  734     0]]\n"
     ]
    }
   ],
   "source": [
    "from sklearn.metrics import confusion_matrix, accuracy_score\n",
    "cm=confusion_matrix(y_test, classes_y)\n",
    "print(cm)"
   ]
  },
  {
   "cell_type": "code",
   "execution_count": 114,
   "id": "56d4b96c",
   "metadata": {},
   "outputs": [
    {
     "name": "stdout",
     "output_type": "stream",
     "text": [
      "0.9766702688958108\n"
     ]
    }
   ],
   "source": [
    "acc_cm=accuracy_score(y_test, classes_y)\n",
    "print(acc_cm)"
   ]
  },
  {
   "cell_type": "code",
   "execution_count": 115,
   "id": "d439c639",
   "metadata": {},
   "outputs": [],
   "source": [
    "# Learning curve\n",
    "def learning_curve(history, epoch):\n",
    "    # training vs validation accuracy\n",
    "    epoch_range=range(1, epoch+1)\n",
    "    plt.plot(epoch_range, history.history['accuracy'])\n",
    "    plt.plot(epoch_range, history.history['val_accuracy'])\n",
    "    plt.title('Model Accuracy')\n",
    "    plt.ylabel('Accuracy')\n",
    "    plt.xlabel('Epoch')\n",
    "    plt.legend(['Training', 'Validation'], loc='upper left')\n",
    "    plt.show()\n",
    "    \n",
    "\n",
    "    # training vs validation loss\n",
    "    epoch_range=range(1, epoch+1)\n",
    "    plt.plot(epoch_range, history.history['loss'])\n",
    "    plt.plot(epoch_range, history.history['val_loss'])\n",
    "    plt.title('LOss')\n",
    "    plt.ylabel('Loss')\n",
    "    plt.xlabel('Epoch')\n",
    "    plt.legend(['Training', 'Validation'], loc='upper left')\n",
    "    plt.show()"
   ]
  },
  {
   "cell_type": "code",
   "execution_count": 116,
   "id": "750a15c0",
   "metadata": {},
   "outputs": [
    {
     "data": {
      "image/png": "[encoded data removed]",
      "text/plain": [
       "<Figure size 432x288 with 1 Axes>"
      ]
     },
     "metadata": {
      "needs_background": "light"
     },
     "output_type": "display_data"
    },
    {
     "data": {
      "image/png": "[encoded data removed]",
      "text/plain": [
       "<Figure size 432x288 with 1 Axes>"
      ]
     },
     "metadata": {
      "needs_background": "light"
     },
     "output_type": "display_data"
    }
   ],
   "source": [
    "learning_curve(history, 25)"
   ]
  },
  {
   "cell_type": "code",
   "execution_count": 117,
   "id": "306e0347",
   "metadata": {},
   "outputs": [],
   "source": [
    "y_pred_df=pd.DataFrame(y_pred)\n",
    "y_pred_df.columns=['y_pred']"
   ]
  },
  {
   "cell_type": "code",
   "execution_count": 118,
   "id": "46c4c9b4",
   "metadata": {},
   "outputs": [],
   "source": [
    "y_test_df=pd.DataFrame(y_test)\n",
    "y_test_df.columns=['y']"
   ]
  },
  {
   "cell_type": "code",
   "execution_count": 119,
   "id": "ba3a4dfb",
   "metadata": {},
   "outputs": [],
   "source": [
    "y_test_df['y_pred']=y_pred_df"
   ]
  },
  {
   "cell_type": "code",
   "execution_count": 120,
   "id": "ebb85b0a",
   "metadata": {},
   "outputs": [
    {
     "name": "stdout",
     "output_type": "stream",
     "text": [
      "<class 'pandas.core.frame.DataFrame'>\n",
      "RangeIndex: 31462 entries, 0 to 31461\n",
      "Data columns (total 2 columns):\n",
      " #   Column  Non-Null Count  Dtype  \n",
      "---  ------  --------------  -----  \n",
      " 0   y       31462 non-null  int32  \n",
      " 1   y_pred  31462 non-null  float32\n",
      "dtypes: float32(1), int32(1)\n",
      "memory usage: 245.9 KB\n"
     ]
    }
   ],
   "source": [
    "y_test_df.info()"
   ]
  },
  {
   "cell_type": "code",
   "execution_count": 123,
   "id": "68ce3a67",
   "metadata": {},
   "outputs": [],
   "source": [
    "num_bins=10\n",
    "\n",
    "binlabels=list(range(0, num_bins))\n",
    "\n",
    "y_test_df['score_cut']=pd.qcut(y_test_df['y_pred'], q=num_bins, labels=binlabels)"
   ]
  },
  {
   "cell_type": "code",
   "execution_count": 124,
   "id": "16aed274",
   "metadata": {},
   "outputs": [
    {
     "name": "stderr",
     "output_type": "stream",
     "text": [
      "C:\\Users\\aleci\\anaconda3\\lib\\site-packages\\seaborn\\_decorators.py:36: FutureWarning: Pass the following variables as keyword args: x, y. From version 0.12, the only valid positional argument will be `data`, and passing other arguments without an explicit keyword will result in an error or misinterpretation.\n",
      "  warnings.warn(\n"
     ]
    },
    {
     "data": {
      "text/plain": [
       "<AxesSubplot:xlabel='score_cut', ylabel='y'>"
      ]
     },
     "execution_count": 124,
     "metadata": {},
     "output_type": "execute_result"
    },
    {
     "data": {
      "image/png": "[encoded data removed]",
      "text/plain": [
       "<Figure size 864x360 with 1 Axes>"
      ]
     },
     "metadata": {
      "needs_background": "light"
     },
     "output_type": "display_data"
    }
   ],
   "source": [
    "fig=plt.figure(figsize=(12, 5))\n",
    "\n",
    "y_test_df_sum=y_test_df.groupby('score_cut')[['y_pred', 'y']].mean().reset_index()\n",
    "y_test_df_sum['score_cut']=y_test_df_sum['score_cut'].astype(int)\n",
    "y_test_df_sum['score_cut']=num_bins-y_test_df_sum['score_cut']\n",
    "\n",
    "sns.barplot(y_test_df_sum['score_cut'], y_test_df_sum['y'])"
   ]
  },
  {
   "cell_type": "code",
   "execution_count": 125,
   "id": "50bf4dfc",
   "metadata": {},
   "outputs": [
    {
     "data": {
      "text/plain": [
       "Text(0, 0.5, 'Predicted/Actual')"
      ]
     },
     "execution_count": 125,
     "metadata": {},
     "output_type": "execute_result"
    },
    {
     "data": {
      "image/png": "[encoded data removed]",
      "text/plain": [
       "<Figure size 432x360 with 1 Axes>"
      ]
     },
     "metadata": {
      "needs_background": "light"
     },
     "output_type": "display_data"
    }
   ],
   "source": [
    "fig, ax=plt.subplots(1, 1, figsize=(6, 5))\n",
    "\n",
    "ax.plot(y_test_df_sum['score_cut'], y_test_df_sum['y_pred'], label='Predicted', color='red')\n",
    "ax.plot(y_test_df_sum['score_cut'], y_test_df_sum['y'], label='Actual', color='blue')\n",
    "ax.set_title('Predicted vs Actual')\n",
    "ax.legend(loc='upper right')\n",
    "ax.set_xlabel('Score Bin')\n",
    "ax.set_ylabel('Predicted/Actual')"
   ]
  },
  {
   "cell_type": "code",
   "execution_count": null,
   "id": "c2aa425c",
   "metadata": {},
   "outputs": [],
   "source": []
  }
 ],
 "metadata": {
  "kernelspec": {
   "display_name": "Python 3 (ipykernel)",
   "language": "python",
   "name": "python3"
  },
  "language_info": {
   "codemirror_mode": {
    "name": "ipython",
    "version": 3
   },
   "file_extension": ".py",
   "mimetype": "text/x-python",
   "name": "python",
   "nbconvert_exporter": "python",
   "pygments_lexer": "ipython3",
   "version": "3.9.7"
  }
 },
 "nbformat": 4,
 "nbformat_minor": 5
}
