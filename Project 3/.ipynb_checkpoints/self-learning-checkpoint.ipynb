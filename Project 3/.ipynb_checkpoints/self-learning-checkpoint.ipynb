{
 "cells": [
  {
   "cell_type": "code",
   "execution_count": 1,
   "id": "3e73270e-9154-4a78-a457-f46827b6ae88",
   "metadata": {},
   "outputs": [],
   "source": [
    "import pandas as pd\n",
    "from pandas import DataFrame\n",
    "import numpy as np\n",
    "import matplotlib.pyplot as plt\n",
    "import seaborn as sns"
   ]
  },
  {
   "cell_type": "code",
   "execution_count": null,
   "id": "04d70ee1-5850-478d-8f65-ebe6cc18b369",
   "metadata": {},
   "outputs": [],
   "source": [
    "# Part 0: Extract data fro five states\n",
    "path = r'C:\\Users\\ellen\\Desktop\\Data Analysis with Python\\Project 3 - data\\data\\\\'\n",
    "\n",
    "columns=[\"POOL_ID\", \"LOAN_ID\", \"ACT_PERIOD\", \"CHANNEL\", \"SELLER\", \"SERVICER\",\n",
    "                        \"MASTER_SERVICER\", \"ORIG_RATE\", \"CURR_RATE\", \"ORIG_UPB\", \"ISSUANCE_UPB\",\n",
    "                        \"CURRENT_UPB\", \"ORIG_TERM\", \"ORIG_DATE\", \"FIRST_PAY\", \"LOAN_AGE\",\n",
    "                        \"REM_MONTHS\", \"ADJ_REM_MONTHS\", \"MATR_DT\", \"OLTV\", \"OCLTV\",\n",
    "                        \"NUM_BO\", \"DTI\", \"CSCORE_B\", \"CSCORE_C\", \"FIRST_FLAG\", \"PURPOSE\",\n",
    "                        \"PROP\", \"NO_UNITS\", \"OCC_STAT\", \"STATE\", \"MSA\", \"ZIP\", \"MI_PCT\",\n",
    "                        \"PRODUCT\", \"PPMT_FLG\", \"IO\", \"FIRST_PAY_IO\", \"MNTHS_TO_AMTZ_IO\",\n",
    "                        \"DLQ_STATUS\", \"PMT_HISTORY\", \"MOD_FLAG\", \"MI_CANCEL_FLAG\", \"Zero_Bal_Code\",\n",
    "                        \"ZB_DTE\", \"LAST_UPB\", \"RPRCH_DTE\", \"CURR_SCHD_PRNCPL\", \"TOT_SCHD_PRNCPL\",\n",
    "                        \"UNSCHD_PRNCPL_CURR\", \"LAST_PAID_INSTALLMENT_DATE\", \"FORECLOSURE_DATE\",\n",
    "                        \"DISPOSITION_DATE\", \"FORECLOSURE_COSTS\", \"PROPERTY_PRESERVATION_AND_REPAIR_COSTS\",\n",
    "                        \"ASSET_RECOVERY_COSTS\", \"MISCELLANEOUS_HOLDING_EXPENSES_AND_CREDITS\",\n",
    "                        \"ASSOCIATED_TAXES_FOR_HOLDING_PROPERTY\", \"NET_SALES_PROCEEDS\",\n",
    "                        \"CREDIT_ENHANCEMENT_PROCEEDS\", \"REPURCHASES_MAKE_WHOLE_PROCEEDS\",\n",
    "                        \"OTHER_FORECLOSURE_PROCEEDS\", \"NON_INTEREST_BEARING_UPB\", \"PRINCIPAL_FORGIVENESS_AMOUNT\",\n",
    "                        \"ORIGINAL_LIST_START_DATE\", \"ORIGINAL_LIST_PRICE\", \"CURRENT_LIST_START_DATE\",\n",
    "                        \"CURRENT_LIST_PRICE\", \"ISSUE_SCOREB\", \"ISSUE_SCOREC\", \"CURR_SCOREB\",\n",
    "                        \"CURR_SCOREC\", \"MI_TYPE\", \"SERV_IND\", \"CURRENT_PERIOD_MODIFICATION_LOSS_AMOUNT\",\n",
    "                        \"CUMULATIVE_MODIFICATION_LOSS_AMOUNT\", \"CURRENT_PERIOD_CREDIT_EVENT_NET_GAIN_OR_LOSS\",\n",
    "                        \"CUMULATIVE_CREDIT_EVENT_NET_GAIN_OR_LOSS\", \"HOMEREADY_PROGRAM_INDICATOR\",\n",
    "                        \"FORECLOSURE_PRINCIPAL_WRITE_OFF_AMOUNT\", \"RELOCATION_MORTGAGE_INDICATOR\",\n",
    "                        \"ZERO_BALANCE_CODE_CHANGE_DATE\", \"LOAN_HOLDBACK_INDICATOR\", \"LOAN_HOLDBACK_EFFECTIVE_DATE\",\n",
    "                        \"DELINQUENT_ACCRUED_INTEREST\", \"PROPERTY_INSPECTION_WAIVER_INDICATOR\",\n",
    "                        \"HIGH_BALANCE_LOAN_INDICATOR\", \"ARM_5_YR_INDICATOR\", \"ARM_PRODUCT_TYPE\",\n",
    "                        \"MONTHS_UNTIL_FIRST_PAYMENT_RESET\", \"MONTHS_BETWEEN_SUBSEQUENT_PAYMENT_RESET\",\n",
    "                        \"INTEREST_RATE_CHANGE_DATE\", \"PAYMENT_CHANGE_DATE\", \"ARM_INDEX\",\n",
    "                        \"ARM_CAP_STRUCTURE\", \"INITIAL_INTEREST_RATE_CAP\", \"PERIODIC_INTEREST_RATE_CAP\",\n",
    "                        \"LIFETIME_INTEREST_RATE_CAP\", \"MARGIN\", \"BALLOON_INDICATOR\",\n",
    "                        \"PLAN_NUMBER\", \"FORBEARANCE_INDICATOR\", \"HIGH_LOAN_TO_VALUE_HLTV_REFINANCE_OPTION_INDICATOR\",\n",
    "                        \"DEAL_NAME\", \"RE_PROCS_FLAG\", \"ADR_TYPE\", \"ADR_COUNT\", \"ADR_UPB\"]\n",
    "\n",
    "# Because the original data in csv file is too large, we need to read in by chunk\n",
    "chunk_size = 10000\n",
    "\n",
    "def getfile(year_quarter, state_name):\n",
    "    mylist = []\n",
    "    for chunk in pd.read_csv(path + '20' + str(year_quarter) + '.csv', sep = '|', names = columns, header = None,\n",
    "                            low_memory = False, error_bad_lines = False, chunksize = chunk_size):\n",
    "        chunk = chunk[chunk['STATE'] == state_name]\n",
    "        mylist.append(chunk)\n",
    "    file = pd.concat(mylist, axis = 0)\n",
    "    \n",
    "    # Export the output file to csv so that we do not need to repeat the same exercise when we need to use the same data next time\n",
    "    file.to_csv(path + 'file_20' + str(year_quarter) + '_' + str(state_name) + '.csv', index = False)\n",
    "    return file\n",
    "\n"
   ]
  }
 ],
 "metadata": {
  "kernelspec": {
   "display_name": "Python 3",
   "language": "python",
   "name": "python3"
  },
  "language_info": {
   "codemirror_mode": {
    "name": "ipython",
    "version": 3
   },
   "file_extension": ".py",
   "mimetype": "text/x-python",
   "name": "python",
   "nbconvert_exporter": "python",
   "pygments_lexer": "ipython3",
   "version": "3.8.8"
  }
 },
 "nbformat": 4,
 "nbformat_minor": 5
}
