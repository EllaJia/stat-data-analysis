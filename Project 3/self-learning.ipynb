{
 "cells": [
  {
   "cell_type": "code",
   "execution_count": 1,
   "id": "3e73270e-9154-4a78-a457-f46827b6ae88",
   "metadata": {},
   "outputs": [],
   "source": [
    "import pandas as pd\n",
    "from pandas import DataFrame\n",
    "import numpy as np\n",
    "import matplotlib.pyplot as plt\n",
    "import seaborn as sns"
   ]
  },
  {
   "cell_type": "code",
   "execution_count": 2,
   "id": "04d70ee1-5850-478d-8f65-ebe6cc18b369",
   "metadata": {},
   "outputs": [],
   "source": [
    "# Part 0: Extract data fro five states\n",
    "path = r'C:\\Users\\ellen\\Desktop\\Data Analysis with Python\\Project 3 - data\\data\\\\'\n",
    "\n",
    "columns=[\"POOL_ID\", \"LOAN_ID\", \"ACT_PERIOD\", \"CHANNEL\", \"SELLER\", \"SERVICER\",\n",
    "                        \"MASTER_SERVICER\", \"ORIG_RATE\", \"CURR_RATE\", \"ORIG_UPB\", \"ISSUANCE_UPB\",\n",
    "                        \"CURRENT_UPB\", \"ORIG_TERM\", \"ORIG_DATE\", \"FIRST_PAY\", \"LOAN_AGE\",\n",
    "                        \"REM_MONTHS\", \"ADJ_REM_MONTHS\", \"MATR_DT\", \"OLTV\", \"OCLTV\",\n",
    "                        \"NUM_BO\", \"DTI\", \"CSCORE_B\", \"CSCORE_C\", \"FIRST_FLAG\", \"PURPOSE\",\n",
    "                        \"PROP\", \"NO_UNITS\", \"OCC_STAT\", \"STATE\", \"MSA\", \"ZIP\", \"MI_PCT\",\n",
    "                        \"PRODUCT\", \"PPMT_FLG\", \"IO\", \"FIRST_PAY_IO\", \"MNTHS_TO_AMTZ_IO\",\n",
    "                        \"DLQ_STATUS\", \"PMT_HISTORY\", \"MOD_FLAG\", \"MI_CANCEL_FLAG\", \"Zero_Bal_Code\",\n",
    "                        \"ZB_DTE\", \"LAST_UPB\", \"RPRCH_DTE\", \"CURR_SCHD_PRNCPL\", \"TOT_SCHD_PRNCPL\",\n",
    "                        \"UNSCHD_PRNCPL_CURR\", \"LAST_PAID_INSTALLMENT_DATE\", \"FORECLOSURE_DATE\",\n",
    "                        \"DISPOSITION_DATE\", \"FORECLOSURE_COSTS\", \"PROPERTY_PRESERVATION_AND_REPAIR_COSTS\",\n",
    "                        \"ASSET_RECOVERY_COSTS\", \"MISCELLANEOUS_HOLDING_EXPENSES_AND_CREDITS\",\n",
    "                        \"ASSOCIATED_TAXES_FOR_HOLDING_PROPERTY\", \"NET_SALES_PROCEEDS\",\n",
    "                        \"CREDIT_ENHANCEMENT_PROCEEDS\", \"REPURCHASES_MAKE_WHOLE_PROCEEDS\",\n",
    "                        \"OTHER_FORECLOSURE_PROCEEDS\", \"NON_INTEREST_BEARING_UPB\", \"PRINCIPAL_FORGIVENESS_AMOUNT\",\n",
    "                        \"ORIGINAL_LIST_START_DATE\", \"ORIGINAL_LIST_PRICE\", \"CURRENT_LIST_START_DATE\",\n",
    "                        \"CURRENT_LIST_PRICE\", \"ISSUE_SCOREB\", \"ISSUE_SCOREC\", \"CURR_SCOREB\",\n",
    "                        \"CURR_SCOREC\", \"MI_TYPE\", \"SERV_IND\", \"CURRENT_PERIOD_MODIFICATION_LOSS_AMOUNT\",\n",
    "                        \"CUMULATIVE_MODIFICATION_LOSS_AMOUNT\", \"CURRENT_PERIOD_CREDIT_EVENT_NET_GAIN_OR_LOSS\",\n",
    "                        \"CUMULATIVE_CREDIT_EVENT_NET_GAIN_OR_LOSS\", \"HOMEREADY_PROGRAM_INDICATOR\",\n",
    "                        \"FORECLOSURE_PRINCIPAL_WRITE_OFF_AMOUNT\", \"RELOCATION_MORTGAGE_INDICATOR\",\n",
    "                        \"ZERO_BALANCE_CODE_CHANGE_DATE\", \"LOAN_HOLDBACK_INDICATOR\", \"LOAN_HOLDBACK_EFFECTIVE_DATE\",\n",
    "                        \"DELINQUENT_ACCRUED_INTEREST\", \"PROPERTY_INSPECTION_WAIVER_INDICATOR\",\n",
    "                        \"HIGH_BALANCE_LOAN_INDICATOR\", \"ARM_5_YR_INDICATOR\", \"ARM_PRODUCT_TYPE\",\n",
    "                        \"MONTHS_UNTIL_FIRST_PAYMENT_RESET\", \"MONTHS_BETWEEN_SUBSEQUENT_PAYMENT_RESET\",\n",
    "                        \"INTEREST_RATE_CHANGE_DATE\", \"PAYMENT_CHANGE_DATE\", \"ARM_INDEX\",\n",
    "                        \"ARM_CAP_STRUCTURE\", \"INITIAL_INTEREST_RATE_CAP\", \"PERIODIC_INTEREST_RATE_CAP\",\n",
    "                        \"LIFETIME_INTEREST_RATE_CAP\", \"MARGIN\", \"BALLOON_INDICATOR\",\n",
    "                        \"PLAN_NUMBER\", \"FORBEARANCE_INDICATOR\", \"HIGH_LOAN_TO_VALUE_HLTV_REFINANCE_OPTION_INDICATOR\",\n",
    "                        \"DEAL_NAME\", \"RE_PROCS_FLAG\", \"ADR_TYPE\", \"ADR_COUNT\", \"ADR_UPB\"]\n",
    "\n",
    "# Because the original data in csv file is too large, we need to read in by chunk\n",
    "chunk_size = 10000\n",
    "\n",
    "def getfile(year_quarter, state_name):\n",
    "    mylist = []\n",
    "    for chunk in pd.read_csv(path + '20' + str(year_quarter) + '.csv', sep = '|', names = columns, header = None,\n",
    "                            low_memory = False, error_bad_lines = False, chunksize = chunk_size):\n",
    "        chunk = chunk[chunk['STATE'] == state_name]\n",
    "        mylist.append(chunk)\n",
    "    file = pd.concat(mylist, axis = 0)\n",
    "    \n",
    "    # Export the output file to csv so that we do not need to repeat the same exercise when we need to use the same data next time\n",
    "    file.to_csv(path + 'file_20' + str(year_quarter) + '_' + str(state_name) + '.csv', index = False)\n",
    "    return file\n",
    "\n",
    "file_2008q1_MI = getfile(\"08Q1\", \"MI\")\n",
    "file_2018q1_MI = getfile(\"18Q1\", \"MI\")\n",
    "\n",
    "file_2008q1_CO = getfile(\"08Q1\", \"CO\")\n",
    "file_2018q1_CO = getfile(\"18Q1\", \"CO\")\n",
    "\n",
    "file_2008q1_GA = getfile(\"08Q1\", \"GA\")\n",
    "file_2018q1_GA = getfile(\"18Q1\", \"GA\")\n",
    "\n",
    "file_2008q1_OH = getfile(\"08Q1\", \"OH\")\n",
    "file_2018q1_OH = getfile(\"18Q1\", \"OH\")\n",
    "\n",
    "file_2008q1_VA = getfile(\"08Q1\", 'VA') \n",
    "file_2018q1_VA = getfile(\"18Q1\", 'VA') "
   ]
  },
  {
   "cell_type": "code",
   "execution_count": 5,
   "id": "aa308584-593e-4ce7-901e-aab0d1884d5d",
   "metadata": {},
   "outputs": [],
   "source": [
    "# part 1: read in data\n",
    "file_2008q1_MI = pd.read_csv(path + 'file_2008Q1_MI.csv')\n",
    "file_2018q1_MI = pd.read_csv(path + 'file_2018Q1_MI.csv')\n",
    "file_2008q1_OH = pd.read_csv(path + 'file_2008Q1_OH.csv')\n",
    "file_2008q1_VA = pd.read_csv(path + 'file_2008Q1_VA.csv')\n",
    "file_2008q1_GA = pd.read_csv(path + 'file_2008Q1_GA.csv')\n",
    "file_2018q1_OH = pd.read_csv(path + 'file_2018Q1_OH.csv')\n",
    "file_2018q1_VA = pd.read_csv(path + 'file_2018Q1_VA.csv')\n",
    "file_2018q1_GA = pd.read_csv(path + 'file_2018Q1_GA.csv')\n",
    "file_2008q1 = pd.concat([file_2008q1_OH, file_2008q1_VA, file_2008q1_GA, file_2008q1_MI])\n",
    "file_2018q1 = pd.concat([file_2018q1_OH, file_2018q1_VA, file_2018q1_GA, file_2018q1_MI])"
   ]
  },
  {
   "cell_type": "code",
   "execution_count": 6,
   "id": "1f865812-df4a-4563-b598-c92897d9208f",
   "metadata": {},
   "outputs": [
    {
     "data": {
      "text/html": [
       "<div>\n",
       "<style scoped>\n",
       "    .dataframe tbody tr th:only-of-type {\n",
       "        vertical-align: middle;\n",
       "    }\n",
       "\n",
       "    .dataframe tbody tr th {\n",
       "        vertical-align: top;\n",
       "    }\n",
       "\n",
       "    .dataframe thead th {\n",
       "        text-align: right;\n",
       "    }\n",
       "</style>\n",
       "<table border=\"1\" class=\"dataframe\">\n",
       "  <thead>\n",
       "    <tr style=\"text-align: right;\">\n",
       "      <th></th>\n",
       "      <th>POOL_ID</th>\n",
       "      <th>LOAN_ID</th>\n",
       "      <th>ACT_PERIOD</th>\n",
       "      <th>CHANNEL</th>\n",
       "      <th>SELLER</th>\n",
       "      <th>SERVICER</th>\n",
       "      <th>MASTER_SERVICER</th>\n",
       "      <th>ORIG_RATE</th>\n",
       "      <th>CURR_RATE</th>\n",
       "      <th>ORIG_UPB</th>\n",
       "      <th>...</th>\n",
       "      <th>MARGIN</th>\n",
       "      <th>BALLOON_INDICATOR</th>\n",
       "      <th>PLAN_NUMBER</th>\n",
       "      <th>FORBEARANCE_INDICATOR</th>\n",
       "      <th>HIGH_LOAN_TO_VALUE_HLTV_REFINANCE_OPTION_INDICATOR</th>\n",
       "      <th>DEAL_NAME</th>\n",
       "      <th>RE_PROCS_FLAG</th>\n",
       "      <th>ADR_TYPE</th>\n",
       "      <th>ADR_COUNT</th>\n",
       "      <th>ADR_UPB</th>\n",
       "    </tr>\n",
       "  </thead>\n",
       "  <tbody>\n",
       "    <tr>\n",
       "      <th>0</th>\n",
       "      <td>NaN</td>\n",
       "      <td>100001040173</td>\n",
       "      <td>22018</td>\n",
       "      <td>R</td>\n",
       "      <td>Quicken Loans, Llc</td>\n",
       "      <td>Quicken Loans Inc.</td>\n",
       "      <td>NaN</td>\n",
       "      <td>4.25</td>\n",
       "      <td>4.25</td>\n",
       "      <td>453000.0</td>\n",
       "      <td>...</td>\n",
       "      <td>NaN</td>\n",
       "      <td>NaN</td>\n",
       "      <td>NaN</td>\n",
       "      <td>NaN</td>\n",
       "      <td>N</td>\n",
       "      <td>NaN</td>\n",
       "      <td>NaN</td>\n",
       "      <td>NaN</td>\n",
       "      <td>NaN</td>\n",
       "      <td>NaN</td>\n",
       "    </tr>\n",
       "    <tr>\n",
       "      <th>1</th>\n",
       "      <td>NaN</td>\n",
       "      <td>100001040173</td>\n",
       "      <td>32018</td>\n",
       "      <td>R</td>\n",
       "      <td>Quicken Loans, Llc</td>\n",
       "      <td>Quicken Loans Inc.</td>\n",
       "      <td>NaN</td>\n",
       "      <td>4.25</td>\n",
       "      <td>4.25</td>\n",
       "      <td>453000.0</td>\n",
       "      <td>...</td>\n",
       "      <td>NaN</td>\n",
       "      <td>NaN</td>\n",
       "      <td>NaN</td>\n",
       "      <td>NaN</td>\n",
       "      <td>N</td>\n",
       "      <td>NaN</td>\n",
       "      <td>NaN</td>\n",
       "      <td>NaN</td>\n",
       "      <td>NaN</td>\n",
       "      <td>NaN</td>\n",
       "    </tr>\n",
       "    <tr>\n",
       "      <th>2</th>\n",
       "      <td>NaN</td>\n",
       "      <td>100001040173</td>\n",
       "      <td>42018</td>\n",
       "      <td>R</td>\n",
       "      <td>Quicken Loans, Llc</td>\n",
       "      <td>Quicken Loans Inc.</td>\n",
       "      <td>NaN</td>\n",
       "      <td>4.25</td>\n",
       "      <td>4.25</td>\n",
       "      <td>453000.0</td>\n",
       "      <td>...</td>\n",
       "      <td>NaN</td>\n",
       "      <td>NaN</td>\n",
       "      <td>NaN</td>\n",
       "      <td>NaN</td>\n",
       "      <td>N</td>\n",
       "      <td>NaN</td>\n",
       "      <td>NaN</td>\n",
       "      <td>NaN</td>\n",
       "      <td>NaN</td>\n",
       "      <td>NaN</td>\n",
       "    </tr>\n",
       "    <tr>\n",
       "      <th>3</th>\n",
       "      <td>NaN</td>\n",
       "      <td>100001040173</td>\n",
       "      <td>52018</td>\n",
       "      <td>R</td>\n",
       "      <td>Quicken Loans, Llc</td>\n",
       "      <td>Quicken Loans Inc.</td>\n",
       "      <td>NaN</td>\n",
       "      <td>4.25</td>\n",
       "      <td>4.25</td>\n",
       "      <td>453000.0</td>\n",
       "      <td>...</td>\n",
       "      <td>NaN</td>\n",
       "      <td>NaN</td>\n",
       "      <td>NaN</td>\n",
       "      <td>NaN</td>\n",
       "      <td>N</td>\n",
       "      <td>NaN</td>\n",
       "      <td>NaN</td>\n",
       "      <td>NaN</td>\n",
       "      <td>NaN</td>\n",
       "      <td>NaN</td>\n",
       "    </tr>\n",
       "    <tr>\n",
       "      <th>4</th>\n",
       "      <td>NaN</td>\n",
       "      <td>100001040173</td>\n",
       "      <td>62018</td>\n",
       "      <td>R</td>\n",
       "      <td>Quicken Loans, Llc</td>\n",
       "      <td>Quicken Loans Inc.</td>\n",
       "      <td>NaN</td>\n",
       "      <td>4.25</td>\n",
       "      <td>4.25</td>\n",
       "      <td>453000.0</td>\n",
       "      <td>...</td>\n",
       "      <td>NaN</td>\n",
       "      <td>NaN</td>\n",
       "      <td>NaN</td>\n",
       "      <td>NaN</td>\n",
       "      <td>N</td>\n",
       "      <td>NaN</td>\n",
       "      <td>NaN</td>\n",
       "      <td>NaN</td>\n",
       "      <td>NaN</td>\n",
       "      <td>NaN</td>\n",
       "    </tr>\n",
       "  </tbody>\n",
       "</table>\n",
       "<p>5 rows × 108 columns</p>\n",
       "</div>"
      ],
      "text/plain": [
       "   POOL_ID       LOAN_ID  ACT_PERIOD CHANNEL              SELLER  \\\n",
       "0      NaN  100001040173       22018       R  Quicken Loans, Llc   \n",
       "1      NaN  100001040173       32018       R  Quicken Loans, Llc   \n",
       "2      NaN  100001040173       42018       R  Quicken Loans, Llc   \n",
       "3      NaN  100001040173       52018       R  Quicken Loans, Llc   \n",
       "4      NaN  100001040173       62018       R  Quicken Loans, Llc   \n",
       "\n",
       "             SERVICER  MASTER_SERVICER  ORIG_RATE  CURR_RATE  ORIG_UPB  ...  \\\n",
       "0  Quicken Loans Inc.              NaN       4.25       4.25  453000.0  ...   \n",
       "1  Quicken Loans Inc.              NaN       4.25       4.25  453000.0  ...   \n",
       "2  Quicken Loans Inc.              NaN       4.25       4.25  453000.0  ...   \n",
       "3  Quicken Loans Inc.              NaN       4.25       4.25  453000.0  ...   \n",
       "4  Quicken Loans Inc.              NaN       4.25       4.25  453000.0  ...   \n",
       "\n",
       "   MARGIN  BALLOON_INDICATOR  PLAN_NUMBER  FORBEARANCE_INDICATOR  \\\n",
       "0     NaN                NaN          NaN                    NaN   \n",
       "1     NaN                NaN          NaN                    NaN   \n",
       "2     NaN                NaN          NaN                    NaN   \n",
       "3     NaN                NaN          NaN                    NaN   \n",
       "4     NaN                NaN          NaN                    NaN   \n",
       "\n",
       "   HIGH_LOAN_TO_VALUE_HLTV_REFINANCE_OPTION_INDICATOR  DEAL_NAME  \\\n",
       "0                                                  N         NaN   \n",
       "1                                                  N         NaN   \n",
       "2                                                  N         NaN   \n",
       "3                                                  N         NaN   \n",
       "4                                                  N         NaN   \n",
       "\n",
       "   RE_PROCS_FLAG  ADR_TYPE  ADR_COUNT  ADR_UPB  \n",
       "0            NaN       NaN        NaN      NaN  \n",
       "1            NaN       NaN        NaN      NaN  \n",
       "2            NaN       NaN        NaN      NaN  \n",
       "3            NaN       NaN        NaN      NaN  \n",
       "4            NaN       NaN        NaN      NaN  \n",
       "\n",
       "[5 rows x 108 columns]"
      ]
     },
     "execution_count": 6,
     "metadata": {},
     "output_type": "execute_result"
    }
   ],
   "source": [
    "file_2018q1.head()"
   ]
  },
  {
   "cell_type": "code",
   "execution_count": 7,
   "id": "78810721-2f5a-4f61-b456-97e1cac0f061",
   "metadata": {},
   "outputs": [],
   "source": [
    "# The above data contains all monthly payment information with multiple rows of data\n",
    "# But we don't need monthly payment data for our analysis\n",
    "nodup_2008q1 = file_2008q1.drop_duplicates(subset = ['POOL_ID', 'LOAN_ID'], keep = 'first')\n",
    "nodup_2018q1 = file_2018q1.drop_duplicates(subset = ['POOL_ID', 'LOAN_ID'], keep = 'first')"
   ]
  },
  {
   "cell_type": "code",
   "execution_count": 8,
   "id": "ae69b0d6-4818-4b3a-a184-bcb5b1e55e20",
   "metadata": {},
   "outputs": [
    {
     "data": {
      "text/plain": [
       "STATE\n",
       "GA    11480\n",
       "MI    11530\n",
       "OH    11450\n",
       "VA    11877\n",
       "Name: LOAN_ID, dtype: int64"
      ]
     },
     "execution_count": 8,
     "metadata": {},
     "output_type": "execute_result"
    }
   ],
   "source": [
    "nodup_2008q1.groupby('STATE')['LOAN_ID'].count()"
   ]
  },
  {
   "cell_type": "code",
   "execution_count": 9,
   "id": "0b62a221-19d2-4a53-a7a3-41f0b9cd9ce6",
   "metadata": {},
   "outputs": [
    {
     "data": {
      "text/plain": [
       "STATE\n",
       "GA    13989\n",
       "MI    14316\n",
       "OH    11815\n",
       "VA    11092\n",
       "Name: LOAN_ID, dtype: int64"
      ]
     },
     "execution_count": 9,
     "metadata": {},
     "output_type": "execute_result"
    }
   ],
   "source": [
    "nodup_2018q1.groupby('STATE')['LOAN_ID'].count()"
   ]
  },
  {
   "cell_type": "code",
   "execution_count": 10,
   "id": "2f1ca5dc-1d42-4023-8395-78bd5e979ee4",
   "metadata": {},
   "outputs": [
    {
     "data": {
      "text/plain": [
       "'\\n    A loan with FICO < 580 is considered as a subprime loan. The applicant has some bad credit records such as a lot of delinquencies, history of bankrupty, etc..\\n    Before Q3 2008, a lot of subprime mortgage loans were isssued. They bombed in Q3 2008.\\n    After Q3 2008, US government tightened some rules for underwriting (approval of loan applications)\\n    We want to compare the difference in some key metrics between Q1 2008 and Q1 2018\\n'"
      ]
     },
     "execution_count": 10,
     "metadata": {},
     "output_type": "execute_result"
    }
   ],
   "source": [
    "# part 2: Analysis\n",
    "'''\n",
    "    A loan with FICO < 580 is considered as a subprime loan. The applicant has some bad credit records such as a lot of delinquencies, history of bankrupty, etc..\n",
    "    Before Q3 2008, a lot of subprime mortgage loans were isssued. They bombed in Q3 2008.\n",
    "    After Q3 2008, US government tightened some rules for underwriting (approval of loan applications)\n",
    "    We want to compare the difference in some key metrics between Q1 2008 and Q1 2018\n",
    "'''"
   ]
  },
  {
   "cell_type": "code",
   "execution_count": 11,
   "id": "b5c58bfc-f424-42ac-ab08-d1ce2800349a",
   "metadata": {},
   "outputs": [
    {
     "data": {
      "text/plain": [
       "CSCORE_B    742.583858\n",
       "CSCORE_C    744.307487\n",
       "dtype: float64"
      ]
     },
     "execution_count": 11,
     "metadata": {},
     "output_type": "execute_result"
    }
   ],
   "source": [
    "# Analysis 1: Loan Quality - FICO\n",
    "# In this analysis, we will use FICO score as an indicator for loan quality.\n",
    "nodup_2008q1[['CSCORE_B', 'CSCORE_C']].dropna().mean()"
   ]
  },
  {
   "cell_type": "code",
   "execution_count": 12,
   "id": "e6e35145-c4b9-472d-a0db-8ab8133af8ea",
   "metadata": {},
   "outputs": [
    {
     "data": {
      "text/plain": [
       "CSCORE_B    753.791382\n",
       "CSCORE_C    755.861868\n",
       "dtype: float64"
      ]
     },
     "execution_count": 12,
     "metadata": {},
     "output_type": "execute_result"
    }
   ],
   "source": [
    "nodup_2018q1[['CSCORE_B', 'CSCORE_C']].dropna().mean()"
   ]
  },
  {
   "cell_type": "code",
   "execution_count": 16,
   "id": "a80e907f-faba-432c-baea-6ecc1299b413",
   "metadata": {},
   "outputs": [
    {
     "name": "stdout",
     "output_type": "stream",
     "text": [
      "     CSCORE_B  CSCORE_C  min_fico\n",
      "0       673.0       NaN     673.0\n",
      "41      710.0       NaN     710.0\n",
      "97      626.0     596.0     596.0\n",
      "144     635.0       NaN     635.0\n",
      "163     777.0     813.0     777.0\n",
      "Average FICO in Q1 2008: 728.7063130385952\n"
     ]
    },
    {
     "name": "stderr",
     "output_type": "stream",
     "text": [
      "<ipython-input-16-3a552a49e37f>:5: SettingWithCopyWarning: \n",
      "A value is trying to be set on a copy of a slice from a DataFrame.\n",
      "Try using .loc[row_indexer,col_indexer] = value instead\n",
      "\n",
      "See the caveats in the documentation: https://pandas.pydata.org/pandas-docs/stable/user_guide/indexing.html#returning-a-view-versus-a-copy\n",
      "  nodup_2008q1['min_fico'] = nodup_2008q1[['CSCORE_B', 'CSCORE_C']].min(axis = 1)\n"
     ]
    }
   ],
   "source": [
    "# On average, loans in 2018 has higher fico scores\n",
    "\n",
    "# According to the rules, if a couple are applying for a loan, they will usually use the lower FICO of the two\n",
    "# If it's only one applicant, CSCORE_C will remain NAN\n",
    "nodup_2008q1['min_fico'] = nodup_2008q1[['CSCORE_B', 'CSCORE_C']].min(axis = 1)\n",
    "print(nodup_2008q1[['CSCORE_B', 'CSCORE_C', 'min_fico']].head()) # if we don't use print() function here, only the line below will be printed\n",
    "print('Average FICO in Q1 2008: {}'.format(nodup_2008q1['min_fico'].mean()))"
   ]
  },
  {
   "cell_type": "code",
   "execution_count": 17,
   "id": "3a69103e-660b-4bb5-9852-9ca5c7baa554",
   "metadata": {},
   "outputs": [
    {
     "name": "stdout",
     "output_type": "stream",
     "text": [
      "     CSCORE_B  CSCORE_C  min_fico\n",
      "0       791.0       NaN     791.0\n",
      "29      781.0       NaN     781.0\n",
      "66      743.0       NaN     743.0\n",
      "118     775.0     744.0     744.0\n",
      "147     703.0       NaN     703.0\n",
      "Average FICO in Q1 2018: 742.7649702939337\n"
     ]
    },
    {
     "name": "stderr",
     "output_type": "stream",
     "text": [
      "<ipython-input-17-0e00b415fd64>:1: SettingWithCopyWarning: \n",
      "A value is trying to be set on a copy of a slice from a DataFrame.\n",
      "Try using .loc[row_indexer,col_indexer] = value instead\n",
      "\n",
      "See the caveats in the documentation: https://pandas.pydata.org/pandas-docs/stable/user_guide/indexing.html#returning-a-view-versus-a-copy\n",
      "  nodup_2018q1['min_fico'] = nodup_2018q1[['CSCORE_B', 'CSCORE_C']].min(axis = 1)\n"
     ]
    }
   ],
   "source": [
    "nodup_2018q1['min_fico'] = nodup_2018q1[['CSCORE_B', 'CSCORE_C']].min(axis = 1)\n",
    "print(nodup_2018q1[['CSCORE_B', 'CSCORE_C', 'min_fico']].head())\n",
    "print('Average FICO in Q1 2018: {}'.format(nodup_2018q1['min_fico'].mean()))"
   ]
  },
  {
   "cell_type": "code",
   "execution_count": 18,
   "id": "4f21b6ba-b40d-43f7-a75f-ecf85711d285",
   "metadata": {},
   "outputs": [
    {
     "name": "stderr",
     "output_type": "stream",
     "text": [
      "<ipython-input-18-a943ae1efac0>:20: SettingWithCopyWarning: \n",
      "A value is trying to be set on a copy of a slice from a DataFrame.\n",
      "Try using .loc[row_indexer,col_indexer] = value instead\n",
      "\n",
      "See the caveats in the documentation: https://pandas.pydata.org/pandas-docs/stable/user_guide/indexing.html#returning-a-view-versus-a-copy\n",
      "  nodup_2008q1['fico_band'] = nodup_2008q1['min_fico'].apply(fico_tier)\n",
      "<ipython-input-18-a943ae1efac0>:21: SettingWithCopyWarning: \n",
      "A value is trying to be set on a copy of a slice from a DataFrame.\n",
      "Try using .loc[row_indexer,col_indexer] = value instead\n",
      "\n",
      "See the caveats in the documentation: https://pandas.pydata.org/pandas-docs/stable/user_guide/indexing.html#returning-a-view-versus-a-copy\n",
      "  nodup_2018q1['fico_band'] = nodup_2018q1['min_fico'].apply(fico_tier)\n"
     ]
    }
   ],
   "source": [
    "# We want to assign fico scores to the following band/tier/bin\n",
    "def fico_tier(x):\n",
    "    if x < 580: \n",
    "        return '580 & below'\n",
    "    elif x <= 620: \n",
    "        return '581-620'\n",
    "    elif x <= 660:\n",
    "        return '621-660'\n",
    "    elif x <= 700:\n",
    "        return '661-700'\n",
    "    elif x <= 740:\n",
    "        return '701-740'\n",
    "    elif x <=780:\n",
    "        return '741-780'\n",
    "    elif x <=800:\n",
    "        return '781-820'\n",
    "    else:\n",
    "        return '820+'\n",
    "    \n",
    "nodup_2008q1['fico_band'] = nodup_2008q1['min_fico'].apply(fico_tier)\n",
    "nodup_2018q1['fico_band'] = nodup_2018q1['min_fico'].apply(fico_tier)"
   ]
  },
  {
   "cell_type": "code",
   "execution_count": 20,
   "id": "85d4d2c8-5eb4-4a08-b61e-9b73ef616926",
   "metadata": {},
   "outputs": [
    {
     "name": "stdout",
     "output_type": "stream",
     "text": [
      "     fico_band  loan count\n",
      "0  580 & below         289\n",
      "1      581-620        1671\n",
      "2      621-660        4437\n",
      "3      661-700        7942\n",
      "4      701-740        9534\n",
      "5      741-780       12233\n",
      "6      781-820        6927\n",
      "7         820+        3304\n"
     ]
    }
   ],
   "source": [
    "# summarize the loans to their fico band/tier/bin\n",
    "summary_2008q1 = nodup_2008q1.groupby('fico_band')['LOAN_ID'].count().reset_index().rename(columns = {'LOAN_ID': 'loan count'})\n",
    "print(summary_2008q1.head(10))"
   ]
  },
  {
   "cell_type": "code",
   "execution_count": 21,
   "id": "15cb2492-2325-4caa-82ca-3e7d1ad1169d",
   "metadata": {},
   "outputs": [
    {
     "name": "stdout",
     "output_type": "stream",
     "text": [
      "     fico_band  loan count  loan count pct\n",
      "0  580 & below         289        0.006237\n",
      "1      581-620        1671        0.036062\n",
      "2      621-660        4437        0.095755\n",
      "3      661-700        7942        0.171397\n",
      "4      701-740        9534        0.205754\n",
      "5      741-780       12233        0.264001\n",
      "6      781-820        6927        0.149492\n",
      "7         820+        3304        0.071304\n"
     ]
    }
   ],
   "source": [
    "summary_2008q1['loan count pct'] = summary_2008q1['loan count'] / len(nodup_2008q1['LOAN_ID'])\n",
    "print(summary_2008q1.head(10))"
   ]
  },
  {
   "cell_type": "code",
   "execution_count": 22,
   "id": "9ab73614-18b8-4469-96a6-7fd981f3764e",
   "metadata": {},
   "outputs": [
    {
     "name": "stdout",
     "output_type": "stream",
     "text": [
      "  fico_band  loan count\n",
      "0   581-620          56\n",
      "1   621-660        3224\n",
      "2   661-700        7332\n",
      "3   701-740       11754\n",
      "4   741-780       15036\n",
      "5   781-820        8752\n",
      "6      820+        5058\n"
     ]
    }
   ],
   "source": [
    "summary_2018q1 = nodup_2018q1.groupby('fico_band')['LOAN_ID'].count().reset_index().rename(columns = {'LOAN_ID': 'loan count'})\n",
    "print(summary_2018q1)"
   ]
  },
  {
   "cell_type": "code",
   "execution_count": 25,
   "id": "f0288e69-88e7-4c59-9038-d8fe720fc688",
   "metadata": {},
   "outputs": [
    {
     "name": "stdout",
     "output_type": "stream",
     "text": [
      "  fico_band  loan count  loan count pct\n",
      "0   581-620          56        0.001093\n",
      "1   621-660        3224        0.062954\n",
      "2   661-700        7332        0.143170\n",
      "3   701-740       11754        0.229517\n",
      "4   741-780       15036        0.293603\n",
      "5   781-820        8752        0.170897\n",
      "6      820+        5058        0.098766\n"
     ]
    }
   ],
   "source": [
    "summary_2018q1['loan count pct'] = summary_2018q1['loan count'] / len(nodup_2018q1['LOAN_ID'])\n",
    "print(summary_2018q1.head(10))"
   ]
  },
  {
   "cell_type": "code",
   "execution_count": 26,
   "id": "6b4533ed-afab-4a80-ae33-d53c20b3073c",
   "metadata": {},
   "outputs": [
    {
     "data": {
      "text/html": [
       "<div>\n",
       "<style scoped>\n",
       "    .dataframe tbody tr th:only-of-type {\n",
       "        vertical-align: middle;\n",
       "    }\n",
       "\n",
       "    .dataframe tbody tr th {\n",
       "        vertical-align: top;\n",
       "    }\n",
       "\n",
       "    .dataframe thead th {\n",
       "        text-align: right;\n",
       "    }\n",
       "</style>\n",
       "<table border=\"1\" class=\"dataframe\">\n",
       "  <thead>\n",
       "    <tr style=\"text-align: right;\">\n",
       "      <th></th>\n",
       "      <th>fico_band</th>\n",
       "      <th>loan count 2008Q1</th>\n",
       "      <th>loan count pct 2008Q1</th>\n",
       "      <th>loan count 2018Q1</th>\n",
       "      <th>loan count pct 2018Q1</th>\n",
       "    </tr>\n",
       "  </thead>\n",
       "  <tbody>\n",
       "    <tr>\n",
       "      <th>0</th>\n",
       "      <td>580 &amp; below</td>\n",
       "      <td>289</td>\n",
       "      <td>0.006237</td>\n",
       "      <td>NaN</td>\n",
       "      <td>NaN</td>\n",
       "    </tr>\n",
       "    <tr>\n",
       "      <th>1</th>\n",
       "      <td>581-620</td>\n",
       "      <td>1671</td>\n",
       "      <td>0.036062</td>\n",
       "      <td>56.0</td>\n",
       "      <td>0.001093</td>\n",
       "    </tr>\n",
       "    <tr>\n",
       "      <th>2</th>\n",
       "      <td>621-660</td>\n",
       "      <td>4437</td>\n",
       "      <td>0.095755</td>\n",
       "      <td>3224.0</td>\n",
       "      <td>0.062954</td>\n",
       "    </tr>\n",
       "    <tr>\n",
       "      <th>3</th>\n",
       "      <td>661-700</td>\n",
       "      <td>7942</td>\n",
       "      <td>0.171397</td>\n",
       "      <td>7332.0</td>\n",
       "      <td>0.143170</td>\n",
       "    </tr>\n",
       "    <tr>\n",
       "      <th>4</th>\n",
       "      <td>701-740</td>\n",
       "      <td>9534</td>\n",
       "      <td>0.205754</td>\n",
       "      <td>11754.0</td>\n",
       "      <td>0.229517</td>\n",
       "    </tr>\n",
       "    <tr>\n",
       "      <th>5</th>\n",
       "      <td>741-780</td>\n",
       "      <td>12233</td>\n",
       "      <td>0.264001</td>\n",
       "      <td>15036.0</td>\n",
       "      <td>0.293603</td>\n",
       "    </tr>\n",
       "    <tr>\n",
       "      <th>6</th>\n",
       "      <td>781-820</td>\n",
       "      <td>6927</td>\n",
       "      <td>0.149492</td>\n",
       "      <td>8752.0</td>\n",
       "      <td>0.170897</td>\n",
       "    </tr>\n",
       "    <tr>\n",
       "      <th>7</th>\n",
       "      <td>820+</td>\n",
       "      <td>3304</td>\n",
       "      <td>0.071304</td>\n",
       "      <td>5058.0</td>\n",
       "      <td>0.098766</td>\n",
       "    </tr>\n",
       "  </tbody>\n",
       "</table>\n",
       "</div>"
      ],
      "text/plain": [
       "     fico_band  loan count 2008Q1  loan count pct 2008Q1  loan count 2018Q1  \\\n",
       "0  580 & below                289               0.006237                NaN   \n",
       "1      581-620               1671               0.036062               56.0   \n",
       "2      621-660               4437               0.095755             3224.0   \n",
       "3      661-700               7942               0.171397             7332.0   \n",
       "4      701-740               9534               0.205754            11754.0   \n",
       "5      741-780              12233               0.264001            15036.0   \n",
       "6      781-820               6927               0.149492             8752.0   \n",
       "7         820+               3304               0.071304             5058.0   \n",
       "\n",
       "   loan count pct 2018Q1  \n",
       "0                    NaN  \n",
       "1               0.001093  \n",
       "2               0.062954  \n",
       "3               0.143170  \n",
       "4               0.229517  \n",
       "5               0.293603  \n",
       "6               0.170897  \n",
       "7               0.098766  "
      ]
     },
     "execution_count": 26,
     "metadata": {},
     "output_type": "execute_result"
    }
   ],
   "source": [
    "# merge the two summary files\n",
    "summary_two = pd.merge(summary_2008q1.rename(columns = {'loan count': 'loan count 2008Q1', 'loan count pct': 'loan count pct 2008Q1'}),\n",
    "                      summary_2018q1.rename(columns = {'loan count': 'loan count 2018Q1', 'loan count pct': 'loan count pct 2018Q1'}),\n",
    "                      on = 'fico_band', how = 'outer')\n",
    "summary_two.head(10)"
   ]
  },
  {
   "cell_type": "code",
   "execution_count": 27,
   "id": "168af4f9-934b-4a11-ba48-05e182baa44c",
   "metadata": {},
   "outputs": [
    {
     "data": {
      "text/html": [
       "<div>\n",
       "<style scoped>\n",
       "    .dataframe tbody tr th:only-of-type {\n",
       "        vertical-align: middle;\n",
       "    }\n",
       "\n",
       "    .dataframe tbody tr th {\n",
       "        vertical-align: top;\n",
       "    }\n",
       "\n",
       "    .dataframe thead th {\n",
       "        text-align: right;\n",
       "    }\n",
       "</style>\n",
       "<table border=\"1\" class=\"dataframe\">\n",
       "  <thead>\n",
       "    <tr style=\"text-align: right;\">\n",
       "      <th></th>\n",
       "      <th>fico_band</th>\n",
       "      <th>loan count 2008Q1</th>\n",
       "      <th>loan count pct 2008Q1</th>\n",
       "      <th>loan count 2018Q1</th>\n",
       "      <th>loan count pct 2018Q1</th>\n",
       "    </tr>\n",
       "  </thead>\n",
       "  <tbody>\n",
       "    <tr>\n",
       "      <th>0</th>\n",
       "      <td>580 &amp; below</td>\n",
       "      <td>289</td>\n",
       "      <td>0.006237</td>\n",
       "      <td>0.0</td>\n",
       "      <td>0.000000</td>\n",
       "    </tr>\n",
       "    <tr>\n",
       "      <th>1</th>\n",
       "      <td>581-620</td>\n",
       "      <td>1671</td>\n",
       "      <td>0.036062</td>\n",
       "      <td>56.0</td>\n",
       "      <td>0.001093</td>\n",
       "    </tr>\n",
       "    <tr>\n",
       "      <th>2</th>\n",
       "      <td>621-660</td>\n",
       "      <td>4437</td>\n",
       "      <td>0.095755</td>\n",
       "      <td>3224.0</td>\n",
       "      <td>0.062954</td>\n",
       "    </tr>\n",
       "    <tr>\n",
       "      <th>3</th>\n",
       "      <td>661-700</td>\n",
       "      <td>7942</td>\n",
       "      <td>0.171397</td>\n",
       "      <td>7332.0</td>\n",
       "      <td>0.143170</td>\n",
       "    </tr>\n",
       "    <tr>\n",
       "      <th>4</th>\n",
       "      <td>701-740</td>\n",
       "      <td>9534</td>\n",
       "      <td>0.205754</td>\n",
       "      <td>11754.0</td>\n",
       "      <td>0.229517</td>\n",
       "    </tr>\n",
       "    <tr>\n",
       "      <th>5</th>\n",
       "      <td>741-780</td>\n",
       "      <td>12233</td>\n",
       "      <td>0.264001</td>\n",
       "      <td>15036.0</td>\n",
       "      <td>0.293603</td>\n",
       "    </tr>\n",
       "    <tr>\n",
       "      <th>6</th>\n",
       "      <td>781-820</td>\n",
       "      <td>6927</td>\n",
       "      <td>0.149492</td>\n",
       "      <td>8752.0</td>\n",
       "      <td>0.170897</td>\n",
       "    </tr>\n",
       "    <tr>\n",
       "      <th>7</th>\n",
       "      <td>820+</td>\n",
       "      <td>3304</td>\n",
       "      <td>0.071304</td>\n",
       "      <td>5058.0</td>\n",
       "      <td>0.098766</td>\n",
       "    </tr>\n",
       "  </tbody>\n",
       "</table>\n",
       "</div>"
      ],
      "text/plain": [
       "     fico_band  loan count 2008Q1  loan count pct 2008Q1  loan count 2018Q1  \\\n",
       "0  580 & below                289               0.006237                0.0   \n",
       "1      581-620               1671               0.036062               56.0   \n",
       "2      621-660               4437               0.095755             3224.0   \n",
       "3      661-700               7942               0.171397             7332.0   \n",
       "4      701-740               9534               0.205754            11754.0   \n",
       "5      741-780              12233               0.264001            15036.0   \n",
       "6      781-820               6927               0.149492             8752.0   \n",
       "7         820+               3304               0.071304             5058.0   \n",
       "\n",
       "   loan count pct 2018Q1  \n",
       "0               0.000000  \n",
       "1               0.001093  \n",
       "2               0.062954  \n",
       "3               0.143170  \n",
       "4               0.229517  \n",
       "5               0.293603  \n",
       "6               0.170897  \n",
       "7               0.098766  "
      ]
     },
     "execution_count": 27,
     "metadata": {},
     "output_type": "execute_result"
    }
   ],
   "source": [
    "# for fico bands with missing value, we impute them with zero\n",
    "summary_two.fillna(0, inplace = True)\n",
    "summary_two.head(10)"
   ]
  },
  {
   "cell_type": "code",
   "execution_count": 28,
   "id": "2108a52d-a501-47c3-b98e-efc97fc5f69b",
   "metadata": {},
   "outputs": [
    {
     "data": {
      "image/png": "[encoded data removed]",
      "text/plain": [
       "<Figure size 640x480 with 1 Axes>"
      ]
     },
     "metadata": {
      "needs_background": "light"
     },
     "output_type": "display_data"
    }
   ],
   "source": [
    "from matplotlib.pyplot import figure\n",
    "\n",
    "figure(figsize = (8, 6), dpi = 80)\n",
    "\n",
    "plt.bar(summary_two['fico_band'], summary_two['loan count pct 2008Q1'], label = '2009 Q1')\n",
    "plt.bar(summary_two['fico_band'], summary_two['loan count pct 2018Q1'], label = '2018 Q1')\n",
    "\n",
    "plt.xlabel('FICO Band')\n",
    "plt.ylabel('% oan Originated')\n",
    "plt.title('Compare FICO Scores of Originated Loans')\n",
    "plt.legend()\n",
    "plt.show()"
   ]
  },
  {
   "cell_type": "code",
   "execution_count": 31,
   "id": "530cd8e3-d7ee-4041-a65c-4550cbe31559",
   "metadata": {},
   "outputs": [
    {
     "data": {
      "image/png": "[encoded data removed]",
      "text/plain": [
       "<Figure size 960x480 with 1 Axes>"
      ]
     },
     "metadata": {
      "needs_background": "light"
     },
     "output_type": "display_data"
    }
   ],
   "source": [
    "# improve the graph\n",
    "from matplotlib.pyplot import figure\n",
    "import matplotlib.ticker as mtick\n",
    "\n",
    "figure(figsize = (12, 6), dpi = 80)\n",
    "\n",
    "all_bands=['580 & below', '581-620', '621-660', '661-700', '701-740', '741-780', '781-820', '820+']\n",
    "x_axis = np.arange(len(all_bands))\n",
    "\n",
    "plt.bar(x_axis - 0.2, summary_two['loan count pct 2008Q1'], width = 0.4, label = '2008 Q1')\n",
    "plt.bar(x_axis + 0.2, summary_two['loan count pct 2018Q1'], width = 0.4, label = '2018 Q1')\n",
    "\n",
    "plt.xlabel('FICO Band', fontsize = 15)\n",
    "plt.ylabel('% Loan Originated', fontsize = 15)\n",
    "plt.title('Compare FICO Scores of Originated Loans', fontsize = 20)\n",
    "plt.xticks(x_axis, (all_bands))\n",
    "plt.gca().yaxis.set_major_formatter(mtick.PercentFormatter(xmax = 1.0))\n",
    "plt.legend(loc = 'best', fontsize = 12)\n",
    "plt.show()"
   ]
  },
  {
   "cell_type": "code",
   "execution_count": null,
   "id": "51023fe7-5512-4dff-9ddf-56ecdf948725",
   "metadata": {},
   "outputs": [],
   "source": [
    "# Analysis 2: Loan Purpose\n",
    "'''\n",
    "    Normally, there are 3 types of purposes for a mortgage loan:\n",
    "        - Purchase\n",
    "        - Refinance - You already live in a home.  When the interest rate drops, you refinance your mortgage.  For example, your current mortage is with Bank of America at the rate of 5%.  When the interest rate drops to 3%, you have CitiBank to refinance your loan at 3%. CitiBank will pay off all your mortgage debt to Bank of America.  Now you owe your mortgage to CitiBank but at a lower rate.  As a result, your monthly mortgage payment decreases due to the lower interset rate.\n",
    "        - Cash-out refinance - You have a home and owe your mortgage to Bank of America, but you need cash to finance a remodeling or for a vacation.  You can borrow money from Bank of America and add the additional debt to your current mortgage.  For example, you currently owe Ban of America 650k in mortgage, you can borrow another 50k in order to travel abroad.  Your mortgage amount will increase to 650k.  Your monthly payment will increase due to an increase in mortgage debt. (You can do cash-out refinance with a different bank.)\n",
    "    \n",
    "    A lot of people do 2) and 3) together.  If so, it wll be considered as Cash-out Refinance.\n",
    "    Before financial meltdown in Q3 2008, many people do cash-out refinance because they expect home value to increase and they will never get in trouble.\n",
    "'''"
   ]
  },
  {
   "cell_type": "code",
   "execution_count": 32,
   "id": "ed9c8961-4b22-4370-b144-04767743834b",
   "metadata": {},
   "outputs": [],
   "source": [
    "# summarize loan purpose\n",
    "\n",
    "purpose_2008q1 = nodup_2008q1.groupby('PURPOSE')['LOAN_ID'].count().reset_index().rename(columns = {'LOAN_ID': 'loan count 2008 Q1'})\n",
    "purpose_2018q1 = nodup_2018q1.groupby('PURPOSE')['LOAN_ID'].count().reset_index().rename(columns = {'LOAN_ID': 'loan count 2018 Q1'})\n",
    "\n",
    "purpose_2008q1['loan count pct 2008 Q1'] = purpose_2008q1['loan count 2008 Q1'] / len(nodup_2008q1['LOAN_ID'])\n",
    "purpose_2018q1['loan count pct 2018 Q1'] = purpose_2018q1['loan count 2018 Q1'] / len(nodup_2018q1['LOAN_ID'])"
   ]
  },
  {
   "cell_type": "code",
   "execution_count": 33,
   "id": "a6992546-c6b1-4217-9f77-b0b6322b97cf",
   "metadata": {},
   "outputs": [
    {
     "name": "stdout",
     "output_type": "stream",
     "text": [
      "  PURPOSE  loan count 2008 Q1  loan count pct 2008 Q1\n",
      "0       C               18214                0.393077\n",
      "1       P               12261                0.264605\n",
      "2       R               15861                0.342297\n",
      "3       U                   1                0.000022\n"
     ]
    }
   ],
   "source": [
    "print(purpose_2008q1.head())"
   ]
  },
  {
   "cell_type": "code",
   "execution_count": 34,
   "id": "a277d15a-f83d-4fa2-9d99-356cbc6f89f1",
   "metadata": {},
   "outputs": [
    {
     "name": "stdout",
     "output_type": "stream",
     "text": [
      "  PURPOSE  loan count 2018 Q1  loan count pct 2018 Q1\n",
      "0       C               12313                0.240432\n",
      "1       P               28392                0.554401\n",
      "2       R               10507                0.205167\n"
     ]
    }
   ],
   "source": [
    "print(purpose_2018q1.head())"
   ]
  },
  {
   "cell_type": "code",
   "execution_count": 35,
   "id": "f8c8a33c-60a6-468c-ae0d-36ae25ef33d0",
   "metadata": {},
   "outputs": [
    {
     "data": {
      "text/html": [
       "<div>\n",
       "<style scoped>\n",
       "    .dataframe tbody tr th:only-of-type {\n",
       "        vertical-align: middle;\n",
       "    }\n",
       "\n",
       "    .dataframe tbody tr th {\n",
       "        vertical-align: top;\n",
       "    }\n",
       "\n",
       "    .dataframe thead th {\n",
       "        text-align: right;\n",
       "    }\n",
       "</style>\n",
       "<table border=\"1\" class=\"dataframe\">\n",
       "  <thead>\n",
       "    <tr style=\"text-align: right;\">\n",
       "      <th></th>\n",
       "      <th>PURPOSE</th>\n",
       "      <th>loan count 2008 Q1</th>\n",
       "      <th>loan count pct 2008 Q1</th>\n",
       "      <th>loan count 2018 Q1</th>\n",
       "      <th>loan count pct 2018 Q1</th>\n",
       "    </tr>\n",
       "  </thead>\n",
       "  <tbody>\n",
       "    <tr>\n",
       "      <th>0</th>\n",
       "      <td>C</td>\n",
       "      <td>18214</td>\n",
       "      <td>0.393077</td>\n",
       "      <td>12313.0</td>\n",
       "      <td>0.240432</td>\n",
       "    </tr>\n",
       "    <tr>\n",
       "      <th>1</th>\n",
       "      <td>P</td>\n",
       "      <td>12261</td>\n",
       "      <td>0.264605</td>\n",
       "      <td>28392.0</td>\n",
       "      <td>0.554401</td>\n",
       "    </tr>\n",
       "    <tr>\n",
       "      <th>2</th>\n",
       "      <td>R</td>\n",
       "      <td>15861</td>\n",
       "      <td>0.342297</td>\n",
       "      <td>10507.0</td>\n",
       "      <td>0.205167</td>\n",
       "    </tr>\n",
       "    <tr>\n",
       "      <th>3</th>\n",
       "      <td>U</td>\n",
       "      <td>1</td>\n",
       "      <td>0.000022</td>\n",
       "      <td>0.0</td>\n",
       "      <td>0.000000</td>\n",
       "    </tr>\n",
       "  </tbody>\n",
       "</table>\n",
       "</div>"
      ],
      "text/plain": [
       "  PURPOSE  loan count 2008 Q1  loan count pct 2008 Q1  loan count 2018 Q1  \\\n",
       "0       C               18214                0.393077             12313.0   \n",
       "1       P               12261                0.264605             28392.0   \n",
       "2       R               15861                0.342297             10507.0   \n",
       "3       U                   1                0.000022                 0.0   \n",
       "\n",
       "   loan count pct 2018 Q1  \n",
       "0                0.240432  \n",
       "1                0.554401  \n",
       "2                0.205167  \n",
       "3                0.000000  "
      ]
     },
     "execution_count": 35,
     "metadata": {},
     "output_type": "execute_result"
    }
   ],
   "source": [
    "# merge two summaries\n",
    "\n",
    "purpose_twofiles = pd.merge(purpose_2008q1, purpose_2018q1, on = 'PURPOSE', how = 'outer')\n",
    "purpose_twofiles.fillna(0, inplace = True)\n",
    "purpose_twofiles.head()"
   ]
  },
  {
   "cell_type": "code",
   "execution_count": 36,
   "id": "0a8173c4-5b13-42b2-8cce-1c1039908e51",
   "metadata": {},
   "outputs": [
    {
     "data": {
      "text/html": [
       "<div>\n",
       "<style scoped>\n",
       "    .dataframe tbody tr th:only-of-type {\n",
       "        vertical-align: middle;\n",
       "    }\n",
       "\n",
       "    .dataframe tbody tr th {\n",
       "        vertical-align: top;\n",
       "    }\n",
       "\n",
       "    .dataframe thead th {\n",
       "        text-align: right;\n",
       "    }\n",
       "</style>\n",
       "<table border=\"1\" class=\"dataframe\">\n",
       "  <thead>\n",
       "    <tr style=\"text-align: right;\">\n",
       "      <th></th>\n",
       "      <th>PURPOSE</th>\n",
       "      <th>loan count 2008 Q1</th>\n",
       "      <th>loan count pct 2008 Q1</th>\n",
       "      <th>loan count 2018 Q1</th>\n",
       "      <th>loan count pct 2018 Q1</th>\n",
       "    </tr>\n",
       "  </thead>\n",
       "  <tbody>\n",
       "    <tr>\n",
       "      <th>0</th>\n",
       "      <td>C</td>\n",
       "      <td>18214</td>\n",
       "      <td>0.393077</td>\n",
       "      <td>12313.0</td>\n",
       "      <td>0.240432</td>\n",
       "    </tr>\n",
       "    <tr>\n",
       "      <th>1</th>\n",
       "      <td>P</td>\n",
       "      <td>12261</td>\n",
       "      <td>0.264605</td>\n",
       "      <td>28392.0</td>\n",
       "      <td>0.554401</td>\n",
       "    </tr>\n",
       "    <tr>\n",
       "      <th>2</th>\n",
       "      <td>R</td>\n",
       "      <td>15861</td>\n",
       "      <td>0.342297</td>\n",
       "      <td>10507.0</td>\n",
       "      <td>0.205167</td>\n",
       "    </tr>\n",
       "  </tbody>\n",
       "</table>\n",
       "</div>"
      ],
      "text/plain": [
       "  PURPOSE  loan count 2008 Q1  loan count pct 2008 Q1  loan count 2018 Q1  \\\n",
       "0       C               18214                0.393077             12313.0   \n",
       "1       P               12261                0.264605             28392.0   \n",
       "2       R               15861                0.342297             10507.0   \n",
       "\n",
       "   loan count pct 2018 Q1  \n",
       "0                0.240432  \n",
       "1                0.554401  \n",
       "2                0.205167  "
      ]
     },
     "execution_count": 36,
     "metadata": {},
     "output_type": "execute_result"
    }
   ],
   "source": [
    "# Since only one loan is classified as U (unknown), delete it will not impact our analysis\n",
    "purpose_twofiles = purpose_twofiles[purpose_twofiles['PURPOSE'].str.strip().isin(['C', 'P', 'R'])]\n",
    "purpose_twofiles.head()"
   ]
  },
  {
   "cell_type": "code",
   "execution_count": 37,
   "id": "1a727994-9f9d-4c6a-8501-52975e7a5d79",
   "metadata": {},
   "outputs": [
    {
     "data": {
      "image/png": "[encoded data removed]",
      "text/plain": [
       "<Figure size 960x480 with 1 Axes>"
      ]
     },
     "metadata": {
      "needs_background": "light"
     },
     "output_type": "display_data"
    }
   ],
   "source": [
    "from matplotlib.pyplot import figure\n",
    "import matplotlib.ticker as mtick  # for formating y axis\n",
    "\n",
    "figure(figsize=(12, 6), dpi=80)\n",
    "\n",
    "all_bands=['C', 'P', 'R']\n",
    "x_axis=np.arange(len(all_bands))\n",
    "\n",
    "plt.bar(x_axis-0.2, purpose_twofiles['loan count pct 2008 Q1'], width=0.4, label='2008 Q1')\n",
    "plt.bar(x_axis+0.2, purpose_twofiles['loan count pct 2018 Q1'], width=0.4, label='2018 Q1')\n",
    "\n",
    "plt.xlabel(\"Loan Purpose\", fontsize=15)\n",
    "plt.ylabel(\"% Loan Originated\", fontsize=15)\n",
    "plt.title(\"Compare Loan Purposes\", fontsize=20)\n",
    "plt.xticks(x_axis, ('Cash-out Refinance', 'Purchase', 'Refinance'))     # relabel loan purpose on the y axis\n",
    "plt.gca().yaxis.set_major_formatter(mtick.PercentFormatter(xmax=1.0))     # format y axis in %\n",
    "plt.legend(loc='best', fontsize=12)\n",
    "plt.show()"
   ]
  },
  {
   "cell_type": "code",
   "execution_count": 41,
   "id": "3a6dea30-05c5-463b-9b27-1d3ee5ef8a63",
   "metadata": {},
   "outputs": [
    {
     "data": {
      "text/plain": [
       "\"\\n    In Q1 2008, 20% of loans originated only required borrowers to pay interest. The unpaid balance will accrue to principal balance.\\n        * Why was there such a policy there? Weren't people afraid that their mortgage debt becomes more and more?\\n        * Well, back then people expected the house price would go up quickly. They expected to sell their house some years later to earn a big profit.\\n        * For example, they purchased a house at 600k and made only interest payment each month.  After a year, their principal balance increased to 620K.\\n        * However, they expected to sell their house after a year at 700k, so they could still make a profit of 80k. \\n        * After the financial meltdown, almost no interest-only mortgage loans were allowed to be approved. \\n\""
      ]
     },
     "execution_count": 41,
     "metadata": {},
     "output_type": "execute_result"
    }
   ],
   "source": [
    "# Analysis 3: Interest-only mortgage\n",
    "'''\n",
    "    In Q1 2008, 20% of loans originated only required borrowers to pay interest. The unpaid balance will accrue to principal balance.\n",
    "        * Why was there such a policy there? Weren't people afraid that their mortgage debt becomes more and more?\n",
    "        * Well, back then people expected the house price would go up quickly. They expected to sell their house some years later to earn a big profit.\n",
    "        * For example, they purchased a house at 600k and made only interest payment each month.  After a year, their principal balance increased to 620K.\n",
    "        * However, they expected to sell their house after a year at 700k, so they could still make a profit of 80k. \n",
    "        * After the financial meltdown, almost no interest-only mortgage loans were allowed to be approved. \n",
    "'''"
   ]
  },
  {
   "cell_type": "code",
   "execution_count": 38,
   "id": "12d1c76d-41f3-4acf-92f6-a7c5faebb027",
   "metadata": {},
   "outputs": [
    {
     "data": {
      "text/plain": [
       "IO\n",
       "N    37105\n",
       "Name: LOAN_ID, dtype: int64"
      ]
     },
     "execution_count": 38,
     "metadata": {},
     "output_type": "execute_result"
    }
   ],
   "source": [
    "nodup_2008q1.groupby('IO')['LOAN_ID'].count()"
   ]
  },
  {
   "cell_type": "code",
   "execution_count": 40,
   "id": "9b2fe21d-d35b-423b-bdbe-8bac4fef7d05",
   "metadata": {},
   "outputs": [
    {
     "name": "stdout",
     "output_type": "stream",
     "text": [
      "Percentage of interest-only loans in Q1 2008: 0.1992360316809461\n",
      "Percentage of interest-only loans in Q1 2018: 0.0\n"
     ]
    },
    {
     "name": "stderr",
     "output_type": "stream",
     "text": [
      "<ipython-input-40-def29358f1a4>:1: SettingWithCopyWarning: \n",
      "A value is trying to be set on a copy of a slice from a DataFrame.\n",
      "Try using .loc[row_indexer,col_indexer] = value instead\n",
      "\n",
      "See the caveats in the documentation: https://pandas.pydata.org/pandas-docs/stable/user_guide/indexing.html#returning-a-view-versus-a-copy\n",
      "  nodup_2008q1['interest_only'] = np.where(nodup_2008q1['IO'].str.strip() == 'N', 0, 1)\n",
      "<ipython-input-40-def29358f1a4>:2: SettingWithCopyWarning: \n",
      "A value is trying to be set on a copy of a slice from a DataFrame.\n",
      "Try using .loc[row_indexer,col_indexer] = value instead\n",
      "\n",
      "See the caveats in the documentation: https://pandas.pydata.org/pandas-docs/stable/user_guide/indexing.html#returning-a-view-versus-a-copy\n",
      "  nodup_2018q1['interest_only'] = np.where(nodup_2018q1['IO'].str.strip() == 'N', 0, 1)\n"
     ]
    }
   ],
   "source": [
    "nodup_2008q1['interest_only'] = np.where(nodup_2008q1['IO'].str.strip() == 'N', 0, 1)\n",
    "nodup_2018q1['interest_only'] = np.where(nodup_2018q1['IO'].str.strip() == 'N', 0, 1)\n",
    "\n",
    "print(\"Percentage of interest-only loans in Q1 2008: {}\".format(nodup_2008q1['interest_only'].mean()))\n",
    "print(\"Percentage of interest-only loans in Q1 2018: {}\".format(nodup_2018q1['interest_only'].mean()))"
   ]
  },
  {
   "cell_type": "code",
   "execution_count": 42,
   "id": "a70e64be-3e2c-4a22-981e-3c8be15e5088",
   "metadata": {},
   "outputs": [
    {
     "data": {
      "text/plain": [
       "'\\n    LTV = loan amount / house price\\n    OLTV = Original LTV. Which means, the LTV back when a loan application was underwritten\\n    If the house was solded at 500K and the borrower made a down payment of 100k, then LTV=80%.\\n    A lower LTV usually makes the loan more likely to be approved. \\n    After a borrower has made some payments (to both interest and principal), the loan amount will decrease. As a result, LTV will also decrease.\\n\\n* Before financial meltdown in 2008 when interest-only payment was allowed (as in Analysis 3), some borrowers would see they LTV increase because unpaid principal balance will accrue to loan amount, and hence a higher LTV.\\n'"
      ]
     },
     "execution_count": 42,
     "metadata": {},
     "output_type": "execute_result"
    }
   ],
   "source": [
    "# Analysis 4: Original Loan-to-value ratio (LTV)\n",
    "'''\n",
    "    LTV = loan amount / house price\n",
    "    OLTV = Original LTV. Which means, the LTV back when a loan application was underwritten\n",
    "    If the house was solded at 500K and the borrower made a down payment of 100k, then LTV=80%.\n",
    "    A lower LTV usually makes the loan more likely to be approved. \n",
    "    After a borrower has made some payments (to both interest and principal), the loan amount will decrease. As a result, LTV will also decrease.\n",
    "\n",
    "* Before financial meltdown in 2008 when interest-only payment was allowed (as in Analysis 3), some borrowers would see they LTV increase because unpaid principal balance will accrue to loan amount, and hence a higher LTV.\n",
    "'''"
   ]
  },
  {
   "cell_type": "code",
   "execution_count": 43,
   "id": "c9191f27-4f35-4afa-94a2-34bea042a1ac",
   "metadata": {},
   "outputs": [
    {
     "data": {
      "text/plain": [
       "count    46337.000000\n",
       "mean        73.030106\n",
       "std         15.483105\n",
       "min          2.000000\n",
       "25%         66.000000\n",
       "50%         78.000000\n",
       "75%         80.000000\n",
       "max         97.000000\n",
       "Name: OLTV, dtype: float64"
      ]
     },
     "execution_count": 43,
     "metadata": {},
     "output_type": "execute_result"
    }
   ],
   "source": [
    "nodup_2008q1['OLTV'].describe()"
   ]
  },
  {
   "cell_type": "code",
   "execution_count": 44,
   "id": "3fa04a59-9942-4e09-9309-9e8ac267b5eb",
   "metadata": {},
   "outputs": [
    {
     "name": "stdout",
     "output_type": "stream",
     "text": [
      "OLTV 25th percentile in Q1 2008: 66.0\n",
      "OLTV 50th percentile in Q1 2008: 78.0\n",
      "OLTV 75th percentile in Q1 2008: 80.0\n",
      "OLTV 99.99th percentile in Q1 2008: 97.0\n",
      " \n",
      "OLTV 25th percentile in Q1 2018: 70.0\n",
      "OLTV 50th percentile in Q1 2018: 80.0\n",
      "OLTV 75th percentile in Q1 2018: 90.0\n",
      "OLTV 99.99th percentile in Q1 2018: 97.0\n"
     ]
    }
   ],
   "source": [
    "# get the percentile of OLTV\n",
    "print(\"OLTV 25th percentile in Q1 2008: {}\".format(nodup_2008q1['OLTV'].quantile(0.25)))\n",
    "print(\"OLTV 50th percentile in Q1 2008: {}\".format(nodup_2008q1['OLTV'].quantile(0.5)))\n",
    "print(\"OLTV 75th percentile in Q1 2008: {}\".format(nodup_2008q1['OLTV'].quantile(0.75)))\n",
    "print(\"OLTV 99.99th percentile in Q1 2008: {}\".format(nodup_2008q1['OLTV'].quantile(0.9999)))\n",
    "print(\" \")\n",
    "print(\"OLTV 25th percentile in Q1 2018: {}\".format(nodup_2018q1['OLTV'].quantile(0.25)))\n",
    "print(\"OLTV 50th percentile in Q1 2018: {}\".format(nodup_2018q1['OLTV'].quantile(0.5)))\n",
    "print(\"OLTV 75th percentile in Q1 2018: {}\".format(nodup_2018q1['OLTV'].quantile(0.75)))\n",
    "print(\"OLTV 99.99th percentile in Q1 2018: {}\".format(nodup_2018q1['OLTV'].quantile(0.9999)))\n",
    "\n",
    "# We did not use 100the percentile (maximum value) because there could be data errors.  For example, 100 might be mistyped for 10000."
   ]
  },
  {
   "cell_type": "code",
   "execution_count": 45,
   "id": "df94ec75-953c-49c5-8941-a84064e174b4",
   "metadata": {},
   "outputs": [
    {
     "data": {
      "image/png": "[encoded data removed]",
      "text/plain": [
       "<Figure size 432x288 with 1 Axes>"
      ]
     },
     "metadata": {
      "needs_background": "light"
     },
     "output_type": "display_data"
    }
   ],
   "source": [
    "percentile=['25th', '50th', '75th', '99th']\n",
    "data2008 = [nodup_2008q1['OLTV'].quantile(0.25), nodup_2008q1['OLTV'].quantile(0.5), nodup_2008q1['OLTV'].quantile(0.75), nodup_2008q1['OLTV'].quantile(0.9999)]\n",
    "data2018=[nodup_2018q1['OLTV'].quantile(0.25), nodup_2018q1['OLTV'].quantile(0.5), nodup_2018q1['OLTV'].quantile(0.75), nodup_2018q1['OLTV'].quantile(0.9999)]\n",
    "\n",
    "x_axis = np.arange(len(percentile))\n",
    "\n",
    "plt.bar(x_axis - 0.2, data2008, width = 0.4, label = 'Q1 2008')\n",
    "plt.bar(x_axis + 0.2, data2018, width = 0.4, label = 'Q1 2018')\n",
    "plt.xticks(x_axis, percentile)\n",
    "plt.ylim([60, 100])\n",
    "plt.legend()\n",
    "plt.show()"
   ]
  },
  {
   "cell_type": "code",
   "execution_count": 46,
   "id": "9e340ead-f398-4fdd-ad0b-bc6631e81760",
   "metadata": {},
   "outputs": [
    {
     "name": "stdout",
     "output_type": "stream",
     "text": [
      "LTV in Q1 2009: 73.03010553121696\n",
      "LTV in Q1 2018: 76.94341170038273\n"
     ]
    }
   ],
   "source": [
    "print(\"LTV in Q1 2009: {}\".format(nodup_2008q1['OLTV'].mean()))\n",
    "print(\"LTV in Q1 2018: {}\".format(nodup_2018q1['OLTV'].mean()))"
   ]
  },
  {
   "cell_type": "code",
   "execution_count": 47,
   "id": "411b6935-e4e2-4262-b5cf-a8042e92b016",
   "metadata": {},
   "outputs": [],
   "source": [
    "# The above chart is a bit counter-intuitive, but there is an explanation\n",
    "# Why the LTV was lower in 2008 than in 2018? Because house price was inflated, which made LTV look lower"
   ]
  },
  {
   "cell_type": "code",
   "execution_count": 48,
   "id": "e4517b61-b8ed-470e-9b55-47f974ead18c",
   "metadata": {},
   "outputs": [
    {
     "data": {
      "text/plain": [
       "\"\\n* DTI=monthly total debt/monthly income\\n* Debt could include credit card payment, auto loans, student loans, child support, payment for other mortgages, and payment for current mortgage.\\n* Maximum DTI allowed these days is 0.43. \\n* If one's monthly income is 5K, he cannot buy a house with monthly payment of 5K or even 4K or 3K.\\n* This is because we assume a borrower will have other spending in life such as food, children's expense, various insurance, medical needs, etc.\\n* However, this restriction was very loose before the financial meltdown in Q3 2008. \\n* Hypothesis: DTI before financial meltdown in Q3 2008 was higher than in 2020\\n\""
      ]
     },
     "execution_count": 48,
     "metadata": {},
     "output_type": "execute_result"
    }
   ],
   "source": [
    "# Analysis 5: Debt to income ratio (DTI)\n",
    "\n",
    "'''\n",
    "* DTI=monthly total debt/monthly income\n",
    "* Debt could include credit card payment, auto loans, student loans, child support, payment for other mortgages, and payment for current mortgage.\n",
    "* Maximum DTI allowed these days is 0.43. \n",
    "* If one's monthly income is 5K, he cannot buy a house with monthly payment of 5K or even 4K or 3K.\n",
    "* This is because we assume a borrower will have other spending in life such as food, children's expense, various insurance, medical needs, etc.\n",
    "* However, this restriction was very loose before the financial meltdown in Q3 2008. \n",
    "* Hypothesis: DTI before financial meltdown in Q3 2008 was higher than in 2020\n",
    "'''"
   ]
  },
  {
   "cell_type": "code",
   "execution_count": 49,
   "id": "68bf8e9c-c338-4cc4-8e01-05f71db3e35b",
   "metadata": {},
   "outputs": [
    {
     "data": {
      "text/plain": [
       "count    45076.000000\n",
       "mean        36.690012\n",
       "std         12.794426\n",
       "min          1.000000\n",
       "25%         27.000000\n",
       "50%         36.000000\n",
       "75%         46.000000\n",
       "max         64.000000\n",
       "Name: DTI, dtype: float64"
      ]
     },
     "execution_count": 49,
     "metadata": {},
     "output_type": "execute_result"
    }
   ],
   "source": [
    "nodup_2008q1['DTI'].describe()"
   ]
  },
  {
   "cell_type": "code",
   "execution_count": 50,
   "id": "e9fbb4ed-015f-49e4-ae4f-9695f0e34bde",
   "metadata": {},
   "outputs": [
    {
     "data": {
      "text/plain": [
       "count    51211.000000\n",
       "mean        35.109215\n",
       "std          9.736983\n",
       "min          1.000000\n",
       "25%         28.000000\n",
       "50%         36.000000\n",
       "75%         43.000000\n",
       "max         50.000000\n",
       "Name: DTI, dtype: float64"
      ]
     },
     "execution_count": 50,
     "metadata": {},
     "output_type": "execute_result"
    }
   ],
   "source": [
    "nodup_2018q1['DTI'].describe()"
   ]
  },
  {
   "cell_type": "code",
   "execution_count": 51,
   "id": "1f551c9b-4daf-4c0b-83bd-fc7798fae56e",
   "metadata": {},
   "outputs": [
    {
     "data": {
      "image/png": "[encoded data removed]",
      "text/plain": [
       "<Figure size 432x288 with 1 Axes>"
      ]
     },
     "metadata": {
      "needs_background": "light"
     },
     "output_type": "display_data"
    }
   ],
   "source": [
    "x='DTI'\n",
    "\n",
    "percentile_bar=['25th', '50th(median)', '75th', '99.99th']\n",
    "data2008=[nodup_2008q1[x].quantile(0.25), nodup_2008q1[x].quantile(0.5), nodup_2008q1[x].quantile(0.75), nodup_2008q1[x].quantile(0.9999)]\n",
    "data2018=[nodup_2018q1[x].quantile(0.25), nodup_2018q1[x].quantile(0.5), nodup_2018q1[x].quantile(0.75), nodup_2018q1[x].quantile(0.9999)]\n",
    "\n",
    "x_axis=np.arange(len(percentile_bar))\n",
    "\n",
    "plt.bar(x_axis -0.2, data2008, width=0.4, label = 'Q1 2008')\n",
    "plt.bar(x_axis +0.2, data2018, width=0.4, label = 'Q1 2018')\n",
    "plt.xticks(x_axis, percentile_bar)\n",
    "plt.xlabel(\"DTI Percentile\")\n",
    "plt.ylabel(\"DTI\")\n",
    "plt.ylim([20, 80])  # we set this range from 20 in order to accentuate the difference between two periods\n",
    "plt.title(\"Compare DTI\", fontsize=20)\n",
    "plt.legend(loc='best')\n",
    "plt.show()"
   ]
  },
  {
   "cell_type": "code",
   "execution_count": 52,
   "id": "119224bb-ef50-436c-8b6d-0d00bdbfcda4",
   "metadata": {},
   "outputs": [
    {
     "data": {
      "text/plain": [
       "\"\\n* Derogatory behavior (usually called 'derog' in the industry) includes: delinquency, charge-off and foreclosure\\n* Delinquency （违约）: failure to make a payment\\n    * Delinqneucy=1 or bucket=1: failure to make payment for 1st time\\n    * Delinquency=2 or bucket=2: failure to make payment for 2 consecutive months\\n    * ......\\n    * Delinquency=6: failure to make payments for consecutive 6 months.  It is considered charge-off\\n    * ......\\n    * Delinquency=10: failure to make payments for consecutive 10 months.\\n    * ......\\n* Charge-off: failure to make payments for consecutive 6 months (or 180 days). A lender usually thinks you are unwilling or unable to pay.\\n* Foreclosure: when a borrower have failed to make payments for too many months, the bank (borrower) will seize the property.  In this case, we also say the property has been repossessed (repo).\\n\\n    \\n* If a borrower is experiencing a financial stress (such as loss of job or a big medical bill), he/she can discuss with the borrower to find a temporary solution.\\n* Possible solutions: \\n    * The lender allows the borrower to pay interest only each month without penalty for a period of time untile the latter gets on his/her feet again. \\n    * The lender allows the house to be put on a short sale, i.e., to be sold below its market price. both parties share the loss.\\n* Borrowers in this situation are considered to be in forbearance, i.e., they are struggling to keep a good records. \\n* But forbearance is also a sign of risk. The borrower (the bank) also suffer from a loss. \\n     \\n#### We want to see how fico FICO score, LTV and DTI has impact on derogatory behavior\\n* Because loans originated in Q1 2008 have a longer performance history than loans originated in Q1 2020, \\n* so the former are more likely to encounter bad behavior.\\n* To make an apple to apple comparison, we will use the two years to compare their performance. \\n\""
      ]
     },
     "execution_count": 52,
     "metadata": {},
     "output_type": "execute_result"
    }
   ],
   "source": [
    "# Analysis 6 - Derogatory Behavior\n",
    "'''\n",
    "* Derogatory behavior (usually called 'derog' in the industry) includes: delinquency, charge-off and foreclosure\n",
    "* Delinquency （违约）: failure to make a payment\n",
    "    * Delinqneucy=1 or bucket=1: failure to make payment for 1st time\n",
    "    * Delinquency=2 or bucket=2: failure to make payment for 2 consecutive months\n",
    "    * ......\n",
    "    * Delinquency=6: failure to make payments for consecutive 6 months.  It is considered charge-off\n",
    "    * ......\n",
    "    * Delinquency=10: failure to make payments for consecutive 10 months.\n",
    "    * ......\n",
    "* Charge-off: failure to make payments for consecutive 6 months (or 180 days). A lender usually thinks you are unwilling or unable to pay.\n",
    "* Foreclosure: when a borrower have failed to make payments for too many months, the bank (borrower) will seize the property.  In this case, we also say the property has been repossessed (repo).\n",
    "\n",
    "    \n",
    "* If a borrower is experiencing a financial stress (such as loss of job or a big medical bill), he/she can discuss with the borrower to find a temporary solution.\n",
    "* Possible solutions: \n",
    "    * The lender allows the borrower to pay interest only each month without penalty for a period of time untile the latter gets on his/her feet again. \n",
    "    * The lender allows the house to be put on a short sale, i.e., to be sold below its market price. both parties share the loss.\n",
    "* Borrowers in this situation are considered to be in forbearance, i.e., they are struggling to keep a good records. \n",
    "* But forbearance is also a sign of risk. The borrower (the bank) also suffer from a loss. \n",
    "     \n",
    "#### We want to see how fico FICO score, LTV and DTI has impact on derogatory behavior\n",
    "* Because loans originated in Q1 2008 have a longer performance history than loans originated in Q1 2020, \n",
    "* so the former are more likely to encounter bad behavior.\n",
    "* To make an apple to apple comparison, we will use the two years to compare their performance. \n",
    "'''"
   ]
  },
  {
   "cell_type": "code",
   "execution_count": 53,
   "id": "3959407d-6972-4aa1-9990-85198b9e1a61",
   "metadata": {},
   "outputs": [
    {
     "data": {
      "text/plain": [
       "FORECLOSURE_DATE\n",
       "12019.0     3\n",
       "12020.0     3\n",
       "22020.0     3\n",
       "32020.0     1\n",
       "42019.0     3\n",
       "42021.0     1\n",
       "42022.0     1\n",
       "52019.0     4\n",
       "52021.0     1\n",
       "52022.0     1\n",
       "62019.0     1\n",
       "62020.0     1\n",
       "62022.0     2\n",
       "72019.0     2\n",
       "82019.0     2\n",
       "82020.0     1\n",
       "92019.0     1\n",
       "92020.0     1\n",
       "102019.0    6\n",
       "102020.0    1\n",
       "112018.0    1\n",
       "112019.0    4\n",
       "112021.0    2\n",
       "122019.0    2\n",
       "Name: LOAN_ID, dtype: int64"
      ]
     },
     "execution_count": 53,
     "metadata": {},
     "output_type": "execute_result"
    }
   ],
   "source": [
    "# We want to see how FICO score, LTV and DTI impact on derogatory behavior\n",
    "\n",
    "# Since loans originated in Q1 2008 have a longer performance history than loans originated in Q1 2018, the formoer are more likelyy to encounter bad behaviors.\n",
    "# To make an apple to apple comparison, we will use the two years to compare their performance\n",
    "file_2018q1.groupby(\"FORECLOSURE_DATE\")['LOAN_ID'].count()"
   ]
  },
  {
   "cell_type": "code",
   "execution_count": 54,
   "id": "156cbe1c-3bef-4928-b7f7-8128ebc86d78",
   "metadata": {},
   "outputs": [
    {
     "data": {
      "text/plain": [
       "count       38.000000\n",
       "mean      4259.765000\n",
       "std       3191.488171\n",
       "min         12.130000\n",
       "25%       1875.230000\n",
       "50%       3317.170000\n",
       "75%       6415.457500\n",
       "max      12655.300000\n",
       "Name: FORECLOSURE_COSTS, dtype: float64"
      ]
     },
     "execution_count": 54,
     "metadata": {},
     "output_type": "execute_result"
    }
   ],
   "source": [
    "file_2018q1['FORECLOSURE_COSTS'].describe()"
   ]
  },
  {
   "cell_type": "code",
   "execution_count": 56,
   "id": "846e9dae-f826-4f48-adc1-6c0106d75192",
   "metadata": {},
   "outputs": [
    {
     "data": {
      "text/plain": [
       "count        37.000000\n",
       "mean      27977.330811\n",
       "std       58765.351922\n",
       "min           0.000000\n",
       "25%           0.000000\n",
       "50%          45.100000\n",
       "75%        7100.000000\n",
       "max      268172.450000\n",
       "Name: OTHER_FORECLOSURE_PROCEEDS, dtype: float64"
      ]
     },
     "execution_count": 56,
     "metadata": {},
     "output_type": "execute_result"
    }
   ],
   "source": [
    "file_2018q1[\"OTHER_FORECLOSURE_PROCEEDS\"].describe()"
   ]
  },
  {
   "cell_type": "code",
   "execution_count": 57,
   "id": "ed965cd2-6fe3-4d90-b9c6-02215c8344ec",
   "metadata": {},
   "outputs": [
    {
     "data": {
      "text/plain": [
       "count    25738.0\n",
       "mean         0.0\n",
       "std          0.0\n",
       "min          0.0\n",
       "25%          0.0\n",
       "50%          0.0\n",
       "75%          0.0\n",
       "max          0.0\n",
       "Name: FORECLOSURE_PRINCIPAL_WRITE_OFF_AMOUNT, dtype: float64"
      ]
     },
     "execution_count": 57,
     "metadata": {},
     "output_type": "execute_result"
    }
   ],
   "source": [
    "file_2018q1[\"FORECLOSURE_PRINCIPAL_WRITE_OFF_AMOUNT\"].describe()"
   ]
  },
  {
   "cell_type": "code",
   "execution_count": 58,
   "id": "e88c6c66-42e8-4674-abd8-cc0425242fad",
   "metadata": {},
   "outputs": [
    {
     "data": {
      "text/plain": [
       "FORBEARANCE_INDICATOR\n",
       "7    709799\n",
       "F     28381\n",
       "N     13293\n",
       "R       317\n",
       "T      2154\n",
       "Name: LOAN_ID, dtype: int64"
      ]
     },
     "execution_count": 58,
     "metadata": {},
     "output_type": "execute_result"
    }
   ],
   "source": [
    "file_2018q1.groupby(\"FORBEARANCE_INDICATOR\")['LOAN_ID'].count()"
   ]
  },
  {
   "cell_type": "code",
   "execution_count": 59,
   "id": "3789a6e4-f4cd-4b80-a7d1-a0a9c33904da",
   "metadata": {},
   "outputs": [],
   "source": [
    "# It looks like anything except 7 can be considered as forbearance"
   ]
  },
  {
   "cell_type": "code",
   "execution_count": 60,
   "id": "0628ed41-8ca5-4c6f-a062-15b83e903138",
   "metadata": {},
   "outputs": [
    {
     "data": {
      "text/plain": [
       "['POOL_ID',\n",
       " 'LOAN_ID',\n",
       " 'ACT_PERIOD',\n",
       " 'CHANNEL',\n",
       " 'SELLER',\n",
       " 'SERVICER',\n",
       " 'MASTER_SERVICER',\n",
       " 'ORIG_RATE',\n",
       " 'CURR_RATE',\n",
       " 'ORIG_UPB',\n",
       " 'ISSUANCE_UPB',\n",
       " 'CURRENT_UPB',\n",
       " 'ORIG_TERM',\n",
       " 'ORIG_DATE',\n",
       " 'FIRST_PAY',\n",
       " 'LOAN_AGE',\n",
       " 'REM_MONTHS',\n",
       " 'ADJ_REM_MONTHS',\n",
       " 'MATR_DT',\n",
       " 'OLTV',\n",
       " 'OCLTV',\n",
       " 'NUM_BO',\n",
       " 'DTI',\n",
       " 'CSCORE_B',\n",
       " 'CSCORE_C',\n",
       " 'FIRST_FLAG',\n",
       " 'PURPOSE',\n",
       " 'PROP',\n",
       " 'NO_UNITS',\n",
       " 'OCC_STAT',\n",
       " 'STATE',\n",
       " 'MSA',\n",
       " 'ZIP',\n",
       " 'MI_PCT',\n",
       " 'PRODUCT',\n",
       " 'PPMT_FLG',\n",
       " 'IO',\n",
       " 'FIRST_PAY_IO',\n",
       " 'MNTHS_TO_AMTZ_IO',\n",
       " 'DLQ_STATUS',\n",
       " 'PMT_HISTORY',\n",
       " 'MOD_FLAG',\n",
       " 'MI_CANCEL_FLAG',\n",
       " 'Zero_Bal_Code',\n",
       " 'ZB_DTE',\n",
       " 'LAST_UPB',\n",
       " 'RPRCH_DTE',\n",
       " 'CURR_SCHD_PRNCPL',\n",
       " 'TOT_SCHD_PRNCPL',\n",
       " 'UNSCHD_PRNCPL_CURR',\n",
       " 'LAST_PAID_INSTALLMENT_DATE',\n",
       " 'FORECLOSURE_DATE',\n",
       " 'DISPOSITION_DATE',\n",
       " 'FORECLOSURE_COSTS',\n",
       " 'PROPERTY_PRESERVATION_AND_REPAIR_COSTS',\n",
       " 'ASSET_RECOVERY_COSTS',\n",
       " 'MISCELLANEOUS_HOLDING_EXPENSES_AND_CREDITS',\n",
       " 'ASSOCIATED_TAXES_FOR_HOLDING_PROPERTY',\n",
       " 'NET_SALES_PROCEEDS',\n",
       " 'CREDIT_ENHANCEMENT_PROCEEDS',\n",
       " 'REPURCHASES_MAKE_WHOLE_PROCEEDS',\n",
       " 'OTHER_FORECLOSURE_PROCEEDS',\n",
       " 'NON_INTEREST_BEARING_UPB',\n",
       " 'PRINCIPAL_FORGIVENESS_AMOUNT',\n",
       " 'ORIGINAL_LIST_START_DATE',\n",
       " 'ORIGINAL_LIST_PRICE',\n",
       " 'CURRENT_LIST_START_DATE',\n",
       " 'CURRENT_LIST_PRICE',\n",
       " 'ISSUE_SCOREB',\n",
       " 'ISSUE_SCOREC',\n",
       " 'CURR_SCOREB',\n",
       " 'CURR_SCOREC',\n",
       " 'MI_TYPE',\n",
       " 'SERV_IND',\n",
       " 'CURRENT_PERIOD_MODIFICATION_LOSS_AMOUNT',\n",
       " 'CUMULATIVE_MODIFICATION_LOSS_AMOUNT',\n",
       " 'CURRENT_PERIOD_CREDIT_EVENT_NET_GAIN_OR_LOSS',\n",
       " 'CUMULATIVE_CREDIT_EVENT_NET_GAIN_OR_LOSS',\n",
       " 'HOMEREADY_PROGRAM_INDICATOR',\n",
       " 'FORECLOSURE_PRINCIPAL_WRITE_OFF_AMOUNT',\n",
       " 'RELOCATION_MORTGAGE_INDICATOR',\n",
       " 'ZERO_BALANCE_CODE_CHANGE_DATE',\n",
       " 'LOAN_HOLDBACK_INDICATOR',\n",
       " 'LOAN_HOLDBACK_EFFECTIVE_DATE',\n",
       " 'DELINQUENT_ACCRUED_INTEREST',\n",
       " 'PROPERTY_INSPECTION_WAIVER_INDICATOR',\n",
       " 'HIGH_BALANCE_LOAN_INDICATOR',\n",
       " 'ARM_5_YR_INDICATOR',\n",
       " 'ARM_PRODUCT_TYPE',\n",
       " 'MONTHS_UNTIL_FIRST_PAYMENT_RESET',\n",
       " 'MONTHS_BETWEEN_SUBSEQUENT_PAYMENT_RESET',\n",
       " 'INTEREST_RATE_CHANGE_DATE',\n",
       " 'PAYMENT_CHANGE_DATE',\n",
       " 'ARM_INDEX',\n",
       " 'ARM_CAP_STRUCTURE',\n",
       " 'INITIAL_INTEREST_RATE_CAP',\n",
       " 'PERIODIC_INTEREST_RATE_CAP',\n",
       " 'LIFETIME_INTEREST_RATE_CAP',\n",
       " 'MARGIN',\n",
       " 'BALLOON_INDICATOR',\n",
       " 'PLAN_NUMBER',\n",
       " 'FORBEARANCE_INDICATOR',\n",
       " 'HIGH_LOAN_TO_VALUE_HLTV_REFINANCE_OPTION_INDICATOR',\n",
       " 'DEAL_NAME',\n",
       " 'RE_PROCS_FLAG',\n",
       " 'ADR_TYPE',\n",
       " 'ADR_COUNT',\n",
       " 'ADR_UPB']"
      ]
     },
     "execution_count": 60,
     "metadata": {},
     "output_type": "execute_result"
    }
   ],
   "source": [
    "# Keep the performance data of first two years only\n",
    "file_2008q1.columns.tolist()"
   ]
  },
  {
   "cell_type": "code",
   "execution_count": 61,
   "id": "d5496ca1-3bb9-4460-8742-f4f014664567",
   "metadata": {},
   "outputs": [
    {
     "data": {
      "text/plain": [
       "ACT_PERIOD\n",
       "12008     11035\n",
       "12009     44556\n",
       "12010     37095\n",
       "12011     29380\n",
       "12012     23475\n",
       "          ...  \n",
       "122017     5104\n",
       "122018     4278\n",
       "122019     3642\n",
       "122020     3016\n",
       "122021     2280\n",
       "Name: LOAN_ID, Length: 174, dtype: int64"
      ]
     },
     "execution_count": 61,
     "metadata": {},
     "output_type": "execute_result"
    }
   ],
   "source": [
    "file_2008q1.groupby('ACT_PERIOD')['LOAN_ID'].count()"
   ]
  },
  {
   "cell_type": "code",
   "execution_count": 63,
   "id": "2d2c6ca9-5c28-47dc-8ba8-5041f06c5b2f",
   "metadata": {},
   "outputs": [
    {
     "data": {
      "text/html": [
       "<div>\n",
       "<style scoped>\n",
       "    .dataframe tbody tr th:only-of-type {\n",
       "        vertical-align: middle;\n",
       "    }\n",
       "\n",
       "    .dataframe tbody tr th {\n",
       "        vertical-align: top;\n",
       "    }\n",
       "\n",
       "    .dataframe thead th {\n",
       "        text-align: right;\n",
       "    }\n",
       "</style>\n",
       "<table border=\"1\" class=\"dataframe\">\n",
       "  <thead>\n",
       "    <tr style=\"text-align: right;\">\n",
       "      <th></th>\n",
       "      <th>ACT_PERIOD</th>\n",
       "      <th>year</th>\n",
       "      <th>month</th>\n",
       "      <th>year_month</th>\n",
       "    </tr>\n",
       "  </thead>\n",
       "  <tbody>\n",
       "    <tr>\n",
       "      <th>0</th>\n",
       "      <td>12008</td>\n",
       "      <td>2008.0</td>\n",
       "      <td>1.0</td>\n",
       "      <td>200801.0</td>\n",
       "    </tr>\n",
       "    <tr>\n",
       "      <th>1</th>\n",
       "      <td>22008</td>\n",
       "      <td>2008.0</td>\n",
       "      <td>2.0</td>\n",
       "      <td>200802.0</td>\n",
       "    </tr>\n",
       "    <tr>\n",
       "      <th>2</th>\n",
       "      <td>32008</td>\n",
       "      <td>2008.0</td>\n",
       "      <td>3.0</td>\n",
       "      <td>200803.0</td>\n",
       "    </tr>\n",
       "    <tr>\n",
       "      <th>3</th>\n",
       "      <td>42008</td>\n",
       "      <td>2008.0</td>\n",
       "      <td>4.0</td>\n",
       "      <td>200804.0</td>\n",
       "    </tr>\n",
       "    <tr>\n",
       "      <th>4</th>\n",
       "      <td>52008</td>\n",
       "      <td>2008.0</td>\n",
       "      <td>5.0</td>\n",
       "      <td>200805.0</td>\n",
       "    </tr>\n",
       "    <tr>\n",
       "      <th>5</th>\n",
       "      <td>62008</td>\n",
       "      <td>2008.0</td>\n",
       "      <td>6.0</td>\n",
       "      <td>200806.0</td>\n",
       "    </tr>\n",
       "    <tr>\n",
       "      <th>6</th>\n",
       "      <td>72008</td>\n",
       "      <td>2008.0</td>\n",
       "      <td>7.0</td>\n",
       "      <td>200807.0</td>\n",
       "    </tr>\n",
       "    <tr>\n",
       "      <th>7</th>\n",
       "      <td>82008</td>\n",
       "      <td>2008.0</td>\n",
       "      <td>8.0</td>\n",
       "      <td>200808.0</td>\n",
       "    </tr>\n",
       "    <tr>\n",
       "      <th>8</th>\n",
       "      <td>92008</td>\n",
       "      <td>2008.0</td>\n",
       "      <td>9.0</td>\n",
       "      <td>200809.0</td>\n",
       "    </tr>\n",
       "    <tr>\n",
       "      <th>9</th>\n",
       "      <td>102008</td>\n",
       "      <td>2008.0</td>\n",
       "      <td>10.0</td>\n",
       "      <td>200810.0</td>\n",
       "    </tr>\n",
       "    <tr>\n",
       "      <th>10</th>\n",
       "      <td>112008</td>\n",
       "      <td>2008.0</td>\n",
       "      <td>11.0</td>\n",
       "      <td>200811.0</td>\n",
       "    </tr>\n",
       "    <tr>\n",
       "      <th>11</th>\n",
       "      <td>122008</td>\n",
       "      <td>2008.0</td>\n",
       "      <td>12.0</td>\n",
       "      <td>200812.0</td>\n",
       "    </tr>\n",
       "  </tbody>\n",
       "</table>\n",
       "</div>"
      ],
      "text/plain": [
       "    ACT_PERIOD    year  month  year_month\n",
       "0        12008  2008.0    1.0    200801.0\n",
       "1        22008  2008.0    2.0    200802.0\n",
       "2        32008  2008.0    3.0    200803.0\n",
       "3        42008  2008.0    4.0    200804.0\n",
       "4        52008  2008.0    5.0    200805.0\n",
       "5        62008  2008.0    6.0    200806.0\n",
       "6        72008  2008.0    7.0    200807.0\n",
       "7        82008  2008.0    8.0    200808.0\n",
       "8        92008  2008.0    9.0    200809.0\n",
       "9       102008  2008.0   10.0    200810.0\n",
       "10      112008  2008.0   11.0    200811.0\n",
       "11      122008  2008.0   12.0    200812.0"
      ]
     },
     "execution_count": 63,
     "metadata": {},
     "output_type": "execute_result"
    }
   ],
   "source": [
    "file_2008q1['month'] = round(file_2008q1['ACT_PERIOD'] / 10000)\n",
    "file_2008q1['year'] = round(file_2008q1['ACT_PERIOD'] - file_2008q1['month'] * 10000)\n",
    "file_2008q1['year_month'] = file_2008q1['year'] * 100 + file_2008q1['month'].astype(int)\n",
    "\n",
    "file_2008q1[['ACT_PERIOD', 'year', 'month', 'year_month']].head(12)"
   ]
  },
  {
   "cell_type": "code",
   "execution_count": 64,
   "id": "a0bcc635-a614-44b3-9f2e-57d09cbf0451",
   "metadata": {},
   "outputs": [
    {
     "data": {
      "text/html": [
       "<div>\n",
       "<style scoped>\n",
       "    .dataframe tbody tr th:only-of-type {\n",
       "        vertical-align: middle;\n",
       "    }\n",
       "\n",
       "    .dataframe tbody tr th {\n",
       "        vertical-align: top;\n",
       "    }\n",
       "\n",
       "    .dataframe thead th {\n",
       "        text-align: right;\n",
       "    }\n",
       "</style>\n",
       "<table border=\"1\" class=\"dataframe\">\n",
       "  <thead>\n",
       "    <tr style=\"text-align: right;\">\n",
       "      <th></th>\n",
       "      <th>ACT_PERIOD</th>\n",
       "      <th>year</th>\n",
       "      <th>month</th>\n",
       "      <th>year_month</th>\n",
       "    </tr>\n",
       "  </thead>\n",
       "  <tbody>\n",
       "    <tr>\n",
       "      <th>0</th>\n",
       "      <td>22018</td>\n",
       "      <td>2018.0</td>\n",
       "      <td>2.0</td>\n",
       "      <td>201802.0</td>\n",
       "    </tr>\n",
       "    <tr>\n",
       "      <th>1</th>\n",
       "      <td>32018</td>\n",
       "      <td>2018.0</td>\n",
       "      <td>3.0</td>\n",
       "      <td>201803.0</td>\n",
       "    </tr>\n",
       "    <tr>\n",
       "      <th>2</th>\n",
       "      <td>42018</td>\n",
       "      <td>2018.0</td>\n",
       "      <td>4.0</td>\n",
       "      <td>201804.0</td>\n",
       "    </tr>\n",
       "    <tr>\n",
       "      <th>3</th>\n",
       "      <td>52018</td>\n",
       "      <td>2018.0</td>\n",
       "      <td>5.0</td>\n",
       "      <td>201805.0</td>\n",
       "    </tr>\n",
       "    <tr>\n",
       "      <th>4</th>\n",
       "      <td>62018</td>\n",
       "      <td>2018.0</td>\n",
       "      <td>6.0</td>\n",
       "      <td>201806.0</td>\n",
       "    </tr>\n",
       "    <tr>\n",
       "      <th>5</th>\n",
       "      <td>72018</td>\n",
       "      <td>2018.0</td>\n",
       "      <td>7.0</td>\n",
       "      <td>201807.0</td>\n",
       "    </tr>\n",
       "    <tr>\n",
       "      <th>6</th>\n",
       "      <td>82018</td>\n",
       "      <td>2018.0</td>\n",
       "      <td>8.0</td>\n",
       "      <td>201808.0</td>\n",
       "    </tr>\n",
       "    <tr>\n",
       "      <th>7</th>\n",
       "      <td>92018</td>\n",
       "      <td>2018.0</td>\n",
       "      <td>9.0</td>\n",
       "      <td>201809.0</td>\n",
       "    </tr>\n",
       "    <tr>\n",
       "      <th>8</th>\n",
       "      <td>102018</td>\n",
       "      <td>2018.0</td>\n",
       "      <td>10.0</td>\n",
       "      <td>201810.0</td>\n",
       "    </tr>\n",
       "    <tr>\n",
       "      <th>9</th>\n",
       "      <td>112018</td>\n",
       "      <td>2018.0</td>\n",
       "      <td>11.0</td>\n",
       "      <td>201811.0</td>\n",
       "    </tr>\n",
       "    <tr>\n",
       "      <th>10</th>\n",
       "      <td>122018</td>\n",
       "      <td>2018.0</td>\n",
       "      <td>12.0</td>\n",
       "      <td>201812.0</td>\n",
       "    </tr>\n",
       "    <tr>\n",
       "      <th>11</th>\n",
       "      <td>12019</td>\n",
       "      <td>2019.0</td>\n",
       "      <td>1.0</td>\n",
       "      <td>201901.0</td>\n",
       "    </tr>\n",
       "  </tbody>\n",
       "</table>\n",
       "</div>"
      ],
      "text/plain": [
       "    ACT_PERIOD    year  month  year_month\n",
       "0        22018  2018.0    2.0    201802.0\n",
       "1        32018  2018.0    3.0    201803.0\n",
       "2        42018  2018.0    4.0    201804.0\n",
       "3        52018  2018.0    5.0    201805.0\n",
       "4        62018  2018.0    6.0    201806.0\n",
       "5        72018  2018.0    7.0    201807.0\n",
       "6        82018  2018.0    8.0    201808.0\n",
       "7        92018  2018.0    9.0    201809.0\n",
       "8       102018  2018.0   10.0    201810.0\n",
       "9       112018  2018.0   11.0    201811.0\n",
       "10      122018  2018.0   12.0    201812.0\n",
       "11       12019  2019.0    1.0    201901.0"
      ]
     },
     "execution_count": 64,
     "metadata": {},
     "output_type": "execute_result"
    }
   ],
   "source": [
    "file_2018q1['month']=round(file_2018q1['ACT_PERIOD']/10000)\n",
    "file_2018q1['year']=round(file_2018q1['ACT_PERIOD']-file_2018q1['month']*10000)\n",
    "file_2018q1['year_month']=file_2018q1['year']*100+file_2018q1['month'].astype(int)\n",
    "\n",
    "file_2018q1[['ACT_PERIOD', 'year', 'month', 'year_month']].head(12)"
   ]
  },
  {
   "cell_type": "code",
   "execution_count": 65,
   "id": "7425d2ea-42ec-4648-bf86-a050c45b10ac",
   "metadata": {},
   "outputs": [],
   "source": [
    "# As for loans originated in 2018, we have a performance history of 3.5 years, so we should apply the same length to loans originated in Q1 2008\n",
    "file_2008q1_2years = file_2008q1[file_2008q1['year_month'] < 201103]\n",
    "file_2018q1_2years = file_2018q1[file_2018q1['year_month'] < 202203]"
   ]
  },
  {
   "cell_type": "code",
   "execution_count": 69,
   "id": "999b47ff-9926-4646-8953-62c38040dea1",
   "metadata": {},
   "outputs": [
    {
     "name": "stderr",
     "output_type": "stream",
     "text": [
      "<ipython-input-69-4e08a19f5855>:1: SettingWithCopyWarning: \n",
      "A value is trying to be set on a copy of a slice from a DataFrame.\n",
      "Try using .loc[row_indexer,col_indexer] = value instead\n",
      "\n",
      "See the caveats in the documentation: https://pandas.pydata.org/pandas-docs/stable/user_guide/indexing.html#returning-a-view-versus-a-copy\n",
      "  file_2008q1_2years['bad'] = np.where((file_2008q1_2years['FORBEARANCE_INDICATOR'] != '7') | (pd.to_numeric(file_2008q1_2years['DLQ_STATUS'], errors = 'coerce') > 2), 1, 0)\n",
      "<ipython-input-69-4e08a19f5855>:5: SettingWithCopyWarning: \n",
      "A value is trying to be set on a copy of a slice from a DataFrame.\n",
      "Try using .loc[row_indexer,col_indexer] = value instead\n",
      "\n",
      "See the caveats in the documentation: https://pandas.pydata.org/pandas-docs/stable/user_guide/indexing.html#returning-a-view-versus-a-copy\n",
      "  file_2018q1_2years['bad']=np.where((file_2018q1_2years[\"FORBEARANCE_INDICATOR\"] != '7') | (pd.to_numeric(file_2018q1_2years['DLQ_STATUS'], errors='coerce') > 2), 1, 0)\n"
     ]
    }
   ],
   "source": [
    "# ?\n",
    "file_2008q1_2years['bad'] = np.where((file_2008q1_2years['FORBEARANCE_INDICATOR'] != '7') | (pd.to_numeric(file_2008q1_2years['DLQ_STATUS'], errors = 'coerce') > 2), 1, 0)\n",
    "file_2008q1_bad = file_2008q1_2years.groupby('LOAN_ID')['bad'].sum().reset_index()\n",
    "file_2008q1_bad['bad'] = np.where(file_2008q1_bad['bad'] > 0, 1, 0)\n",
    "\n",
    "file_2018q1_2years['bad']=np.where((file_2018q1_2years[\"FORBEARANCE_INDICATOR\"] != '7') | (pd.to_numeric(file_2018q1_2years['DLQ_STATUS'], errors='coerce') > 2), 1, 0)\n",
    "file_2018q1_bad=file_2018q1_2years.groupby('LOAN_ID')['bad'].sum().reset_index()\n",
    "file_2018q1_bad['bad']=np.where(file_2018q1_bad['bad'] > 0, 1, 0)"
   ]
  },
  {
   "cell_type": "code",
   "execution_count": 71,
   "id": "455898e9-db5f-4c21-90e3-7c02046dbb4e",
   "metadata": {},
   "outputs": [
    {
     "name": "stderr",
     "output_type": "stream",
     "text": [
      "<ipython-input-71-aaf89f28ad53>:1: SettingWithCopyWarning: \n",
      "A value is trying to be set on a copy of a slice from a DataFrame.\n",
      "Try using .loc[row_indexer,col_indexer] = value instead\n",
      "\n",
      "See the caveats in the documentation: https://pandas.pydata.org/pandas-docs/stable/user_guide/indexing.html#returning-a-view-versus-a-copy\n",
      "  file_2008q1_2years['bad']=np.where(pd.to_numeric(file_2008q1_2years['DLQ_STATUS'], errors='coerce') > 3, 1, 0)\n",
      "<ipython-input-71-aaf89f28ad53>:5: SettingWithCopyWarning: \n",
      "A value is trying to be set on a copy of a slice from a DataFrame.\n",
      "Try using .loc[row_indexer,col_indexer] = value instead\n",
      "\n",
      "See the caveats in the documentation: https://pandas.pydata.org/pandas-docs/stable/user_guide/indexing.html#returning-a-view-versus-a-copy\n",
      "  file_2018q1_2years['bad']=np.where(pd.to_numeric(file_2018q1_2years['DLQ_STATUS'], errors='coerce') > 3, 1, 0)\n"
     ]
    }
   ],
   "source": [
    "file_2008q1_2years['bad']=np.where(pd.to_numeric(file_2008q1_2years['DLQ_STATUS'], errors='coerce') > 3, 1, 0)\n",
    "file_2008q1_bad=file_2008q1_2years.groupby('LOAN_ID')['bad'].sum().reset_index()\n",
    "file_2008q1_bad['bad']=np.where(file_2008q1_bad['bad'] > 0, 1, 0)\n",
    "\n",
    "file_2018q1_2years['bad']=np.where(pd.to_numeric(file_2018q1_2years['DLQ_STATUS'], errors='coerce') > 3, 1, 0)\n",
    "file_2018q1_bad=file_2018q1_2years.groupby('LOAN_ID')['bad'].sum().reset_index()\n",
    "file_2018q1_bad['bad']=np.where(file_2018q1_bad['bad'] > 0, 1, 0)"
   ]
  },
  {
   "cell_type": "code",
   "execution_count": 72,
   "id": "4b704652-b35d-4563-b06c-bec2657ad722",
   "metadata": {},
   "outputs": [
    {
     "name": "stdout",
     "output_type": "stream",
     "text": [
      "Bad rate for mortgages originated in Q1 2008:0.07436821546496321\n",
      "Bad rate for mortgages originated in Q1 2018:0.043153948293368743\n"
     ]
    }
   ],
   "source": [
    "print(\"Bad rate for mortgages originated in Q1 2008:\"+str(file_2008q1_bad['bad'].mean()))\n",
    "print(\"Bad rate for mortgages originated in Q1 2018:\"+str(file_2018q1_bad['bad'].mean()))"
   ]
  },
  {
   "cell_type": "code",
   "execution_count": 73,
   "id": "0a51c11f-6672-4e73-bccc-56131e53b1cc",
   "metadata": {},
   "outputs": [],
   "source": [
    "# Analysis 6: FICO and other factors on Risk\n",
    "\n",
    "file_2018q1['bad'] = np.where(pd.to_numeric(file_2018q1['DLQ_STATUS'], errors = 'coerce') > 6, 1, 0)\n",
    "bad_2018q1 = file_2018q1.groupby('LOAN_ID')['bad'].sum().reset_index()"
   ]
  },
  {
   "cell_type": "code",
   "execution_count": 75,
   "id": "955f711d-68c4-4e55-afa7-b6e5e5efba46",
   "metadata": {},
   "outputs": [
    {
     "name": "stdout",
     "output_type": "stream",
     "text": [
      "<class 'pandas.core.frame.DataFrame'>\n",
      "RangeIndex: 51212 entries, 0 to 51211\n",
      "Data columns (total 2 columns):\n",
      " #   Column   Non-Null Count  Dtype\n",
      "---  ------   --------------  -----\n",
      " 0   LOAN_ID  51212 non-null  int64\n",
      " 1   bad      51212 non-null  int32\n",
      "dtypes: int32(1), int64(1)\n",
      "memory usage: 600.3 KB\n"
     ]
    }
   ],
   "source": [
    "bad_2018q1.info()"
   ]
  },
  {
   "cell_type": "code",
   "execution_count": 76,
   "id": "d3804451-b667-49b2-8b30-357418f60919",
   "metadata": {},
   "outputs": [],
   "source": [
    "bad_2018q1['derogatory'] = np.where(bad_2018q1['bad'] > 0, 1, 0)\n",
    "\n",
    "nodup_2018q1_more = pd.merge(nodup_2018q1, bad_2018q1, on = 'LOAN_ID', how = 'inner')"
   ]
  },
  {
   "cell_type": "code",
   "execution_count": 78,
   "id": "480e4fb9-ab49-4449-9a02-06d85972628b",
   "metadata": {},
   "outputs": [
    {
     "name": "stdout",
     "output_type": "stream",
     "text": [
      "<class 'pandas.core.frame.DataFrame'>\n",
      "RangeIndex: 51212 entries, 0 to 51211\n",
      "Data columns (total 3 columns):\n",
      " #   Column      Non-Null Count  Dtype\n",
      "---  ------      --------------  -----\n",
      " 0   LOAN_ID     51212 non-null  int64\n",
      " 1   bad         51212 non-null  int32\n",
      " 2   derogatory  51212 non-null  int32\n",
      "dtypes: int32(2), int64(1)\n",
      "memory usage: 800.3 KB\n"
     ]
    }
   ],
   "source": [
    "bad_2018q1.info()"
   ]
  },
  {
   "cell_type": "code",
   "execution_count": 79,
   "id": "9e7c3943-3cf8-45bb-bae9-6303c21725d6",
   "metadata": {},
   "outputs": [],
   "source": [
    "nodup_2018q1_more['foci_band'] = nodup_2018q1_more['min_fico'].apply(fico_tier)"
   ]
  },
  {
   "cell_type": "code",
   "execution_count": 80,
   "id": "0154c818-4f98-42a0-aa93-700ee289fe9d",
   "metadata": {},
   "outputs": [
    {
     "name": "stdout",
     "output_type": "stream",
     "text": [
      "<class 'pandas.core.frame.DataFrame'>\n",
      "Int64Index: 51212 entries, 0 to 51211\n",
      "Columns: 114 entries, POOL_ID to foci_band\n",
      "dtypes: float64(77), int32(3), int64(9), object(25)\n",
      "memory usage: 44.3+ MB\n"
     ]
    }
   ],
   "source": [
    "nodup_2018q1_more.info()"
   ]
  },
  {
   "cell_type": "code",
   "execution_count": 81,
   "id": "85bd18eb-ff98-4227-8725-bf6af08a0297",
   "metadata": {},
   "outputs": [
    {
     "data": {
      "text/plain": [
       "fico_band\n",
       "581-620    0.107143\n",
       "621-660    0.079094\n",
       "661-700    0.056056\n",
       "701-740    0.032755\n",
       "741-780    0.017026\n",
       "781-820    0.010283\n",
       "820+       0.005931\n",
       "Name: derogatory, dtype: float64"
      ]
     },
     "execution_count": 81,
     "metadata": {},
     "output_type": "execute_result"
    }
   ],
   "source": [
    "nodup_2018q1_more.groupby('fico_band')['derogatory'].mean()"
   ]
  },
  {
   "cell_type": "code",
   "execution_count": 89,
   "id": "edc3a936-73fd-4849-9c5f-adb53af61d72",
   "metadata": {},
   "outputs": [],
   "source": [
    "# Here we need to use the original file with entire performance history\n",
    "# If a borrower has shown any derogatory behavior, we will consider his/her as 'bad'\n",
    "# DLQ means delinquency\n",
    "\n",
    "'''\n",
    "    Extra attention here\n",
    "'''\n",
    "file_2018q1['delinquency'] = np.where(pd.to_numeric(file_2018q1['DLQ_STATUS'], errors = 'coerce') > 2, 1, 0)\n",
    "file_2018q1['charge-off'] = np.where(pd.to_numeric(file_2018q1['DLQ_STATUS'], errors = 'coerce') > 6, 1, 0)\n",
    "file_2018q1['MI'] = np.where(pd.to_numeric(file_2018q1['MI_TYPE']) >0, 1, 0)\n",
    "bad_more_2018q1 = file_2018q1.groupby('LOAN_ID')[['bad', 'delinquency', 'charge-off', 'MI']].sum().reset_index()\n",
    "\n",
    "bad_more_2018q1['bad'] = np.where(bad_more_2018q1['bad'] > 0, 1, 0)\n",
    "bad_more_2018q1['delinquency'] = np.where(bad_more_2018q1['delinquency'] > 0, 1, 0)\n",
    "bad_more_2018q1['charge-off'] = np.where(bad_more_2018q1['charge-off'] > 0, 1, 0)\n",
    "bad_more_2018q1['MI'] = np.where(bad_more_2018q1['MI'] > 0, 1, 0)"
   ]
  },
  {
   "cell_type": "code",
   "execution_count": 90,
   "id": "8a9c7eba-3c5f-4a92-a531-2f9947b3bce7",
   "metadata": {},
   "outputs": [
    {
     "ename": "KeyError",
     "evalue": "'bad'",
     "output_type": "error",
     "traceback": [
      "\u001b[1;31m---------------------------------------------------------------------------\u001b[0m",
      "\u001b[1;31mKeyError\u001b[0m                                  Traceback (most recent call last)",
      "\u001b[1;32m~\\Anaconda3\\lib\\site-packages\\pandas\\core\\indexes\\base.py\u001b[0m in \u001b[0;36mget_loc\u001b[1;34m(self, key, method, tolerance)\u001b[0m\n\u001b[0;32m   3079\u001b[0m             \u001b[1;32mtry\u001b[0m\u001b[1;33m:\u001b[0m\u001b[1;33m\u001b[0m\u001b[1;33m\u001b[0m\u001b[0m\n\u001b[1;32m-> 3080\u001b[1;33m                 \u001b[1;32mreturn\u001b[0m \u001b[0mself\u001b[0m\u001b[1;33m.\u001b[0m\u001b[0m_engine\u001b[0m\u001b[1;33m.\u001b[0m\u001b[0mget_loc\u001b[0m\u001b[1;33m(\u001b[0m\u001b[0mcasted_key\u001b[0m\u001b[1;33m)\u001b[0m\u001b[1;33m\u001b[0m\u001b[1;33m\u001b[0m\u001b[0m\n\u001b[0m\u001b[0;32m   3081\u001b[0m             \u001b[1;32mexcept\u001b[0m \u001b[0mKeyError\u001b[0m \u001b[1;32mas\u001b[0m \u001b[0merr\u001b[0m\u001b[1;33m:\u001b[0m\u001b[1;33m\u001b[0m\u001b[1;33m\u001b[0m\u001b[0m\n",
      "\u001b[1;32mpandas\\_libs\\index.pyx\u001b[0m in \u001b[0;36mpandas._libs.index.IndexEngine.get_loc\u001b[1;34m()\u001b[0m\n",
      "\u001b[1;32mpandas\\_libs\\index.pyx\u001b[0m in \u001b[0;36mpandas._libs.index.IndexEngine.get_loc\u001b[1;34m()\u001b[0m\n",
      "\u001b[1;32mpandas\\_libs\\hashtable_class_helper.pxi\u001b[0m in \u001b[0;36mpandas._libs.hashtable.PyObjectHashTable.get_item\u001b[1;34m()\u001b[0m\n",
      "\u001b[1;32mpandas\\_libs\\hashtable_class_helper.pxi\u001b[0m in \u001b[0;36mpandas._libs.hashtable.PyObjectHashTable.get_item\u001b[1;34m()\u001b[0m\n",
      "\u001b[1;31mKeyError\u001b[0m: 'bad'",
      "\nThe above exception was the direct cause of the following exception:\n",
      "\u001b[1;31mKeyError\u001b[0m                                  Traceback (most recent call last)",
      "\u001b[1;32m<ipython-input-90-64935a618200>\u001b[0m in \u001b[0;36m<module>\u001b[1;34m\u001b[0m\n\u001b[0;32m      1\u001b[0m \u001b[0mnodup_2018q1_more2\u001b[0m \u001b[1;33m=\u001b[0m \u001b[0mpd\u001b[0m\u001b[1;33m.\u001b[0m\u001b[0mmerge\u001b[0m\u001b[1;33m(\u001b[0m\u001b[0mnodup_2018q1_more\u001b[0m\u001b[1;33m,\u001b[0m \u001b[0mbad_more_2018q1\u001b[0m\u001b[1;33m,\u001b[0m \u001b[0mon\u001b[0m \u001b[1;33m=\u001b[0m \u001b[1;34m'LOAN_ID'\u001b[0m\u001b[1;33m,\u001b[0m \u001b[0mhow\u001b[0m \u001b[1;33m=\u001b[0m \u001b[1;34m'inner'\u001b[0m\u001b[1;33m)\u001b[0m\u001b[1;33m\u001b[0m\u001b[1;33m\u001b[0m\u001b[0m\n\u001b[1;32m----> 2\u001b[1;33m \u001b[0mnodup_2018q1_more2\u001b[0m\u001b[1;33m[\u001b[0m\u001b[1;34m'bad'\u001b[0m\u001b[1;33m]\u001b[0m \u001b[1;33m=\u001b[0m \u001b[0mnp\u001b[0m\u001b[1;33m.\u001b[0m\u001b[0mwhere\u001b[0m\u001b[1;33m(\u001b[0m\u001b[0mnodup_2018q1_more2\u001b[0m\u001b[1;33m[\u001b[0m\u001b[1;34m'bad'\u001b[0m\u001b[1;33m]\u001b[0m \u001b[1;33m>\u001b[0m \u001b[1;36m0\u001b[0m\u001b[1;33m,\u001b[0m \u001b[1;36m1\u001b[0m\u001b[1;33m,\u001b[0m \u001b[1;36m0\u001b[0m\u001b[1;33m)\u001b[0m\u001b[1;33m\u001b[0m\u001b[1;33m\u001b[0m\u001b[0m\n\u001b[0m\u001b[0;32m      3\u001b[0m \u001b[0mnodup_2018q1_more2\u001b[0m\u001b[1;33m.\u001b[0m\u001b[0mfillna\u001b[0m\u001b[1;33m(\u001b[0m\u001b[1;36m0\u001b[0m\u001b[1;33m,\u001b[0m \u001b[0minplace\u001b[0m \u001b[1;33m=\u001b[0m \u001b[1;32mTrue\u001b[0m\u001b[1;33m)\u001b[0m\u001b[1;33m\u001b[0m\u001b[1;33m\u001b[0m\u001b[0m\n",
      "\u001b[1;32m~\\Anaconda3\\lib\\site-packages\\pandas\\core\\frame.py\u001b[0m in \u001b[0;36m__getitem__\u001b[1;34m(self, key)\u001b[0m\n\u001b[0;32m   3022\u001b[0m             \u001b[1;32mif\u001b[0m \u001b[0mself\u001b[0m\u001b[1;33m.\u001b[0m\u001b[0mcolumns\u001b[0m\u001b[1;33m.\u001b[0m\u001b[0mnlevels\u001b[0m \u001b[1;33m>\u001b[0m \u001b[1;36m1\u001b[0m\u001b[1;33m:\u001b[0m\u001b[1;33m\u001b[0m\u001b[1;33m\u001b[0m\u001b[0m\n\u001b[0;32m   3023\u001b[0m                 \u001b[1;32mreturn\u001b[0m \u001b[0mself\u001b[0m\u001b[1;33m.\u001b[0m\u001b[0m_getitem_multilevel\u001b[0m\u001b[1;33m(\u001b[0m\u001b[0mkey\u001b[0m\u001b[1;33m)\u001b[0m\u001b[1;33m\u001b[0m\u001b[1;33m\u001b[0m\u001b[0m\n\u001b[1;32m-> 3024\u001b[1;33m             \u001b[0mindexer\u001b[0m \u001b[1;33m=\u001b[0m \u001b[0mself\u001b[0m\u001b[1;33m.\u001b[0m\u001b[0mcolumns\u001b[0m\u001b[1;33m.\u001b[0m\u001b[0mget_loc\u001b[0m\u001b[1;33m(\u001b[0m\u001b[0mkey\u001b[0m\u001b[1;33m)\u001b[0m\u001b[1;33m\u001b[0m\u001b[1;33m\u001b[0m\u001b[0m\n\u001b[0m\u001b[0;32m   3025\u001b[0m             \u001b[1;32mif\u001b[0m \u001b[0mis_integer\u001b[0m\u001b[1;33m(\u001b[0m\u001b[0mindexer\u001b[0m\u001b[1;33m)\u001b[0m\u001b[1;33m:\u001b[0m\u001b[1;33m\u001b[0m\u001b[1;33m\u001b[0m\u001b[0m\n\u001b[0;32m   3026\u001b[0m                 \u001b[0mindexer\u001b[0m \u001b[1;33m=\u001b[0m \u001b[1;33m[\u001b[0m\u001b[0mindexer\u001b[0m\u001b[1;33m]\u001b[0m\u001b[1;33m\u001b[0m\u001b[1;33m\u001b[0m\u001b[0m\n",
      "\u001b[1;32m~\\Anaconda3\\lib\\site-packages\\pandas\\core\\indexes\\base.py\u001b[0m in \u001b[0;36mget_loc\u001b[1;34m(self, key, method, tolerance)\u001b[0m\n\u001b[0;32m   3080\u001b[0m                 \u001b[1;32mreturn\u001b[0m \u001b[0mself\u001b[0m\u001b[1;33m.\u001b[0m\u001b[0m_engine\u001b[0m\u001b[1;33m.\u001b[0m\u001b[0mget_loc\u001b[0m\u001b[1;33m(\u001b[0m\u001b[0mcasted_key\u001b[0m\u001b[1;33m)\u001b[0m\u001b[1;33m\u001b[0m\u001b[1;33m\u001b[0m\u001b[0m\n\u001b[0;32m   3081\u001b[0m             \u001b[1;32mexcept\u001b[0m \u001b[0mKeyError\u001b[0m \u001b[1;32mas\u001b[0m \u001b[0merr\u001b[0m\u001b[1;33m:\u001b[0m\u001b[1;33m\u001b[0m\u001b[1;33m\u001b[0m\u001b[0m\n\u001b[1;32m-> 3082\u001b[1;33m                 \u001b[1;32mraise\u001b[0m \u001b[0mKeyError\u001b[0m\u001b[1;33m(\u001b[0m\u001b[0mkey\u001b[0m\u001b[1;33m)\u001b[0m \u001b[1;32mfrom\u001b[0m \u001b[0merr\u001b[0m\u001b[1;33m\u001b[0m\u001b[1;33m\u001b[0m\u001b[0m\n\u001b[0m\u001b[0;32m   3083\u001b[0m \u001b[1;33m\u001b[0m\u001b[0m\n\u001b[0;32m   3084\u001b[0m         \u001b[1;32mif\u001b[0m \u001b[0mtolerance\u001b[0m \u001b[1;32mis\u001b[0m \u001b[1;32mnot\u001b[0m \u001b[1;32mNone\u001b[0m\u001b[1;33m:\u001b[0m\u001b[1;33m\u001b[0m\u001b[1;33m\u001b[0m\u001b[0m\n",
      "\u001b[1;31mKeyError\u001b[0m: 'bad'"
     ]
    }
   ],
   "source": [
    "nodup_2018q1_more2 = pd.merge(nodup_2018q1_more, bad_more_2018q1, on = 'LOAN_ID', how = 'inner')\n",
    "nodup_2018q1_more2['bad'] = np.where(nodup_2018q1_more2['bad'] > 0, 1, 0)\n",
    "nodup_2018q1_more2.fillna(0, inplace = True)"
   ]
  },
  {
   "cell_type": "code",
   "execution_count": 92,
   "id": "c6a228be-0f1c-453c-954a-28bbd624b1b3",
   "metadata": {},
   "outputs": [
    {
     "ename": "NameError",
     "evalue": "name 'summary_derogatory' is not defined",
     "output_type": "error",
     "traceback": [
      "\u001b[1;31m---------------------------------------------------------------------------\u001b[0m",
      "\u001b[1;31mNameError\u001b[0m                                 Traceback (most recent call last)",
      "\u001b[1;32m<ipython-input-92-929c3ccc8e96>\u001b[0m in \u001b[0;36m<module>\u001b[1;34m\u001b[0m\n\u001b[0;32m     11\u001b[0m \u001b[0mx_axis\u001b[0m \u001b[1;33m=\u001b[0m \u001b[0mnp\u001b[0m\u001b[1;33m.\u001b[0m\u001b[0marange\u001b[0m\u001b[1;33m(\u001b[0m\u001b[0mlen\u001b[0m\u001b[1;33m(\u001b[0m\u001b[0mall_bands\u001b[0m\u001b[1;33m)\u001b[0m\u001b[1;33m)\u001b[0m\u001b[1;33m\u001b[0m\u001b[1;33m\u001b[0m\u001b[0m\n\u001b[0;32m     12\u001b[0m \u001b[1;33m\u001b[0m\u001b[0m\n\u001b[1;32m---> 13\u001b[1;33m \u001b[0mplt\u001b[0m\u001b[1;33m.\u001b[0m\u001b[0mbar\u001b[0m\u001b[1;33m(\u001b[0m\u001b[0mx_axis\u001b[0m \u001b[1;33m-\u001b[0m \u001b[1;36m0.1\u001b[0m\u001b[1;33m,\u001b[0m \u001b[0msummary_derogatory\u001b[0m\u001b[1;33m[\u001b[0m\u001b[1;34m'ORIG_RATE'\u001b[0m\u001b[1;33m]\u001b[0m\u001b[1;33m,\u001b[0m \u001b[0mwidth\u001b[0m \u001b[1;33m=\u001b[0m \u001b[1;36m0.4\u001b[0m\u001b[1;33m,\u001b[0m \u001b[0mcolor\u001b[0m \u001b[1;33m=\u001b[0m \u001b[1;34m'blue'\u001b[0m\u001b[1;33m)\u001b[0m\u001b[1;33m\u001b[0m\u001b[1;33m\u001b[0m\u001b[0m\n\u001b[0m\u001b[0;32m     14\u001b[0m \u001b[0mplt\u001b[0m\u001b[1;33m.\u001b[0m\u001b[0mxlabel\u001b[0m\u001b[1;33m(\u001b[0m\u001b[1;34m'FICO Band'\u001b[0m\u001b[1;33m,\u001b[0m \u001b[0mfontsize\u001b[0m \u001b[1;33m=\u001b[0m \u001b[1;36m15\u001b[0m\u001b[1;33m)\u001b[0m\u001b[1;33m\u001b[0m\u001b[1;33m\u001b[0m\u001b[0m\n\u001b[0;32m     15\u001b[0m \u001b[0mplt\u001b[0m\u001b[1;33m.\u001b[0m\u001b[0mylabel\u001b[0m\u001b[1;33m(\u001b[0m\u001b[1;34m'Interest Rate'\u001b[0m\u001b[1;33m,\u001b[0m \u001b[0mfontsize\u001b[0m \u001b[1;33m=\u001b[0m \u001b[1;36m15\u001b[0m\u001b[1;33m)\u001b[0m\u001b[1;33m\u001b[0m\u001b[1;33m\u001b[0m\u001b[0m\n",
      "\u001b[1;31mNameError\u001b[0m: name 'summary_derogatory' is not defined"
     ]
    },
    {
     "data": {
      "text/plain": [
       "<Figure size 1200x480 with 0 Axes>"
      ]
     },
     "metadata": {},
     "output_type": "display_data"
    }
   ],
   "source": [
    "# Analysis 7 - Interest Rate\n",
    "\n",
    "# Question 1: How does FICO impact interest rate?\n",
    "\n",
    "from matplotlib.pyplot import figure\n",
    "import matplotlib.ticker as mtick\n",
    "\n",
    "figure(figsize = (15, 6), dpi = 80)\n",
    "\n",
    "all_bands=['581-620', '621-660', '661-700', '701-740', '741-780', '781-820', '820+']  # notice that we no longer have 580 & Below\n",
    "x_axis = np.arange(len(all_bands))\n",
    "\n",
    "plt.bar(x_axis - 0.1, summary_derogatory['ORIG_RATE'], width = 0.4, color = 'blue')\n",
    "plt.xlabel('FICO Band', fontsize = 15)\n",
    "plt.ylabel('Interest Rate', fontsize = 15)\n",
    "plt.ylim([3.5, 5])\n",
    "plt.title('Compare Average Interest Rates by FICO Band', fontsize = 20)\n",
    "plt.xticks(x_axis-0.1, (all_bands))\n",
    "plt.legend(loc = 'best', fontsize = 12)\n",
    "plt.show()"
   ]
  },
  {
   "cell_type": "code",
   "execution_count": null,
   "id": "029e0ee0-2b9c-43f3-8369-4cf82055f726",
   "metadata": {},
   "outputs": [],
   "source": []
  }
 ],
 "metadata": {
  "kernelspec": {
   "display_name": "Python 3",
   "language": "python",
   "name": "python3"
  },
  "language_info": {
   "codemirror_mode": {
    "name": "ipython",
    "version": 3
   },
   "file_extension": ".py",
   "mimetype": "text/x-python",
   "name": "python",
   "nbconvert_exporter": "python",
   "pygments_lexer": "ipython3",
   "version": "3.8.8"
  }
 },
 "nbformat": 4,
 "nbformat_minor": 5
}
