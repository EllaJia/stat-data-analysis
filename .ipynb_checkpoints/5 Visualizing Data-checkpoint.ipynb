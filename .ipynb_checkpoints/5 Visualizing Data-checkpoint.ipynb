{
 "cells": [
  {
   "cell_type": "code",
   "execution_count": 3,
   "id": "c0fa8ff5-b253-4e4e-93db-d8206e57e44d",
   "metadata": {},
   "outputs": [
    {
     "data": {
      "text/html": [
       "<div>\n",
       "<style scoped>\n",
       "    .dataframe tbody tr th:only-of-type {\n",
       "        vertical-align: middle;\n",
       "    }\n",
       "\n",
       "    .dataframe tbody tr th {\n",
       "        vertical-align: top;\n",
       "    }\n",
       "\n",
       "    .dataframe thead th {\n",
       "        text-align: right;\n",
       "    }\n",
       "</style>\n",
       "<table border=\"1\" class=\"dataframe\">\n",
       "  <thead>\n",
       "    <tr style=\"text-align: right;\">\n",
       "      <th></th>\n",
       "      <th>0</th>\n",
       "      <th>1</th>\n",
       "      <th>2</th>\n",
       "      <th>3</th>\n",
       "      <th>4</th>\n",
       "      <th>5</th>\n",
       "      <th>6</th>\n",
       "      <th>7</th>\n",
       "      <th>8</th>\n",
       "      <th>9</th>\n",
       "      <th>...</th>\n",
       "      <th>1990</th>\n",
       "      <th>1991</th>\n",
       "      <th>1992</th>\n",
       "      <th>1993</th>\n",
       "      <th>1994</th>\n",
       "      <th>1995</th>\n",
       "      <th>1996</th>\n",
       "      <th>1997</th>\n",
       "      <th>1998</th>\n",
       "      <th>1999</th>\n",
       "    </tr>\n",
       "  </thead>\n",
       "  <tbody>\n",
       "    <tr>\n",
       "      <th>fname</th>\n",
       "      <td>Dolan</td>\n",
       "      <td>NaN</td>\n",
       "      <td>NaN</td>\n",
       "      <td>NaN</td>\n",
       "      <td>NaN</td>\n",
       "      <td>NaN</td>\n",
       "      <td>NaN</td>\n",
       "      <td>NaN</td>\n",
       "      <td>NaN</td>\n",
       "      <td>NaN</td>\n",
       "      <td>...</td>\n",
       "      <td>NaN</td>\n",
       "      <td>NaN</td>\n",
       "      <td>NaN</td>\n",
       "      <td>NaN</td>\n",
       "      <td>NaN</td>\n",
       "      <td>NaN</td>\n",
       "      <td>NaN</td>\n",
       "      <td>NaN</td>\n",
       "      <td>NaN</td>\n",
       "      <td>NaN</td>\n",
       "    </tr>\n",
       "    <tr>\n",
       "      <th>lname</th>\n",
       "      <td>Conley</td>\n",
       "      <td>Harvey</td>\n",
       "      <td>Oconnor</td>\n",
       "      <td>Randall</td>\n",
       "      <td>NaN</td>\n",
       "      <td>NaN</td>\n",
       "      <td>NaN</td>\n",
       "      <td>NaN</td>\n",
       "      <td>NaN</td>\n",
       "      <td>NaN</td>\n",
       "      <td>...</td>\n",
       "      <td>NaN</td>\n",
       "      <td>NaN</td>\n",
       "      <td>NaN</td>\n",
       "      <td>NaN</td>\n",
       "      <td>NaN</td>\n",
       "      <td>NaN</td>\n",
       "      <td>NaN</td>\n",
       "      <td>NaN</td>\n",
       "      <td>NaN</td>\n",
       "      <td>NaN</td>\n",
       "    </tr>\n",
       "    <tr>\n",
       "      <th>gender</th>\n",
       "      <td>female</td>\n",
       "      <td>male</td>\n",
       "      <td>NaN</td>\n",
       "      <td>NaN</td>\n",
       "      <td>NaN</td>\n",
       "      <td>NaN</td>\n",
       "      <td>NaN</td>\n",
       "      <td>NaN</td>\n",
       "      <td>NaN</td>\n",
       "      <td>NaN</td>\n",
       "      <td>...</td>\n",
       "      <td>NaN</td>\n",
       "      <td>NaN</td>\n",
       "      <td>NaN</td>\n",
       "      <td>NaN</td>\n",
       "      <td>NaN</td>\n",
       "      <td>NaN</td>\n",
       "      <td>NaN</td>\n",
       "      <td>NaN</td>\n",
       "      <td>NaN</td>\n",
       "      <td>NaN</td>\n",
       "    </tr>\n",
       "    <tr>\n",
       "      <th>age</th>\n",
       "      <td>17.0</td>\n",
       "      <td>NaN</td>\n",
       "      <td>NaN</td>\n",
       "      <td>NaN</td>\n",
       "      <td>NaN</td>\n",
       "      <td>NaN</td>\n",
       "      <td>NaN</td>\n",
       "      <td>NaN</td>\n",
       "      <td>NaN</td>\n",
       "      <td>NaN</td>\n",
       "      <td>...</td>\n",
       "      <td>NaN</td>\n",
       "      <td>NaN</td>\n",
       "      <td>NaN</td>\n",
       "      <td>NaN</td>\n",
       "      <td>NaN</td>\n",
       "      <td>NaN</td>\n",
       "      <td>NaN</td>\n",
       "      <td>NaN</td>\n",
       "      <td>NaN</td>\n",
       "      <td>NaN</td>\n",
       "    </tr>\n",
       "    <tr>\n",
       "      <th>exercise</th>\n",
       "      <td>4.0</td>\n",
       "      <td>NaN</td>\n",
       "      <td>NaN</td>\n",
       "      <td>NaN</td>\n",
       "      <td>NaN</td>\n",
       "      <td>NaN</td>\n",
       "      <td>NaN</td>\n",
       "      <td>NaN</td>\n",
       "      <td>NaN</td>\n",
       "      <td>NaN</td>\n",
       "      <td>...</td>\n",
       "      <td>NaN</td>\n",
       "      <td>NaN</td>\n",
       "      <td>NaN</td>\n",
       "      <td>NaN</td>\n",
       "      <td>NaN</td>\n",
       "      <td>NaN</td>\n",
       "      <td>NaN</td>\n",
       "      <td>NaN</td>\n",
       "      <td>NaN</td>\n",
       "      <td>NaN</td>\n",
       "    </tr>\n",
       "    <tr>\n",
       "      <th>hours</th>\n",
       "      <td>11.0</td>\n",
       "      <td>NaN</td>\n",
       "      <td>NaN</td>\n",
       "      <td>NaN</td>\n",
       "      <td>NaN</td>\n",
       "      <td>NaN</td>\n",
       "      <td>NaN</td>\n",
       "      <td>NaN</td>\n",
       "      <td>NaN</td>\n",
       "      <td>NaN</td>\n",
       "      <td>...</td>\n",
       "      <td>NaN</td>\n",
       "      <td>NaN</td>\n",
       "      <td>NaN</td>\n",
       "      <td>NaN</td>\n",
       "      <td>NaN</td>\n",
       "      <td>NaN</td>\n",
       "      <td>NaN</td>\n",
       "      <td>NaN</td>\n",
       "      <td>NaN</td>\n",
       "      <td>NaN</td>\n",
       "    </tr>\n",
       "    <tr>\n",
       "      <th>grade</th>\n",
       "      <td>100.0</td>\n",
       "      <td>NaN</td>\n",
       "      <td>NaN</td>\n",
       "      <td>NaN</td>\n",
       "      <td>NaN</td>\n",
       "      <td>NaN</td>\n",
       "      <td>NaN</td>\n",
       "      <td>NaN</td>\n",
       "      <td>NaN</td>\n",
       "      <td>NaN</td>\n",
       "      <td>...</td>\n",
       "      <td>NaN</td>\n",
       "      <td>NaN</td>\n",
       "      <td>NaN</td>\n",
       "      <td>NaN</td>\n",
       "      <td>NaN</td>\n",
       "      <td>NaN</td>\n",
       "      <td>NaN</td>\n",
       "      <td>NaN</td>\n",
       "      <td>NaN</td>\n",
       "      <td>NaN</td>\n",
       "    </tr>\n",
       "    <tr>\n",
       "      <th>address</th>\n",
       "      <td>1 Chapel Ave., Cheshire, CT 06410</td>\n",
       "      <td>1 Cottage Street, Rockville, MD 20850</td>\n",
       "      <td>1 Fairview Rd., Ann Arbor, MI 48103</td>\n",
       "      <td>1 Grand Street, Fairburn, GA 30213</td>\n",
       "      <td>1 Grandrose Street, Lakewood, NJ 08701</td>\n",
       "      <td>1 Indian Summer Street, Manchester Township, N...</td>\n",
       "      <td>1 Joy Ridge Dr., Bonita Springs, FL 34135</td>\n",
       "      <td>1 Kirkland Ave., Whitestone, NY 11357</td>\n",
       "      <td>1 Mayfair St., Indiana, PA 15701</td>\n",
       "      <td>1 Nicolls St., Banning, CA 92220</td>\n",
       "      <td>...</td>\n",
       "      <td>9961 State Ave., Union City, NJ 07087</td>\n",
       "      <td>9973 Miles Court, Worcester, MA 01604</td>\n",
       "      <td>9975 Lookout Court, Buffalo, NY 14215</td>\n",
       "      <td>998 Riverside St., Galloway, OH 43119</td>\n",
       "      <td>999 Nicolls Avenue, Oviedo, FL 32765</td>\n",
       "      <td>999 Sleepy Hollow Lane, Detroit, MI 48205</td>\n",
       "      <td>9991 Parker Court, Lansdowne, PA 19050</td>\n",
       "      <td>9995 Glenholme St., Upper Marlboro, MD 20772</td>\n",
       "      <td>9997 Nicolls St., Bellmore, NY 11710</td>\n",
       "      <td>9999 Longbranch St., Wayne, NJ 07470</td>\n",
       "    </tr>\n",
       "  </tbody>\n",
       "</table>\n",
       "<p>8 rows × 2000 columns</p>\n",
       "</div>"
      ],
      "text/plain": [
       "                                       0     \\\n",
       "fname                                 Dolan   \n",
       "lname                                Conley   \n",
       "gender                               female   \n",
       "age                                    17.0   \n",
       "exercise                                4.0   \n",
       "hours                                  11.0   \n",
       "grade                                 100.0   \n",
       "address   1 Chapel Ave., Cheshire, CT 06410   \n",
       "\n",
       "                                           1     \\\n",
       "fname                                       NaN   \n",
       "lname                                    Harvey   \n",
       "gender                                     male   \n",
       "age                                         NaN   \n",
       "exercise                                    NaN   \n",
       "hours                                       NaN   \n",
       "grade                                       NaN   \n",
       "address   1 Cottage Street, Rockville, MD 20850   \n",
       "\n",
       "                                         2     \\\n",
       "fname                                     NaN   \n",
       "lname                                 Oconnor   \n",
       "gender                                    NaN   \n",
       "age                                       NaN   \n",
       "exercise                                  NaN   \n",
       "hours                                     NaN   \n",
       "grade                                     NaN   \n",
       "address   1 Fairview Rd., Ann Arbor, MI 48103   \n",
       "\n",
       "                                        3     \\\n",
       "fname                                    NaN   \n",
       "lname                                Randall   \n",
       "gender                                   NaN   \n",
       "age                                      NaN   \n",
       "exercise                                 NaN   \n",
       "hours                                    NaN   \n",
       "grade                                    NaN   \n",
       "address   1 Grand Street, Fairburn, GA 30213   \n",
       "\n",
       "                                            4     \\\n",
       "fname                                        NaN   \n",
       "lname                                        NaN   \n",
       "gender                                       NaN   \n",
       "age                                          NaN   \n",
       "exercise                                     NaN   \n",
       "hours                                        NaN   \n",
       "grade                                        NaN   \n",
       "address   1 Grandrose Street, Lakewood, NJ 08701   \n",
       "\n",
       "                                                       5     \\\n",
       "fname                                                   NaN   \n",
       "lname                                                   NaN   \n",
       "gender                                                  NaN   \n",
       "age                                                     NaN   \n",
       "exercise                                                NaN   \n",
       "hours                                                   NaN   \n",
       "grade                                                   NaN   \n",
       "address   1 Indian Summer Street, Manchester Township, N...   \n",
       "\n",
       "                                               6     \\\n",
       "fname                                           NaN   \n",
       "lname                                           NaN   \n",
       "gender                                          NaN   \n",
       "age                                             NaN   \n",
       "exercise                                        NaN   \n",
       "hours                                           NaN   \n",
       "grade                                           NaN   \n",
       "address   1 Joy Ridge Dr., Bonita Springs, FL 34135   \n",
       "\n",
       "                                           7     \\\n",
       "fname                                       NaN   \n",
       "lname                                       NaN   \n",
       "gender                                      NaN   \n",
       "age                                         NaN   \n",
       "exercise                                    NaN   \n",
       "hours                                       NaN   \n",
       "grade                                       NaN   \n",
       "address   1 Kirkland Ave., Whitestone, NY 11357   \n",
       "\n",
       "                                      8                                 9     \\\n",
       "fname                                  NaN                               NaN   \n",
       "lname                                  NaN                               NaN   \n",
       "gender                                 NaN                               NaN   \n",
       "age                                    NaN                               NaN   \n",
       "exercise                               NaN                               NaN   \n",
       "hours                                  NaN                               NaN   \n",
       "grade                                  NaN                               NaN   \n",
       "address   1 Mayfair St., Indiana, PA 15701  1 Nicolls St., Banning, CA 92220   \n",
       "\n",
       "          ...                                   1990  \\\n",
       "fname     ...                                    NaN   \n",
       "lname     ...                                    NaN   \n",
       "gender    ...                                    NaN   \n",
       "age       ...                                    NaN   \n",
       "exercise  ...                                    NaN   \n",
       "hours     ...                                    NaN   \n",
       "grade     ...                                    NaN   \n",
       "address   ...  9961 State Ave., Union City, NJ 07087   \n",
       "\n",
       "                                           1991  \\\n",
       "fname                                       NaN   \n",
       "lname                                       NaN   \n",
       "gender                                      NaN   \n",
       "age                                         NaN   \n",
       "exercise                                    NaN   \n",
       "hours                                       NaN   \n",
       "grade                                       NaN   \n",
       "address   9973 Miles Court, Worcester, MA 01604   \n",
       "\n",
       "                                           1992  \\\n",
       "fname                                       NaN   \n",
       "lname                                       NaN   \n",
       "gender                                      NaN   \n",
       "age                                         NaN   \n",
       "exercise                                    NaN   \n",
       "hours                                       NaN   \n",
       "grade                                       NaN   \n",
       "address   9975 Lookout Court, Buffalo, NY 14215   \n",
       "\n",
       "                                           1993  \\\n",
       "fname                                       NaN   \n",
       "lname                                       NaN   \n",
       "gender                                      NaN   \n",
       "age                                         NaN   \n",
       "exercise                                    NaN   \n",
       "hours                                       NaN   \n",
       "grade                                       NaN   \n",
       "address   998 Riverside St., Galloway, OH 43119   \n",
       "\n",
       "                                          1994  \\\n",
       "fname                                      NaN   \n",
       "lname                                      NaN   \n",
       "gender                                     NaN   \n",
       "age                                        NaN   \n",
       "exercise                                   NaN   \n",
       "hours                                      NaN   \n",
       "grade                                      NaN   \n",
       "address   999 Nicolls Avenue, Oviedo, FL 32765   \n",
       "\n",
       "                                               1995  \\\n",
       "fname                                           NaN   \n",
       "lname                                           NaN   \n",
       "gender                                          NaN   \n",
       "age                                             NaN   \n",
       "exercise                                        NaN   \n",
       "hours                                           NaN   \n",
       "grade                                           NaN   \n",
       "address   999 Sleepy Hollow Lane, Detroit, MI 48205   \n",
       "\n",
       "                                            1996  \\\n",
       "fname                                        NaN   \n",
       "lname                                        NaN   \n",
       "gender                                       NaN   \n",
       "age                                          NaN   \n",
       "exercise                                     NaN   \n",
       "hours                                        NaN   \n",
       "grade                                        NaN   \n",
       "address   9991 Parker Court, Lansdowne, PA 19050   \n",
       "\n",
       "                                                  1997  \\\n",
       "fname                                              NaN   \n",
       "lname                                              NaN   \n",
       "gender                                             NaN   \n",
       "age                                                NaN   \n",
       "exercise                                           NaN   \n",
       "hours                                              NaN   \n",
       "grade                                              NaN   \n",
       "address   9995 Glenholme St., Upper Marlboro, MD 20772   \n",
       "\n",
       "                                          1998  \\\n",
       "fname                                      NaN   \n",
       "lname                                      NaN   \n",
       "gender                                     NaN   \n",
       "age                                        NaN   \n",
       "exercise                                   NaN   \n",
       "hours                                      NaN   \n",
       "grade                                      NaN   \n",
       "address   9997 Nicolls St., Bellmore, NY 11710   \n",
       "\n",
       "                                          1999  \n",
       "fname                                      NaN  \n",
       "lname                                      NaN  \n",
       "gender                                     NaN  \n",
       "age                                        NaN  \n",
       "exercise                                   NaN  \n",
       "hours                                      NaN  \n",
       "grade                                      NaN  \n",
       "address   9999 Longbranch St., Wayne, NJ 07470  \n",
       "\n",
       "[8 rows x 2000 columns]"
      ]
     },
     "execution_count": 3,
     "metadata": {},
     "output_type": "execute_result"
    }
   ],
   "source": [
    "# Data Quality Report\n",
    "# import the data\n",
    "import pandas as pd\n",
    "Location = \"datasets\\gradedata.csv\"\n",
    "df = pd.read_csv(Location)\n",
    "df.head()\n",
    "df.mode().transpose()"
   ]
  },
  {
   "cell_type": "code",
   "execution_count": 4,
   "id": "dd8273b9-66d0-4658-840e-b64546b72511",
   "metadata": {},
   "outputs": [
    {
     "data": {
      "text/html": [
       "<div>\n",
       "<style scoped>\n",
       "    .dataframe tbody tr th:only-of-type {\n",
       "        vertical-align: middle;\n",
       "    }\n",
       "\n",
       "    .dataframe tbody tr th {\n",
       "        vertical-align: top;\n",
       "    }\n",
       "\n",
       "    .dataframe thead th {\n",
       "        text-align: right;\n",
       "    }\n",
       "</style>\n",
       "<table border=\"1\" class=\"dataframe\">\n",
       "  <thead>\n",
       "    <tr style=\"text-align: right;\">\n",
       "      <th></th>\n",
       "      <th>Data Type</th>\n",
       "    </tr>\n",
       "  </thead>\n",
       "  <tbody>\n",
       "    <tr>\n",
       "      <th>fname</th>\n",
       "      <td>object</td>\n",
       "    </tr>\n",
       "    <tr>\n",
       "      <th>lname</th>\n",
       "      <td>object</td>\n",
       "    </tr>\n",
       "    <tr>\n",
       "      <th>gender</th>\n",
       "      <td>object</td>\n",
       "    </tr>\n",
       "    <tr>\n",
       "      <th>age</th>\n",
       "      <td>int64</td>\n",
       "    </tr>\n",
       "    <tr>\n",
       "      <th>exercise</th>\n",
       "      <td>int64</td>\n",
       "    </tr>\n",
       "    <tr>\n",
       "      <th>hours</th>\n",
       "      <td>int64</td>\n",
       "    </tr>\n",
       "    <tr>\n",
       "      <th>grade</th>\n",
       "      <td>float64</td>\n",
       "    </tr>\n",
       "    <tr>\n",
       "      <th>address</th>\n",
       "      <td>object</td>\n",
       "    </tr>\n",
       "  </tbody>\n",
       "</table>\n",
       "</div>"
      ],
      "text/plain": [
       "         Data Type\n",
       "fname       object\n",
       "lname       object\n",
       "gender      object\n",
       "age          int64\n",
       "exercise     int64\n",
       "hours        int64\n",
       "grade      float64\n",
       "address     object"
      ]
     },
     "execution_count": 4,
     "metadata": {},
     "output_type": "execute_result"
    }
   ],
   "source": [
    "# finding data types of each column\n",
    "data_types = pd.DataFrame(df.dtypes, columns = ['Data Type'])\n",
    "data_types"
   ]
  },
  {
   "cell_type": "code",
   "execution_count": 14,
   "id": "d1954ad8-fff2-401f-bc54-5fb9bb7c5467",
   "metadata": {},
   "outputs": [
    {
     "data": {
      "text/html": [
       "<div>\n",
       "<style scoped>\n",
       "    .dataframe tbody tr th:only-of-type {\n",
       "        vertical-align: middle;\n",
       "    }\n",
       "\n",
       "    .dataframe tbody tr th {\n",
       "        vertical-align: top;\n",
       "    }\n",
       "\n",
       "    .dataframe thead th {\n",
       "        text-align: right;\n",
       "    }\n",
       "</style>\n",
       "<table border=\"1\" class=\"dataframe\">\n",
       "  <thead>\n",
       "    <tr style=\"text-align: right;\">\n",
       "      <th></th>\n",
       "      <th>Missing Values</th>\n",
       "    </tr>\n",
       "  </thead>\n",
       "  <tbody>\n",
       "    <tr>\n",
       "      <th>fname</th>\n",
       "      <td>0</td>\n",
       "    </tr>\n",
       "    <tr>\n",
       "      <th>lname</th>\n",
       "      <td>0</td>\n",
       "    </tr>\n",
       "    <tr>\n",
       "      <th>gender</th>\n",
       "      <td>0</td>\n",
       "    </tr>\n",
       "    <tr>\n",
       "      <th>age</th>\n",
       "      <td>0</td>\n",
       "    </tr>\n",
       "    <tr>\n",
       "      <th>exercise</th>\n",
       "      <td>0</td>\n",
       "    </tr>\n",
       "    <tr>\n",
       "      <th>hours</th>\n",
       "      <td>0</td>\n",
       "    </tr>\n",
       "    <tr>\n",
       "      <th>grade</th>\n",
       "      <td>0</td>\n",
       "    </tr>\n",
       "    <tr>\n",
       "      <th>address</th>\n",
       "      <td>0</td>\n",
       "    </tr>\n",
       "  </tbody>\n",
       "</table>\n",
       "</div>"
      ],
      "text/plain": [
       "          Missing Values\n",
       "fname                  0\n",
       "lname                  0\n",
       "gender                 0\n",
       "age                    0\n",
       "exercise               0\n",
       "hours                  0\n",
       "grade                  0\n",
       "address                0"
      ]
     },
     "execution_count": 14,
     "metadata": {},
     "output_type": "execute_result"
    }
   ],
   "source": [
    "# counting number of missing observations by column\n",
    "missing_data_counts = pd.DataFrame(df.isnull().sum(), columns = ['Missing Values'])\n",
    "missing_data_counts"
   ]
  },
  {
   "cell_type": "code",
   "execution_count": 13,
   "id": "fcdafdfd-13c6-4bd4-8c1b-c7f6229caf91",
   "metadata": {},
   "outputs": [
    {
     "data": {
      "text/html": [
       "<div>\n",
       "<style scoped>\n",
       "    .dataframe tbody tr th:only-of-type {\n",
       "        vertical-align: middle;\n",
       "    }\n",
       "\n",
       "    .dataframe tbody tr th {\n",
       "        vertical-align: top;\n",
       "    }\n",
       "\n",
       "    .dataframe thead th {\n",
       "        text-align: right;\n",
       "    }\n",
       "</style>\n",
       "<table border=\"1\" class=\"dataframe\">\n",
       "  <thead>\n",
       "    <tr style=\"text-align: right;\">\n",
       "      <th></th>\n",
       "      <th>Present Values</th>\n",
       "    </tr>\n",
       "  </thead>\n",
       "  <tbody>\n",
       "    <tr>\n",
       "      <th>fname</th>\n",
       "      <td>2000</td>\n",
       "    </tr>\n",
       "    <tr>\n",
       "      <th>lname</th>\n",
       "      <td>2000</td>\n",
       "    </tr>\n",
       "    <tr>\n",
       "      <th>gender</th>\n",
       "      <td>2000</td>\n",
       "    </tr>\n",
       "    <tr>\n",
       "      <th>age</th>\n",
       "      <td>2000</td>\n",
       "    </tr>\n",
       "    <tr>\n",
       "      <th>exercise</th>\n",
       "      <td>2000</td>\n",
       "    </tr>\n",
       "    <tr>\n",
       "      <th>hours</th>\n",
       "      <td>2000</td>\n",
       "    </tr>\n",
       "    <tr>\n",
       "      <th>grade</th>\n",
       "      <td>2000</td>\n",
       "    </tr>\n",
       "    <tr>\n",
       "      <th>address</th>\n",
       "      <td>2000</td>\n",
       "    </tr>\n",
       "  </tbody>\n",
       "</table>\n",
       "</div>"
      ],
      "text/plain": [
       "          Present Values\n",
       "fname               2000\n",
       "lname               2000\n",
       "gender              2000\n",
       "age                 2000\n",
       "exercise            2000\n",
       "hours               2000\n",
       "grade               2000\n",
       "address             2000"
      ]
     },
     "execution_count": 13,
     "metadata": {},
     "output_type": "execute_result"
    }
   ],
   "source": [
    "# counting number of present observations by column\n",
    "present_data_counts = pd.DataFrame(df.count(), columns=['Present Values'])\n",
    "present_data_counts"
   ]
  },
  {
   "cell_type": "code",
   "execution_count": 8,
   "id": "61515439-8152-42c3-bb69-37ca0679e73a",
   "metadata": {},
   "outputs": [
    {
     "data": {
      "text/html": [
       "<div>\n",
       "<style scoped>\n",
       "    .dataframe tbody tr th:only-of-type {\n",
       "        vertical-align: middle;\n",
       "    }\n",
       "\n",
       "    .dataframe tbody tr th {\n",
       "        vertical-align: top;\n",
       "    }\n",
       "\n",
       "    .dataframe thead th {\n",
       "        text-align: right;\n",
       "    }\n",
       "</style>\n",
       "<table border=\"1\" class=\"dataframe\">\n",
       "  <thead>\n",
       "    <tr style=\"text-align: right;\">\n",
       "      <th></th>\n",
       "      <th>Unique Values</th>\n",
       "    </tr>\n",
       "  </thead>\n",
       "  <tbody>\n",
       "    <tr>\n",
       "      <th>fname</th>\n",
       "      <td>958</td>\n",
       "    </tr>\n",
       "    <tr>\n",
       "      <th>lname</th>\n",
       "      <td>877</td>\n",
       "    </tr>\n",
       "    <tr>\n",
       "      <th>gender</th>\n",
       "      <td>2</td>\n",
       "    </tr>\n",
       "    <tr>\n",
       "      <th>age</th>\n",
       "      <td>6</td>\n",
       "    </tr>\n",
       "    <tr>\n",
       "      <th>exercise</th>\n",
       "      <td>6</td>\n",
       "    </tr>\n",
       "    <tr>\n",
       "      <th>hours</th>\n",
       "      <td>21</td>\n",
       "    </tr>\n",
       "    <tr>\n",
       "      <th>grade</th>\n",
       "      <td>385</td>\n",
       "    </tr>\n",
       "    <tr>\n",
       "      <th>address</th>\n",
       "      <td>2000</td>\n",
       "    </tr>\n",
       "  </tbody>\n",
       "</table>\n",
       "</div>"
      ],
      "text/plain": [
       "         Unique Values\n",
       "fname              958\n",
       "lname              877\n",
       "gender               2\n",
       "age                  6\n",
       "exercise             6\n",
       "hours               21\n",
       "grade              385\n",
       "address           2000"
      ]
     },
     "execution_count": 8,
     "metadata": {},
     "output_type": "execute_result"
    }
   ],
   "source": [
    "# counting number of unique observations by column\n",
    "unique_value_counts = pd.DataFrame(columns = ['Unique Values'])\n",
    "for v in list(df.columns.values):\n",
    "    unique_value_counts.loc[v] = [df[v].nunique()] # why do we have to make it a list here\n",
    "unique_value_counts"
   ]
  },
  {
   "cell_type": "code",
   "execution_count": 10,
   "id": "08c192d0-081e-4dd9-9ee2-32c898e1a722",
   "metadata": {},
   "outputs": [
    {
     "data": {
      "text/html": [
       "<div>\n",
       "<style scoped>\n",
       "    .dataframe tbody tr th:only-of-type {\n",
       "        vertical-align: middle;\n",
       "    }\n",
       "\n",
       "    .dataframe tbody tr th {\n",
       "        vertical-align: top;\n",
       "    }\n",
       "\n",
       "    .dataframe thead th {\n",
       "        text-align: right;\n",
       "    }\n",
       "</style>\n",
       "<table border=\"1\" class=\"dataframe\">\n",
       "  <thead>\n",
       "    <tr style=\"text-align: right;\">\n",
       "      <th></th>\n",
       "      <th>Minimum Values</th>\n",
       "    </tr>\n",
       "  </thead>\n",
       "  <tbody>\n",
       "    <tr>\n",
       "      <th>fname</th>\n",
       "      <td>Aaron</td>\n",
       "    </tr>\n",
       "    <tr>\n",
       "      <th>lname</th>\n",
       "      <td>Acevedo</td>\n",
       "    </tr>\n",
       "    <tr>\n",
       "      <th>gender</th>\n",
       "      <td>female</td>\n",
       "    </tr>\n",
       "    <tr>\n",
       "      <th>age</th>\n",
       "      <td>14</td>\n",
       "    </tr>\n",
       "    <tr>\n",
       "      <th>exercise</th>\n",
       "      <td>0</td>\n",
       "    </tr>\n",
       "    <tr>\n",
       "      <th>hours</th>\n",
       "      <td>0</td>\n",
       "    </tr>\n",
       "    <tr>\n",
       "      <th>grade</th>\n",
       "      <td>32.0</td>\n",
       "    </tr>\n",
       "    <tr>\n",
       "      <th>address</th>\n",
       "      <td>1 Chapel Ave., Cheshire, CT 06410</td>\n",
       "    </tr>\n",
       "  </tbody>\n",
       "</table>\n",
       "</div>"
      ],
      "text/plain": [
       "                             Minimum Values\n",
       "fname                                 Aaron\n",
       "lname                               Acevedo\n",
       "gender                               female\n",
       "age                                      14\n",
       "exercise                                  0\n",
       "hours                                     0\n",
       "grade                                  32.0\n",
       "address   1 Chapel Ave., Cheshire, CT 06410"
      ]
     },
     "execution_count": 10,
     "metadata": {},
     "output_type": "execute_result"
    }
   ],
   "source": [
    "# finding the  minimum value for each column\n",
    "minimum_values = pd.DataFrame(columns = ['Minimum Values'])\n",
    "for v in list(df.columns.values):\n",
    "    minimum_values.loc[v] = [df[v].min()]\n",
    "minimum_values"
   ]
  },
  {
   "cell_type": "code",
   "execution_count": 11,
   "id": "de848739-6fdf-49ac-b565-10ed22035ea5",
   "metadata": {},
   "outputs": [
    {
     "data": {
      "text/html": [
       "<div>\n",
       "<style scoped>\n",
       "    .dataframe tbody tr th:only-of-type {\n",
       "        vertical-align: middle;\n",
       "    }\n",
       "\n",
       "    .dataframe tbody tr th {\n",
       "        vertical-align: top;\n",
       "    }\n",
       "\n",
       "    .dataframe thead th {\n",
       "        text-align: right;\n",
       "    }\n",
       "</style>\n",
       "<table border=\"1\" class=\"dataframe\">\n",
       "  <thead>\n",
       "    <tr style=\"text-align: right;\">\n",
       "      <th></th>\n",
       "      <th>Maximum Values</th>\n",
       "    </tr>\n",
       "  </thead>\n",
       "  <tbody>\n",
       "    <tr>\n",
       "      <th>fname</th>\n",
       "      <td>Zorita</td>\n",
       "    </tr>\n",
       "    <tr>\n",
       "      <th>lname</th>\n",
       "      <td>Zimmerman</td>\n",
       "    </tr>\n",
       "    <tr>\n",
       "      <th>gender</th>\n",
       "      <td>male</td>\n",
       "    </tr>\n",
       "    <tr>\n",
       "      <th>age</th>\n",
       "      <td>19</td>\n",
       "    </tr>\n",
       "    <tr>\n",
       "      <th>exercise</th>\n",
       "      <td>5</td>\n",
       "    </tr>\n",
       "    <tr>\n",
       "      <th>hours</th>\n",
       "      <td>20</td>\n",
       "    </tr>\n",
       "    <tr>\n",
       "      <th>grade</th>\n",
       "      <td>100.0</td>\n",
       "    </tr>\n",
       "    <tr>\n",
       "      <th>address</th>\n",
       "      <td>9999 Longbranch St., Wayne, NJ 07470</td>\n",
       "    </tr>\n",
       "  </tbody>\n",
       "</table>\n",
       "</div>"
      ],
      "text/plain": [
       "                                Maximum Values\n",
       "fname                                   Zorita\n",
       "lname                                Zimmerman\n",
       "gender                                    male\n",
       "age                                         19\n",
       "exercise                                     5\n",
       "hours                                       20\n",
       "grade                                    100.0\n",
       "address   9999 Longbranch St., Wayne, NJ 07470"
      ]
     },
     "execution_count": 11,
     "metadata": {},
     "output_type": "execute_result"
    }
   ],
   "source": [
    "# finding the maximum value for each column\n",
    "maximum_values = pd.DataFrame(columns = ['Maximum Values'])\n",
    "for v in list(df.columns.values):\n",
    "    maximum_values.loc[v] = [df[v].max()]\n",
    "maximum_values"
   ]
  },
  {
   "cell_type": "code",
   "execution_count": 15,
   "id": "30b670ee-8e2a-444e-9eb7-94b6a08d1bd7",
   "metadata": {},
   "outputs": [
    {
     "data": {
      "text/html": [
       "<div>\n",
       "<style scoped>\n",
       "    .dataframe tbody tr th:only-of-type {\n",
       "        vertical-align: middle;\n",
       "    }\n",
       "\n",
       "    .dataframe tbody tr th {\n",
       "        vertical-align: top;\n",
       "    }\n",
       "\n",
       "    .dataframe thead th {\n",
       "        text-align: right;\n",
       "    }\n",
       "</style>\n",
       "<table border=\"1\" class=\"dataframe\">\n",
       "  <thead>\n",
       "    <tr style=\"text-align: right;\">\n",
       "      <th></th>\n",
       "      <th>Present Values</th>\n",
       "      <th>Missing Values</th>\n",
       "      <th>Unique Values</th>\n",
       "      <th>Minimum Values</th>\n",
       "      <th>Maximum Values</th>\n",
       "    </tr>\n",
       "  </thead>\n",
       "  <tbody>\n",
       "    <tr>\n",
       "      <th>fname</th>\n",
       "      <td>2000</td>\n",
       "      <td>0</td>\n",
       "      <td>958</td>\n",
       "      <td>Aaron</td>\n",
       "      <td>Zorita</td>\n",
       "    </tr>\n",
       "    <tr>\n",
       "      <th>lname</th>\n",
       "      <td>2000</td>\n",
       "      <td>0</td>\n",
       "      <td>877</td>\n",
       "      <td>Acevedo</td>\n",
       "      <td>Zimmerman</td>\n",
       "    </tr>\n",
       "    <tr>\n",
       "      <th>gender</th>\n",
       "      <td>2000</td>\n",
       "      <td>0</td>\n",
       "      <td>2</td>\n",
       "      <td>female</td>\n",
       "      <td>male</td>\n",
       "    </tr>\n",
       "    <tr>\n",
       "      <th>age</th>\n",
       "      <td>2000</td>\n",
       "      <td>0</td>\n",
       "      <td>6</td>\n",
       "      <td>14</td>\n",
       "      <td>19</td>\n",
       "    </tr>\n",
       "    <tr>\n",
       "      <th>exercise</th>\n",
       "      <td>2000</td>\n",
       "      <td>0</td>\n",
       "      <td>6</td>\n",
       "      <td>0</td>\n",
       "      <td>5</td>\n",
       "    </tr>\n",
       "    <tr>\n",
       "      <th>hours</th>\n",
       "      <td>2000</td>\n",
       "      <td>0</td>\n",
       "      <td>21</td>\n",
       "      <td>0</td>\n",
       "      <td>20</td>\n",
       "    </tr>\n",
       "    <tr>\n",
       "      <th>grade</th>\n",
       "      <td>2000</td>\n",
       "      <td>0</td>\n",
       "      <td>385</td>\n",
       "      <td>32.0</td>\n",
       "      <td>100.0</td>\n",
       "    </tr>\n",
       "    <tr>\n",
       "      <th>address</th>\n",
       "      <td>2000</td>\n",
       "      <td>0</td>\n",
       "      <td>2000</td>\n",
       "      <td>1 Chapel Ave., Cheshire, CT 06410</td>\n",
       "      <td>9999 Longbranch St., Wayne, NJ 07470</td>\n",
       "    </tr>\n",
       "  </tbody>\n",
       "</table>\n",
       "</div>"
      ],
      "text/plain": [
       "          Present Values  Missing Values Unique Values  \\\n",
       "fname               2000               0           958   \n",
       "lname               2000               0           877   \n",
       "gender              2000               0             2   \n",
       "age                 2000               0             6   \n",
       "exercise            2000               0             6   \n",
       "hours               2000               0            21   \n",
       "grade               2000               0           385   \n",
       "address             2000               0          2000   \n",
       "\n",
       "                             Minimum Values  \\\n",
       "fname                                 Aaron   \n",
       "lname                               Acevedo   \n",
       "gender                               female   \n",
       "age                                      14   \n",
       "exercise                                  0   \n",
       "hours                                     0   \n",
       "grade                                  32.0   \n",
       "address   1 Chapel Ave., Cheshire, CT 06410   \n",
       "\n",
       "                                Maximum Values  \n",
       "fname                                   Zorita  \n",
       "lname                                Zimmerman  \n",
       "gender                                    male  \n",
       "age                                         19  \n",
       "exercise                                     5  \n",
       "hours                                       20  \n",
       "grade                                    100.0  \n",
       "address   9999 Longbranch St., Wayne, NJ 07470  "
      ]
     },
     "execution_count": 15,
     "metadata": {},
     "output_type": "execute_result"
    }
   ],
   "source": [
    "# Joining all the computed lists into 1 report\n",
    "pd.concat([present_data_counts, missing_data_counts, unique_value_counts, minimum_values, maximum_values], axis = 1)"
   ]
  },
  {
   "cell_type": "code",
   "execution_count": 18,
   "id": "d99f4aff-9aa0-418c-a6e8-c493d3a64124",
   "metadata": {},
   "outputs": [
    {
     "data": {
      "text/plain": [
       "<AxesSubplot:>"
      ]
     },
     "execution_count": 18,
     "metadata": {},
     "output_type": "execute_result"
    },
    {
     "data": {
      "image/png": "[encoded data removed]",
      "text/plain": [
       "<Figure size 432x288 with 1 Axes>"
      ]
     },
     "metadata": {
      "needs_background": "light"
     },
     "output_type": "display_data"
    }
   ],
   "source": [
    "# Graph a Dataset: Line Plot\n",
    "import pandas as pd\n",
    "names = ['Bob','Jessica','Mary','John','Mel']\n",
    "grades = [76,83,77,78,95]\n",
    "GradeList = zip(names,grades)\n",
    "\n",
    "df = pd.DataFrame(data = GradeList,columns=['Names', 'Grades'])\n",
    "%matplotlib inline\n",
    "df.plot()"
   ]
  },
  {
   "cell_type": "code",
   "execution_count": 19,
   "id": "3e6c354d-e659-4215-8984-01bed13efd8e",
   "metadata": {},
   "outputs": [
    {
     "data": {
      "text/plain": [
       "Text(8, 0, 'my annotation')"
      ]
     },
     "execution_count": 19,
     "metadata": {},
     "output_type": "execute_result"
    },
    {
     "data": {
      "image/png": "[encoded data removed]",
      "text/plain": [
       "<Figure size 432x288 with 1 Axes>"
      ]
     },
     "metadata": {
      "needs_background": "light"
     },
     "output_type": "display_data"
    }
   ],
   "source": [
    "# code to plot a customized graph\n",
    "'''\n",
    "In an annotation, there are two points to consider: \n",
    "    - the location being annotated represented by the argument xy (the exact data point we care about)\n",
    "    - the location of the text xytext. (the text starting point)\n",
    "    Both of these arguments are (x, y) tuples.\n",
    "\n",
    "annotate:\n",
    "    displayText: the text we want to show for this annotation\n",
    "    xloc, yloc: the coordinates of the data point we want to annotate\n",
    "    xtext, ytext: coordinates of where we want the text to appear using the coordinate system specified in textcoords\n",
    "    xycoords: sets the coordinate system to use to find the data point; it can be set separately for x and y. Default is 'data\n",
    "    textcoords: sets the coordinate system to use to place the text\n",
    "'''\n",
    "import matplotlib.pyplot as plt\n",
    "df.plot() # This line draws the plot, and the rest of the codes are for annotation\n",
    "displayText = \"my annotation\"\n",
    "xloc = 1\n",
    "yloc = df['Grades'].max()\n",
    "xtext = 8\n",
    "ytext = 0\n",
    "plt.annotate(displayText, \n",
    "             xy = (xloc, yloc), \n",
    "            xytext = (xtext, ytext),\n",
    "            xycoords = ('axes fraction', 'data'), # axes fraction: (0, 0) is lower left of axes and (1, 1) is upper right / data: use the axes data coordinate system\n",
    "            textcoords = 'offset points')"
   ]
  },
  {
   "cell_type": "code",
   "execution_count": 20,
   "id": "f1a7ae70-6090-41b4-9dcc-ef07bc36ee70",
   "metadata": {},
   "outputs": [
    {
     "data": {
      "text/plain": [
       "Text(8, -150, 'my annotation')"
      ]
     },
     "execution_count": 20,
     "metadata": {},
     "output_type": "execute_result"
    },
    {
     "data": {
      "image/png": "[encoded data removed]",
      "text/plain": [
       "<Figure size 432x288 with 1 Axes>"
      ]
     },
     "metadata": {
      "needs_background": "light"
     },
     "output_type": "display_data"
    }
   ],
   "source": [
    "# add an arrow linking the data point\n",
    "df.plot()\n",
    "displayText = \"my annotation\"\n",
    "xloc = 1\n",
    "yloc = df['Grades'].max()\n",
    "xtext = 8\n",
    "ytext = -150\n",
    "plt.annotate(displayText,\n",
    "            xy = (xloc, yloc),\n",
    "            arrowprops = dict(facecolor = 'black', shrink = 0.05), # from (xtext, ytext) to (xloc, yloc)\n",
    "            xytext = (xtext, ytext),\n",
    "            xycoords = ('axes fraction', 'data'),\n",
    "            textcoords = 'offset points')"
   ]
  },
  {
   "cell_type": "code",
   "execution_count": 62,
   "id": "380fa58f-154e-4d32-ae78-3e013c75fa16",
   "metadata": {},
   "outputs": [
    {
     "data": {
      "text/plain": [
       "Text(0.5, 0    76\n",
       "Name: Grades, dtype: int64, 'Wow!')"
      ]
     },
     "execution_count": 62,
     "metadata": {},
     "output_type": "execute_result"
    },
    {
     "data": {
      "image/png": "[encoded data removed]",
      "text/plain": [
       "<Figure size 432x288 with 1 Axes>"
      ]
     },
     "metadata": {
      "needs_background": "light"
     },
     "output_type": "display_data"
    }
   ],
   "source": [
    "# Take the same dataset we used in this example and add an annotation to Bob's 76 that says “Wow!”\n",
    "df.plot()\n",
    "displayText = \"Wow!\"\n",
    "xloc = 0\n",
    "yloc = df[df['Names'] == 'Bob']['Grades']\n",
    "xtext = 0.5\n",
    "ytext = df[df['Names'] == 'Bob']['Grades']\n",
    "plt.annotate(displayText,\n",
    "            xy = (xloc, yloc),\n",
    "            arrowprops = dict(facecolor = 'black', shrink = 0.01),\n",
    "            xytext = (xtext, ytext),\n",
    "            xycoords = 'data',\n",
    "            textcoords = 'data')"
   ]
  },
  {
   "cell_type": "code",
   "execution_count": 67,
   "id": "9a74ed3b-49cb-45a9-a1fb-682b47a0f95d",
   "metadata": {},
   "outputs": [
    {
     "data": {
      "text/plain": [
       "<AxesSubplot:>"
      ]
     },
     "execution_count": 67,
     "metadata": {},
     "output_type": "execute_result"
    },
    {
     "data": {
      "image/png": "[encoded data removed]",
      "text/plain": [
       "<Figure size 432x288 with 1 Axes>"
      ]
     },
     "metadata": {
      "needs_background": "light"
     },
     "output_type": "display_data"
    }
   ],
   "source": [
    "# Graph a Dataset: Bar Plot\n",
    "import matplotlib.pyplot as plt\n",
    "import pandas as pd\n",
    "names = ['Bob', 'Jessica', 'Mary', 'John', 'Mel']\n",
    "status = ['Senior', 'Freshman', 'Sophomore', 'Senior', 'Junior']\n",
    "grades = [76, 95, 77, 78, 99]\n",
    "GradeList = zip(names, grades)\n",
    "df = pd.DataFrame(data = GradeList, columns = ['Names', 'Grades'])\n",
    "%matplotlib inline\n",
    "df.plot(kind = 'bar')"
   ]
  },
  {
   "cell_type": "code",
   "execution_count": 70,
   "id": "0a20375c-1ac5-4e8c-92d0-fda7b7e894a8",
   "metadata": {},
   "outputs": [
    {
     "data": {
      "text/plain": [
       "<AxesSubplot:xlabel='Names'>"
      ]
     },
     "execution_count": 70,
     "metadata": {},
     "output_type": "execute_result"
    },
    {
     "data": {
      "image/png": "[encoded data removed]",
      "text/plain": [
       "<Figure size 432x288 with 1 Axes>"
      ]
     },
     "metadata": {
      "needs_background": "light"
     },
     "output_type": "display_data"
    }
   ],
   "source": [
    "# convert the Names column into the index\n",
    "df2 = df.set_index(df['Names']) # originally, the row index is 0, 1, 2, ... and now it becomes Bob, Jessica, Mary, ...\n",
    "df2.plot(kind = 'bar')"
   ]
  },
  {
   "cell_type": "code",
   "execution_count": 75,
   "id": "e5d78311-ce91-44b0-abdc-c51ded29d2c7",
   "metadata": {},
   "outputs": [
    {
     "data": {
      "text/plain": [
       "<AxesSubplot:xlabel='Status'>"
      ]
     },
     "execution_count": 75,
     "metadata": {},
     "output_type": "execute_result"
    },
    {
     "data": {
      "image/png": "[encoded data removed]",
      "text/plain": [
       "<Figure size 432x288 with 1 Axes>"
      ]
     },
     "metadata": {
      "needs_background": "light"
     },
     "output_type": "display_data"
    }
   ],
   "source": [
    "# Can you change the code to create a bar plot where the status is the label?\n",
    "import matplotlib.pyplot as plt\n",
    "import pandas as pd\n",
    "names = ['Bob', 'Jessica', 'Mary', 'John', 'Mel']\n",
    "status = ['Senior', 'Freshman', 'Sophomore', 'Senior', 'Junior']\n",
    "grades = [76, 95, 77, 78, 99]\n",
    "TotalList = zip(names, status, grades)\n",
    "df_status = pd.DataFrame(data = TotalList, columns = ['Names', 'Status', 'Grades'])\n",
    "\n",
    "df_to_plot = pd.pivot_table(df_status, index = ['Status'])\n",
    "df_to_plot.plot(kind='bar')"
   ]
  },
  {
   "cell_type": "code",
   "execution_count": 80,
   "id": "24085a12-949c-4330-9ae4-ebb04b39e0ac",
   "metadata": {},
   "outputs": [
    {
     "data": {
      "text/plain": [
       "<AxesSubplot:>"
      ]
     },
     "execution_count": 80,
     "metadata": {},
     "output_type": "execute_result"
    },
    {
     "data": {
      "image/png": "[encoded data removed]",
      "text/plain": [
       "<Figure size 432x288 with 1 Axes>"
      ]
     },
     "metadata": {
      "needs_background": "light"
     },
     "output_type": "display_data"
    }
   ],
   "source": [
    "# Graph a Dataset: Box Plot\n",
    "import matplotlib.pyplot as plt\n",
    "import pandas as pd\n",
    "%matplotlib inline\n",
    "names = ['Bob','Jessica','Mary','John','Mel']\n",
    "grades = [76,95,77,78,99]\n",
    "gender = ['Male','Female','Female','Male','Female']\n",
    "status = ['Senior','Senior','Junior','Junior','Senior']\n",
    "GradeList = zip(names, grades, gender, status)\n",
    "df = pd.DataFrame(data = GradeList, columns = ['Names', 'Grades', 'Gender', 'Status'])\n",
    "df.boxplot(column = 'Grades')"
   ]
  },
  {
   "cell_type": "code",
   "execution_count": 81,
   "id": "caaf258a-36b4-4bdd-a9a4-284964b5662a",
   "metadata": {},
   "outputs": [
    {
     "data": {
      "text/plain": [
       "<AxesSubplot:title={'center':'Grades'}, xlabel='Gender'>"
      ]
     },
     "execution_count": 81,
     "metadata": {},
     "output_type": "execute_result"
    },
    {
     "data": {
      "image/png": "[encoded data removed]",
      "text/plain": [
       "<Figure size 432x288 with 1 Axes>"
      ]
     },
     "metadata": {
      "needs_background": "light"
     },
     "output_type": "display_data"
    }
   ],
   "source": [
    "# create categorized graphs\n",
    "df.boxplot(by = 'Gender', column = 'Grades')"
   ]
  },
  {
   "cell_type": "code",
   "execution_count": 82,
   "id": "58e6d0ac-78ae-4dd1-b9dc-1e94bb0e59a9",
   "metadata": {},
   "outputs": [
    {
     "data": {
      "text/plain": [
       "(0.0, 100.0)"
      ]
     },
     "execution_count": 82,
     "metadata": {},
     "output_type": "execute_result"
    },
    {
     "data": {
      "image/png": "[encoded data removed]",
      "text/plain": [
       "<Figure size 432x288 with 1 Axes>"
      ]
     },
     "metadata": {
      "needs_background": "light"
     },
     "output_type": "display_data"
    }
   ],
   "source": [
    "# adjust the y-axis so that it runs from 0 to 100\n",
    "axis1 = df.boxplot(by = 'Gender', column = 'Grades')\n",
    "axis1.set_ylim(0, 100)"
   ]
  },
  {
   "cell_type": "code",
   "execution_count": 84,
   "id": "10f2d6bd-5210-4aa8-80da-ca1784307379",
   "metadata": {},
   "outputs": [
    {
     "data": {
      "text/plain": [
       "(50.0, 110.0)"
      ]
     },
     "execution_count": 84,
     "metadata": {},
     "output_type": "execute_result"
    },
    {
     "data": {
      "image/png": "[encoded data removed]",
      "text/plain": [
       "<Figure size 432x288 with 1 Axes>"
      ]
     },
     "metadata": {
      "needs_background": "light"
     },
     "output_type": "display_data"
    }
   ],
   "source": [
    "'''\n",
    "Using the dataset we just created:\n",
    "    • Can you create a box plot of the grades categorized by student status?\n",
    "    • Can you create that box plot with a y-axis that runs from 50 to 110?\n",
    "'''\n",
    "df.boxplot(by = 'Status', column = 'Grades').set_ylim(50, 110)"
   ]
  },
  {
   "cell_type": "code",
   "execution_count": 85,
   "id": "1499e139-ccc7-4de0-bb8a-314b05c68219",
   "metadata": {},
   "outputs": [
    {
     "data": {
      "text/html": [
       "<div>\n",
       "<style scoped>\n",
       "    .dataframe tbody tr th:only-of-type {\n",
       "        vertical-align: middle;\n",
       "    }\n",
       "\n",
       "    .dataframe tbody tr th {\n",
       "        vertical-align: top;\n",
       "    }\n",
       "\n",
       "    .dataframe thead th {\n",
       "        text-align: right;\n",
       "    }\n",
       "</style>\n",
       "<table border=\"1\" class=\"dataframe\">\n",
       "  <thead>\n",
       "    <tr style=\"text-align: right;\">\n",
       "      <th></th>\n",
       "      <th>fname</th>\n",
       "      <th>lname</th>\n",
       "      <th>gender</th>\n",
       "      <th>age</th>\n",
       "      <th>exercise</th>\n",
       "      <th>hours</th>\n",
       "      <th>grade</th>\n",
       "      <th>address</th>\n",
       "    </tr>\n",
       "  </thead>\n",
       "  <tbody>\n",
       "    <tr>\n",
       "      <th>0</th>\n",
       "      <td>Marcia</td>\n",
       "      <td>Pugh</td>\n",
       "      <td>female</td>\n",
       "      <td>17</td>\n",
       "      <td>3</td>\n",
       "      <td>10</td>\n",
       "      <td>82.4</td>\n",
       "      <td>9253 Richardson Road, Matawan, NJ 07747</td>\n",
       "    </tr>\n",
       "    <tr>\n",
       "      <th>1</th>\n",
       "      <td>Kadeem</td>\n",
       "      <td>Morrison</td>\n",
       "      <td>male</td>\n",
       "      <td>18</td>\n",
       "      <td>4</td>\n",
       "      <td>4</td>\n",
       "      <td>78.2</td>\n",
       "      <td>33 Spring Dr., Taunton, MA 02780</td>\n",
       "    </tr>\n",
       "    <tr>\n",
       "      <th>2</th>\n",
       "      <td>Nash</td>\n",
       "      <td>Powell</td>\n",
       "      <td>male</td>\n",
       "      <td>18</td>\n",
       "      <td>5</td>\n",
       "      <td>9</td>\n",
       "      <td>79.3</td>\n",
       "      <td>41 Hill Avenue, Mentor, OH 44060</td>\n",
       "    </tr>\n",
       "    <tr>\n",
       "      <th>3</th>\n",
       "      <td>Noelani</td>\n",
       "      <td>Wagner</td>\n",
       "      <td>female</td>\n",
       "      <td>14</td>\n",
       "      <td>2</td>\n",
       "      <td>7</td>\n",
       "      <td>83.2</td>\n",
       "      <td>8839 Marshall St., Miami, FL 33125</td>\n",
       "    </tr>\n",
       "    <tr>\n",
       "      <th>4</th>\n",
       "      <td>Noelani</td>\n",
       "      <td>Cherry</td>\n",
       "      <td>female</td>\n",
       "      <td>18</td>\n",
       "      <td>4</td>\n",
       "      <td>15</td>\n",
       "      <td>87.4</td>\n",
       "      <td>8304 Charles Rd., Lewis Center, OH 43035</td>\n",
       "    </tr>\n",
       "  </tbody>\n",
       "</table>\n",
       "</div>"
      ],
      "text/plain": [
       "     fname     lname  gender  age  exercise  hours  grade  \\\n",
       "0   Marcia      Pugh  female   17         3     10   82.4   \n",
       "1   Kadeem  Morrison    male   18         4      4   78.2   \n",
       "2     Nash    Powell    male   18         5      9   79.3   \n",
       "3  Noelani    Wagner  female   14         2      7   83.2   \n",
       "4  Noelani    Cherry  female   18         4     15   87.4   \n",
       "\n",
       "                                    address  \n",
       "0   9253 Richardson Road, Matawan, NJ 07747  \n",
       "1          33 Spring Dr., Taunton, MA 02780  \n",
       "2          41 Hill Avenue, Mentor, OH 44060  \n",
       "3        8839 Marshall St., Miami, FL 33125  \n",
       "4  8304 Charles Rd., Lewis Center, OH 43035  "
      ]
     },
     "execution_count": 85,
     "metadata": {},
     "output_type": "execute_result"
    }
   ],
   "source": [
    "# Graph a Dataset: Histogram\n",
    "import matplotlib.pyplot as plt\n",
    "import pandas as pd\n",
    "%matplotlib inline\n",
    "Location = \"datasets/gradedata.csv\"\n",
    "df = pd.read_csv(Location)\n",
    "df.head()"
   ]
  },
  {
   "cell_type": "code",
   "execution_count": 87,
   "id": "06e6420e-926d-473f-b9ca-8c376c749e16",
   "metadata": {},
   "outputs": [
    {
     "data": {
      "text/plain": [
       "array([[<AxesSubplot:title={'center':'age'}>,\n",
       "        <AxesSubplot:title={'center':'exercise'}>],\n",
       "       [<AxesSubplot:title={'center':'hours'}>,\n",
       "        <AxesSubplot:title={'center':'grade'}>]], dtype=object)"
      ]
     },
     "execution_count": 87,
     "metadata": {},
     "output_type": "execute_result"
    },
    {
     "data": {
      "image/png": "[encoded data removed]",
      "text/plain": [
       "<Figure size 432x288 with 4 Axes>"
      ]
     },
     "metadata": {
      "needs_background": "light"
     },
     "output_type": "display_data"
    }
   ],
   "source": [
    "# Because pandas is not sure which column you wish to count the values of, it gives you histograms for all the columns with numeric values\n",
    "df.hist()"
   ]
  },
  {
   "cell_type": "code",
   "execution_count": 89,
   "id": "37d90800-d200-4d51-bffe-5cdf6dd2532d",
   "metadata": {},
   "outputs": [
    {
     "data": {
      "text/plain": [
       "array([[<AxesSubplot:title={'center':'hours'}>]], dtype=object)"
      ]
     },
     "execution_count": 89,
     "metadata": {},
     "output_type": "execute_result"
    },
    {
     "data": {
      "image/png": "[encoded data removed]",
      "text/plain": [
       "<Figure size 432x288 with 1 Axes>"
      ]
     },
     "metadata": {
      "needs_background": "light"
     },
     "output_type": "display_data"
    }
   ],
   "source": [
    "# create histogram for single column\n",
    "df.hist(column = 'hours')"
   ]
  },
  {
   "cell_type": "code",
   "execution_count": 90,
   "id": "f6d3d543-6ea5-487c-a7ad-0cbead4c54ae",
   "metadata": {},
   "outputs": [
    {
     "data": {
      "text/plain": [
       "array([<AxesSubplot:title={'center':'female'}>,\n",
       "       <AxesSubplot:title={'center':'male'}>], dtype=object)"
      ]
     },
     "execution_count": 90,
     "metadata": {},
     "output_type": "execute_result"
    },
    {
     "data": {
      "image/png": "[encoded data removed]",
      "text/plain": [
       "<Figure size 432x288 with 2 Axes>"
      ]
     },
     "metadata": {
      "needs_background": "light"
     },
     "output_type": "display_data"
    }
   ],
   "source": [
    "# categorized histogram\n",
    "df.hist(column = 'hours', by = 'gender')"
   ]
  },
  {
   "cell_type": "code",
   "execution_count": 91,
   "id": "b1e5f48e-b3b5-42b8-9e73-25a251ee5d56",
   "metadata": {},
   "outputs": [
    {
     "data": {
      "text/html": [
       "<div>\n",
       "<style scoped>\n",
       "    .dataframe tbody tr th:only-of-type {\n",
       "        vertical-align: middle;\n",
       "    }\n",
       "\n",
       "    .dataframe tbody tr th {\n",
       "        vertical-align: top;\n",
       "    }\n",
       "\n",
       "    .dataframe thead th {\n",
       "        text-align: right;\n",
       "    }\n",
       "</style>\n",
       "<table border=\"1\" class=\"dataframe\">\n",
       "  <thead>\n",
       "    <tr style=\"text-align: right;\">\n",
       "      <th></th>\n",
       "      <th>Names</th>\n",
       "      <th>Absences</th>\n",
       "      <th>Detentions</th>\n",
       "      <th>Warnings</th>\n",
       "    </tr>\n",
       "  </thead>\n",
       "  <tbody>\n",
       "    <tr>\n",
       "      <th>0</th>\n",
       "      <td>Bob</td>\n",
       "      <td>3</td>\n",
       "      <td>2</td>\n",
       "      <td>2</td>\n",
       "    </tr>\n",
       "    <tr>\n",
       "      <th>1</th>\n",
       "      <td>Jessica</td>\n",
       "      <td>0</td>\n",
       "      <td>1</td>\n",
       "      <td>1</td>\n",
       "    </tr>\n",
       "    <tr>\n",
       "      <th>2</th>\n",
       "      <td>Mary</td>\n",
       "      <td>1</td>\n",
       "      <td>0</td>\n",
       "      <td>5</td>\n",
       "    </tr>\n",
       "    <tr>\n",
       "      <th>3</th>\n",
       "      <td>John</td>\n",
       "      <td>0</td>\n",
       "      <td>0</td>\n",
       "      <td>1</td>\n",
       "    </tr>\n",
       "    <tr>\n",
       "      <th>4</th>\n",
       "      <td>Mel</td>\n",
       "      <td>8</td>\n",
       "      <td>1</td>\n",
       "      <td>2</td>\n",
       "    </tr>\n",
       "  </tbody>\n",
       "</table>\n",
       "</div>"
      ],
      "text/plain": [
       "     Names  Absences  Detentions  Warnings\n",
       "0      Bob         3           2         2\n",
       "1  Jessica         0           1         1\n",
       "2     Mary         1           0         5\n",
       "3     John         0           0         1\n",
       "4      Mel         8           1         2"
      ]
     },
     "execution_count": 91,
     "metadata": {},
     "output_type": "execute_result"
    }
   ],
   "source": [
    "# Graph a Dataset: Pie Chart\n",
    "import pandas as pd\n",
    "import matplotlib.pyplot as plt\n",
    "%matplotlib inline\n",
    "names = ['Bob','Jessica','Mary','John','Mel']\n",
    "absences = [3,0,1,0,8]\n",
    "detentions = [2,1,0,0,1]\n",
    "warnings = [2,1,5,1,2]\n",
    "GradeList = zip(names,absences,detentions,warnings)\n",
    "columns=['Names', 'Absences', 'Detentions','Warnings']\n",
    "df = pd.DataFrame(data = GradeList, columns=columns)\n",
    "df"
   ]
  },
  {
   "cell_type": "code",
   "execution_count": 92,
   "id": "ef44f31f-fcf0-4acd-954e-3ffb34da4887",
   "metadata": {},
   "outputs": [
    {
     "data": {
      "text/html": [
       "<div>\n",
       "<style scoped>\n",
       "    .dataframe tbody tr th:only-of-type {\n",
       "        vertical-align: middle;\n",
       "    }\n",
       "\n",
       "    .dataframe tbody tr th {\n",
       "        vertical-align: top;\n",
       "    }\n",
       "\n",
       "    .dataframe thead th {\n",
       "        text-align: right;\n",
       "    }\n",
       "</style>\n",
       "<table border=\"1\" class=\"dataframe\">\n",
       "  <thead>\n",
       "    <tr style=\"text-align: right;\">\n",
       "      <th></th>\n",
       "      <th>Names</th>\n",
       "      <th>Absences</th>\n",
       "      <th>Detentions</th>\n",
       "      <th>Warnings</th>\n",
       "      <th>TotalDemerits</th>\n",
       "    </tr>\n",
       "  </thead>\n",
       "  <tbody>\n",
       "    <tr>\n",
       "      <th>0</th>\n",
       "      <td>Bob</td>\n",
       "      <td>3</td>\n",
       "      <td>2</td>\n",
       "      <td>2</td>\n",
       "      <td>7</td>\n",
       "    </tr>\n",
       "    <tr>\n",
       "      <th>1</th>\n",
       "      <td>Jessica</td>\n",
       "      <td>0</td>\n",
       "      <td>1</td>\n",
       "      <td>1</td>\n",
       "      <td>2</td>\n",
       "    </tr>\n",
       "    <tr>\n",
       "      <th>2</th>\n",
       "      <td>Mary</td>\n",
       "      <td>1</td>\n",
       "      <td>0</td>\n",
       "      <td>5</td>\n",
       "      <td>6</td>\n",
       "    </tr>\n",
       "    <tr>\n",
       "      <th>3</th>\n",
       "      <td>John</td>\n",
       "      <td>0</td>\n",
       "      <td>0</td>\n",
       "      <td>1</td>\n",
       "      <td>1</td>\n",
       "    </tr>\n",
       "    <tr>\n",
       "      <th>4</th>\n",
       "      <td>Mel</td>\n",
       "      <td>8</td>\n",
       "      <td>1</td>\n",
       "      <td>2</td>\n",
       "      <td>11</td>\n",
       "    </tr>\n",
       "  </tbody>\n",
       "</table>\n",
       "</div>"
      ],
      "text/plain": [
       "     Names  Absences  Detentions  Warnings  TotalDemerits\n",
       "0      Bob         3           2         2              7\n",
       "1  Jessica         0           1         1              2\n",
       "2     Mary         1           0         5              6\n",
       "3     John         0           0         1              1\n",
       "4      Mel         8           1         2             11"
      ]
     },
     "execution_count": 92,
     "metadata": {},
     "output_type": "execute_result"
    }
   ],
   "source": [
    "# creating new column\n",
    "df['TotalDemerits'] = df['Absences'] + df['Detentions'] + df['Warnings']\n",
    "df"
   ]
  },
  {
   "cell_type": "code",
   "execution_count": 93,
   "id": "96fe162e-0641-47ba-a42c-28c5ddc0833f",
   "metadata": {},
   "outputs": [
    {
     "data": {
      "text/plain": [
       "([<matplotlib.patches.Wedge at 0x2eac30914c0>,\n",
       "  <matplotlib.patches.Wedge at 0x2eac30918e0>,\n",
       "  <matplotlib.patches.Wedge at 0x2eac3091d00>,\n",
       "  <matplotlib.patches.Wedge at 0x2eac3091f10>,\n",
       "  <matplotlib.patches.Wedge at 0x2eac30a0370>],\n",
       " [Text(0.7548658155281622, 0.8001109926422726, ''),\n",
       "  Text(-0.3154835212675114, 1.0537884739399326, ''),\n",
       "  Text(-1.0336618730799265, 0.3762221845411275, ''),\n",
       "  Text(-0.9829959141992366, -0.49367907862052174, ''),\n",
       "  Text(0.3154835212675113, -1.0537884739399326, '')])"
      ]
     },
     "execution_count": 93,
     "metadata": {},
     "output_type": "execute_result"
    },
    {
     "data": {
      "image/png": "[encoded data removed]",
      "text/plain": [
       "<Figure size 432x288 with 1 Axes>"
      ]
     },
     "metadata": {},
     "output_type": "display_data"
    }
   ],
   "source": [
    "# simple pie chart\n",
    "plt.pie(df['TotalDemerits'])"
   ]
  },
  {
   "cell_type": "code",
   "execution_count": 109,
   "id": "fdd16c3f-73c0-4240-98a9-1a4f3429e4df",
   "metadata": {},
   "outputs": [
    {
     "data": {
      "image/png": "[encoded data removed]",
      "text/plain": [
       "<Figure size 432x288 with 1 Axes>"
      ]
     },
     "metadata": {},
     "output_type": "display_data"
    }
   ],
   "source": [
    "# create a customized pie chart\n",
    "plt.pie(df['TotalDemerits'],\n",
    "       labels = df['Names'], # name outside the pie chart\n",
    "        explode = (0, 0, 0, 0, 0.15), # explode out the purple part\n",
    "       startangle = 90, # rotate the pie chart\n",
    "        textprops={'color':\"w\"},\n",
    "       autopct = '%1.1f%%') # values on the pie chart\n",
    "plt.axis('equal')\n",
    "plt.show()"
   ]
  },
  {
   "cell_type": "code",
   "execution_count": 115,
   "id": "0aedcd8a-3913-4ecb-b7e1-e9cc30067d2d",
   "metadata": {},
   "outputs": [
    {
     "data": {
      "text/plain": [
       "<matplotlib.collections.PathCollection at 0x2eac8b03bb0>"
      ]
     },
     "execution_count": 115,
     "metadata": {},
     "output_type": "execute_result"
    },
    {
     "data": {
      "image/png": "[encoded data removed]",
      "text/plain": [
       "<Figure size 432x288 with 1 Axes>"
      ]
     },
     "metadata": {
      "needs_background": "light"
     },
     "output_type": "display_data"
    }
   ],
   "source": [
    "# Graph a Dataset: Scatter Plot\n",
    "import numpy as np\n",
    "import pandas as pd\n",
    "import matplotlib.pyplot as plt\n",
    "# specifies the figure should be shown inline\n",
    "%matplotlib inline\n",
    "dataframe = pd.DataFrame({'Col': np.random.normal(size = 200)}) # generates a random dataset of 200 values\n",
    "plt.scatter(dataframe.index, dataframe['Col']) # create a scatter plot using the index of the dataframe as the x and the values of column Col as the y"
   ]
  }
 ],
 "metadata": {
  "kernelspec": {
   "display_name": "Python 3",
   "language": "python",
   "name": "python3"
  },
  "language_info": {
   "codemirror_mode": {
    "name": "ipython",
    "version": 3
   },
   "file_extension": ".py",
   "mimetype": "text/x-python",
   "name": "python",
   "nbconvert_exporter": "python",
   "pygments_lexer": "ipython3",
   "version": "3.8.8"
  }
 },
 "nbformat": 4,
 "nbformat_minor": 5
}
