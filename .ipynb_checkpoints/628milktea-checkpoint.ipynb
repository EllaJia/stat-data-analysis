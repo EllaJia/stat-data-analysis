{
 "cells": [
  {
   "cell_type": "code",
   "execution_count": 2,
   "id": "7b6741eb",
   "metadata": {
    "scrolled": true
   },
   "outputs": [
    {
     "name": "stdout",
     "output_type": "stream",
     "text": [
      "C:\\Users\\ellen\\Desktop\\STAT 628\\Module 3\n",
      "C:\\Users\\ellen\\Desktop\\STAT 628\\Module 3\\selected_data\n"
     ]
    }
   ],
   "source": [
    "## read data\n",
    "import os\n",
    "import shutil\n",
    "import json\n",
    "import matplotlib.pyplot as plt \n",
    "import re\n",
    "import numpy as np\n",
    "print(os.getcwd())\n",
    "os.chdir(\"C:\\\\Users\\\\ellen\\\\Desktop\\\\STAT 628\\\\Module 3\\\\selected_data\")\n",
    "print(os.getcwd())"
   ]
  },
  {
   "cell_type": "code",
   "execution_count": 41,
   "id": "d59c9211",
   "metadata": {},
   "outputs": [],
   "source": []
  },
  {
   "cell_type": "code",
   "execution_count": 3,
   "id": "f1f711ba",
   "metadata": {
    "scrolled": true
   },
   "outputs": [
    {
     "name": "stdout",
     "output_type": "stream",
     "text": [
      "[{'review_id': 'vwaXupz9HVDC5hLqV5M6Eg', 'user_id': '80MUDP_Ny_J8jeShVxzdlw', 'business_id': 'ch1ercqwoNLpQLxpTb90KQ', 'stars': 5.0, 'useful': 1, 'funny': 1, 'cool': 2, 'text': \"Great spot. Comfortable little joint smack dab in the middle of Harvard Square. Drop in on a hot day and grab a bubble tea while shootin' the breeze with the staff. You can also challenge Harvard students to a game of Street Fighter 2 if you feel the need, but personally I like to just relax and keep the peace. \\n\\nThe only place that rivals this is a bubble tea shop in Calgary that I walked into awkwardly while they were still under construction. They told me to come back in and gave me a free bubble tea though so they are scoring points stricly on being nice and not charging anything (I still tipped though, I'm not a scumbag.) \\n\\nBoston Tea Stop (clever name especially with the MBTA map on the wall) is a valuable addition to the ever diminishing Harvard Square area. Pretty soon that neighborhood will be nothing but boring chain restaurants and mediocre bars so try and support the little guys while you can. \\n\\nAlso the staff deserves a shout-out. They can talk about the Rival Mob with the best of them.\", 'date': '2014-06-11 15:27:40'}, {'review_id': '0pjigXXVTpXvfdO4phZoGg', 'user_id': 'byro3oSQQ1gRESKlfiAqtQ', 'business_id': 'ch1ercqwoNLpQLxpTb90KQ', 'stars': 2.0, 'useful': 5, 'funny': 2, 'cool': 8, 'text': 'Highlights: Recently revisited BTS -- one of my favorite college hangout spots a few years back. Had an incredibly rude customer service experience. Surprised, disappointed, and won\\'t be returning. Even signed up for a Yelp account today to encourage them to increase their professionalism.\\n--------------------------\\nMore details: Needing to use the bathroom after downing my taro drink, I made for the door with the large bathroom sign on it. An Asian staff guy came out of nowhere, literally stuck his arm out across my chest, and forcibly pushed me away. \"Bathroom\\'s closed,\" he said in an abrupt, dismissive tone. Thinking he thought I might have just come in from the street, I let him know, \"I\\'m a paying customer.\" Grinning sardonically, he mocked, \"Are you also a reading customer?\" He pointed to a small sign on the side counter saying the bathroom was reserved for staff only. My mistake, but when I have to pee, I\\'m usually not looking around for small disclaimers. Did he need to make assumptions and say it the way he did? I might have expected such attitude from myself in college, but not out of people running a business. So I let him know, \"No, I\\'m not. I\\'m not going to be a customer at all anymore.\"\\n\\nHere comes my favorite part. His response? A snarky laugh with other staff, followed by \"That\\'s fine with me.\"\\n\\nBTS, you were a staple in my college years; I was there when you first opened behind the post office! And despite your upward creeping prices since, I have come back at least once a year because I loved the unpretentious atmosphere. I\\'m not sure what changed, but on principle I won\\'t be supporting a business that lacks respect for their customers.\\n\\n1 star for this experience, +1 star for the memories.', 'date': '2010-11-22 07:06:31'}]\n"
     ]
    }
   ],
   "source": [
    "#read reviews\n",
    "reviews=[]\n",
    "with open(\"bubble_tea_review.json\",'r',encoding=\"UTF-8\") as f:\n",
    "    for i in f:\n",
    "        reviews.append(json.loads(i))\n",
    "print(reviews[:2])"
   ]
  },
  {
   "cell_type": "code",
   "execution_count": 3,
   "id": "d9e894d4",
   "metadata": {},
   "outputs": [
    {
     "name": "stdout",
     "output_type": "stream",
     "text": [
      "[{'business_id': 'n-_p1jwGCbZT9YaTbugsdw', 'name': 'Vivi bubble Tea', 'address': '1111 E Colonial Dr, Ste 1111', 'city': 'Orlando', 'state': 'FL', 'postal_code': '32803', 'latitude': 28.5534641199, 'longitude': -81.3649773955, 'stars': 4.0, 'review_count': 197, 'is_open': 1, 'attributes': {'GoodForKids': 'True', 'WheelchairAccessible': 'True', 'BusinessParking': \"{'garage': False, 'street': True, 'validated': False, 'lot': True, 'valet': False}\", 'GoodForMeal': \"{'dessert': False, 'latenight': False, 'lunch': False, 'dinner': False, 'brunch': False, 'breakfast': False}\", 'DogsAllowed': 'False', 'NoiseLevel': \"u'average'\", 'RestaurantsTakeOut': 'True', 'RestaurantsReservations': 'True', 'Caters': 'False', 'RestaurantsPriceRange2': '1', 'BikeParking': 'True', 'BusinessAcceptsCreditCards': 'True'}, 'categories': 'Coffee & Tea, Food, Hot Dogs, Restaurants, Bubble Tea', 'hours': {'Monday': '11:0-22:30', 'Tuesday': '11:0-22:30', 'Wednesday': '11:0-22:30', 'Thursday': '11:0-22:30', 'Friday': '11:0-23:0', 'Saturday': '11:0-23:0', 'Sunday': '11:0-23:0'}}, {'business_id': '3thW8u8cgdCLKgYhKMhXBw', 'name': 'A Thai Basil', 'address': 'SW 10th & Alder St', 'city': 'Portland', 'state': 'OR', 'postal_code': '97205', 'latitude': 45.5205359903, 'longitude': -122.6816037297, 'stars': 3.0, 'review_count': 41, 'is_open': 0, 'attributes': {'GoodForMeal': \"{'dessert': False, 'latenight': False, 'lunch': True, 'dinner': False, 'brunch': False, 'breakfast': False}\", 'WiFi': \"'no'\", 'RestaurantsAttire': \"u'casual'\", 'OutdoorSeating': 'False', 'RestaurantsTakeOut': 'True', 'Alcohol': \"u'none'\", 'BikeParking': 'True', 'HasTV': 'False', 'RestaurantsGoodForGroups': 'True', 'RestaurantsReservations': 'False', 'GoodForKids': 'True', 'BusinessAcceptsCreditCards': 'True', 'RestaurantsPriceRange2': '1', 'Ambience': \"{'romantic': False, 'intimate': False, 'classy': False, 'hipster': False, 'divey': False, 'touristy': False, 'trendy': False, 'upscale': False, 'casual': True}\", 'Caters': 'False', 'BusinessParking': \"{'garage': False, 'street': True, 'validated': False, 'lot': False, 'valet': False}\", 'RestaurantsDelivery': 'False', 'NoiseLevel': \"u'average'\", 'RestaurantsTableService': 'False'}, 'categories': 'Food Stands, Food, Thai, Food Trucks, Bubble Tea, Restaurants', 'hours': None}]\n"
     ]
    }
   ],
   "source": [
    "#read business\n",
    "business=[]\n",
    "with open(\"bubble_tea_business.json\",'r',encoding=\"UTF-8\") as f:\n",
    "    for i in f:\n",
    "        business.append(json.loads(i))\n",
    "print(business[:2])"
   ]
  },
  {
   "cell_type": "code",
   "execution_count": 4,
   "id": "6f89fdcc",
   "metadata": {},
   "outputs": [
    {
     "name": "stdout",
     "output_type": "stream",
     "text": [
      "              business_id                     name  \\\n",
      "0  n-_p1jwGCbZT9YaTbugsdw          Vivi bubble Tea   \n",
      "1  3thW8u8cgdCLKgYhKMhXBw             A Thai Basil   \n",
      "2  A0F6H8OO3qYAvI2L3OCp1g    Dragon Ball Tea House   \n",
      "3  rIzmyKEsPZsyhHph5n0Nag               Chewy Boba   \n",
      "4  ALP7rrHJxXIHyzMMPGQ1vw  LittleMoon Cafe and Tea   \n",
      "\n",
      "                        address         city state postal_code   latitude  \\\n",
      "0  1111 E Colonial Dr, Ste 1111      Orlando    FL       32803  28.553464   \n",
      "1            SW 10th & Alder St     Portland    OR       97205  45.520536   \n",
      "2     1007 W King Edward Avenue    Vancouver    BC     V6H 1Z3  49.249492   \n",
      "3            106 S Semoran Blvd  Winter Park    FL       32792  28.596584   \n",
      "4                   2899 N High     Columbus    OH       43202  40.021372   \n",
      "\n",
      "    longitude  stars  review_count  is_open  \\\n",
      "0  -81.364977    4.0           197        1   \n",
      "1 -122.681604    3.0            41        0   \n",
      "2 -123.127926    4.0           265        1   \n",
      "3  -81.307875    4.0            51        1   \n",
      "4  -83.013519    4.5            17        1   \n",
      "\n",
      "                                          attributes  \\\n",
      "0  {'GoodForKids': 'True', 'WheelchairAccessible'...   \n",
      "1  {'GoodForMeal': '{'dessert': False, 'latenight...   \n",
      "2  {'RestaurantsPriceRange2': '1', 'OutdoorSeatin...   \n",
      "3  {'RestaurantsPriceRange2': '1', 'OutdoorSeatin...   \n",
      "4  {'RestaurantsTakeOut': 'True', 'WheelchairAcce...   \n",
      "\n",
      "                                          categories  \\\n",
      "0  Coffee & Tea, Food, Hot Dogs, Restaurants, Bub...   \n",
      "1  Food Stands, Food, Thai, Food Trucks, Bubble T...   \n",
      "2                     Food, Coffee & Tea, Bubble Tea   \n",
      "3           Desserts, Bubble Tea, Food, Coffee & Tea   \n",
      "4           Coffee & Tea, Desserts, Food, Bubble Tea   \n",
      "\n",
      "                                               hours  \n",
      "0  {'Monday': '11:0-22:30', 'Tuesday': '11:0-22:3...  \n",
      "1                                               None  \n",
      "2  {'Monday': '14:0-23:0', 'Tuesday': '14:0-23:0'...  \n",
      "3  {'Monday': '11:0-22:0', 'Tuesday': '11:0-22:0'...  \n",
      "4  {'Monday': '0:0-0:0', 'Tuesday': '13:0-20:30',...  \n",
      "779\n"
     ]
    }
   ],
   "source": [
    "import pandas as pd \n",
    "business=pd.DataFrame(business)\n",
    "print(business.head())\n",
    "print(len(business)) #there are 779 milktea shops\n",
    "business.isnull().sum() #24 na's in attributes and 78 na's in hours\n",
    "business.dropna(axis=0,how='any',inplace=True)"
   ]
  },
  {
   "cell_type": "code",
   "execution_count": 145,
   "id": "239305b1",
   "metadata": {},
   "outputs": [],
   "source": [
    "np.mean(df['stars'])#mean stars is 3.84, which is relatively high"
   ]
  },
  {
   "cell_type": "code",
   "execution_count": 5,
   "id": "8d304bf6",
   "metadata": {},
   "outputs": [
    {
     "name": "stdout",
     "output_type": "stream",
     "text": [
      " Food       397\n",
      " Bubble Tea  378\n",
      " Restaurants  242\n",
      " Coffee & Tea  186\n",
      " Juice Bars & Smoothies  141\n",
      " Desserts   115\n",
      " Cafes       64\n",
      " Chinese     59\n",
      " Asian Fusion   58\n",
      " Ice Cream & Frozen Yogurt   51\n",
      " Tea Rooms   48\n",
      " Taiwanese   43\n",
      " Vietnamese   38\n",
      " Bubble TeaBubble Tea   34\n",
      " FoodFood    32\n",
      " Sandwiches   30\n",
      " FoodBubble Tea   29\n",
      " Bubble TeaFood   27\n",
      " Japanese    23\n",
      " Noodles     22\n"
     ]
    }
   ],
   "source": [
    "#category\n",
    "all_cate=\"\".join(business['categories'])\n",
    "all_cate=all_cate.split(\",\")\n",
    "counts={}\n",
    "for word in all_cate:\n",
    "    counts[word]=counts.get(word,0)+1\n",
    "items=list(counts.items())\n",
    "items.sort(key=lambda x:x[1], reverse=True)\n",
    "for i in range(20):\n",
    "    word,count=items[i]\n",
    "    print(\"{0:<10}{1:>5}\".format(word,count))"
   ]
  },
  {
   "cell_type": "markdown",
   "id": "23de25ae",
   "metadata": {},
   "source": [
    "analyzing all the categories of bubble tea shop, we can find the top 20 words in categories above. \n",
    "1. bubble tea shops also offer food, and some of them are restaurants\n",
    "2. they sell many kinds of drinks, for instance coffee&tea, juice&smoothies\n",
    "3. they also sell desserts, for example ice cream and yogurt\n",
    "4. Chinese, Taiwanese, Vietnamese are the top three regional labels in categories, and some of the japanese food restaurants sell bubble tea too"
   ]
  },
  {
   "cell_type": "code",
   "execution_count": 9,
   "id": "7ee7f31a",
   "metadata": {},
   "outputs": [],
   "source": []
  },
  {
   "cell_type": "code",
   "execution_count": 8,
   "id": "a00508a8",
   "metadata": {},
   "outputs": [
    {
     "data": {
      "text/plain": [
       "{'WiFi': \"u'free'\",\n",
       " 'RestaurantsGoodForGroups': 'True',\n",
       " 'RestaurantsAttire': \"u'casual'\",\n",
       " 'RestaurantsReservations': 'True',\n",
       " 'NoiseLevel': \"u'average'\",\n",
       " 'Alcohol': \"u'full_bar'\",\n",
       " 'RestaurantsTakeOut': 'True',\n",
       " 'BusinessAcceptsCreditCards': 'True',\n",
       " 'Smoking': \"u'outdoor'\",\n",
       " 'BusinessParking': \"{'garage': False, 'street': False, 'validated': False, 'lot': True, 'valet': False}\",\n",
       " 'GoodForMeal': \"{'dessert': False, 'latenight': True, 'lunch': True, 'dinner': True, 'brunch': False, 'breakfast': False}\",\n",
       " 'HasTV': 'True',\n",
       " 'CoatCheck': 'False',\n",
       " 'RestaurantsPriceRange2': '2',\n",
       " 'GoodForDancing': 'False',\n",
       " 'Music': \"{'dj': False, 'background_music': False, 'no_music': False, 'jukebox': False, 'live': None, 'video': False, 'karaoke': None}\",\n",
       " 'DogsAllowed': 'False',\n",
       " 'HappyHour': 'False',\n",
       " 'GoodForKids': 'True',\n",
       " 'WheelchairAccessible': 'True',\n",
       " 'BestNights': \"{'monday': False, 'tuesday': True, 'friday': True, 'wednesday': False, 'thursday': False, 'sunday': False, 'saturday': True}\",\n",
       " 'Ambience': \"{'touristy': False, 'hipster': None, 'romantic': False, 'divey': True, 'intimate': False, 'trendy': True, 'upscale': False, 'classy': False, 'casual': True}\",\n",
       " 'RestaurantsDelivery': 'True',\n",
       " 'BikeParking': 'False',\n",
       " 'Corkage': 'False',\n",
       " 'BusinessAcceptsBitcoin': 'False',\n",
       " 'Caters': 'False',\n",
       " 'RestaurantsTableService': 'True',\n",
       " 'OutdoorSeating': 'False',\n",
       " 'BYOB': 'False'}"
      ]
     },
     "execution_count": 8,
     "metadata": {},
     "output_type": "execute_result"
    }
   ],
   "source": [
    "#attributes\n",
    "attributes=business['attributes']\n",
    "type(attributes)\n",
    "#attributes=list(filter(None,list(attributes.to_dict().values())))\n",
    "attributes=list(attributes.to_dict().values())\n",
    "att=[]\n",
    "for i in attributes:\n",
    "    att.append(i.keys())\n",
    "all_att=str(re.split(\",|dict_keys\",str(att)))\n",
    "all_att=all_att.replace(\"])\",'').replace(\"([\",'').replace(\"[\",'')\n",
    "all_att=re.split(',', all_att)\n",
    "# select the top 20 attributes \n",
    "counts={}\n",
    "top_att=[]\n",
    "for word in all_att:\n",
    "    counts[word]=counts.get(word,0)+1\n",
    "items=list(counts.items())\n",
    "items.sort(key=lambda x:x[1], reverse=True)\n",
    "for i in range(21):\n",
    "    top_att.append(items[i][0])\n",
    "    word,count=items[i]\n",
    "    print(\"{0:<10}{1:>5}\".format(word,count))"
   ]
  },
  {
   "cell_type": "markdown",
   "id": "cabe7926",
   "metadata": {},
   "source": [
    "Top 20 attributes is above. So next we will only focus on these attributes to analyze their relation to stars. \n",
    "1. In the top 20 attributes, we could see that for most of the bubble tea shops, a common feature is that they offer take out or delivery. \n",
    "2. Also parking to cars and bikes are also important. \n",
    "3. The price of them are mostly in range 2, which is an affordable price for most of the customers and as a drink or dessert. \n",
    "4. For payment, they mostly accept credit cards. \n",
    "5. Most of them have wifi so that people could work there."
   ]
  },
  {
   "cell_type": "code",
   "execution_count": 11,
   "id": "d54d5728",
   "metadata": {},
   "outputs": [],
   "source": [
    "top20=re.findall('[a-zA-z]+',\"\".join(top_att[1:]))"
   ]
  },
  {
   "cell_type": "code",
   "execution_count": 46,
   "id": "c83026ee",
   "metadata": {},
   "outputs": [],
   "source": [
    "def find_att(x,y=attributes):\n",
    "    items=[]\n",
    "    for i in y:\n",
    "        items.append(i.get(x))\n",
    "    return(items)"
   ]
  },
  {
   "cell_type": "code",
   "execution_count": 76,
   "id": "766b3783",
   "metadata": {},
   "outputs": [],
   "source": [
    "# aggregate id,stars and attributes\n",
    "df=pd.DataFrame()\n",
    "df['id']=list(business['business_id'])\n",
    "df['stars']=list(business['stars'])\n",
    "for i in top20:\n",
    "    df[i]=find_att(i)"
   ]
  },
  {
   "cell_type": "code",
   "execution_count": 86,
   "id": "f1ff2f0d",
   "metadata": {},
   "outputs": [
    {
     "data": {
      "text/html": [
       "<div>\n",
       "<style scoped>\n",
       "    .dataframe tbody tr th:only-of-type {\n",
       "        vertical-align: middle;\n",
       "    }\n",
       "\n",
       "    .dataframe tbody tr th {\n",
       "        vertical-align: top;\n",
       "    }\n",
       "\n",
       "    .dataframe thead th {\n",
       "        text-align: right;\n",
       "    }\n",
       "</style>\n",
       "<table border=\"1\" class=\"dataframe\">\n",
       "  <thead>\n",
       "    <tr style=\"text-align: right;\">\n",
       "      <th></th>\n",
       "      <th>id</th>\n",
       "      <th>stars</th>\n",
       "      <th>RestaurantsTakeOut</th>\n",
       "      <th>BusinessParking</th>\n",
       "      <th>RestaurantsDelivery</th>\n",
       "      <th>WiFi</th>\n",
       "      <th>Caters</th>\n",
       "      <th>BikeParking</th>\n",
       "      <th>RestaurantsPriceRange</th>\n",
       "      <th>BusinessAcceptsCreditCards</th>\n",
       "      <th>...</th>\n",
       "      <th>DogsAllowed</th>\n",
       "      <th>GoodForKids</th>\n",
       "      <th>NoiseLevel</th>\n",
       "      <th>Alcohol</th>\n",
       "      <th>HasTV</th>\n",
       "      <th>RestaurantsReservations</th>\n",
       "      <th>Ambience</th>\n",
       "      <th>RestaurantsGoodForGroups</th>\n",
       "      <th>GoodForMeal</th>\n",
       "      <th>RestaurantsAttire</th>\n",
       "    </tr>\n",
       "  </thead>\n",
       "  <tbody>\n",
       "    <tr>\n",
       "      <th>0</th>\n",
       "      <td>n-_p1jwGCbZT9YaTbugsdw</td>\n",
       "      <td>4.0</td>\n",
       "      <td>True</td>\n",
       "      <td>{'garage': False, 'street': True, 'validated':...</td>\n",
       "      <td>None</td>\n",
       "      <td>None</td>\n",
       "      <td>False</td>\n",
       "      <td>True</td>\n",
       "      <td>None</td>\n",
       "      <td>True</td>\n",
       "      <td>...</td>\n",
       "      <td>False</td>\n",
       "      <td>True</td>\n",
       "      <td>u'average'</td>\n",
       "      <td>None</td>\n",
       "      <td>None</td>\n",
       "      <td>True</td>\n",
       "      <td>None</td>\n",
       "      <td>None</td>\n",
       "      <td>{'dessert': False, 'latenight': False, 'lunch'...</td>\n",
       "      <td>None</td>\n",
       "    </tr>\n",
       "    <tr>\n",
       "      <th>1</th>\n",
       "      <td>A0F6H8OO3qYAvI2L3OCp1g</td>\n",
       "      <td>4.0</td>\n",
       "      <td>True</td>\n",
       "      <td>{'garage': False, 'street': True, 'validated':...</td>\n",
       "      <td>None</td>\n",
       "      <td>u'free'</td>\n",
       "      <td>False</td>\n",
       "      <td>True</td>\n",
       "      <td>None</td>\n",
       "      <td>None</td>\n",
       "      <td>...</td>\n",
       "      <td>False</td>\n",
       "      <td>None</td>\n",
       "      <td>u'average'</td>\n",
       "      <td>None</td>\n",
       "      <td>None</td>\n",
       "      <td>None</td>\n",
       "      <td>None</td>\n",
       "      <td>None</td>\n",
       "      <td>None</td>\n",
       "      <td>None</td>\n",
       "    </tr>\n",
       "    <tr>\n",
       "      <th>2</th>\n",
       "      <td>rIzmyKEsPZsyhHph5n0Nag</td>\n",
       "      <td>4.0</td>\n",
       "      <td>True</td>\n",
       "      <td>{'garage': False, 'street': False, 'validated'...</td>\n",
       "      <td>None</td>\n",
       "      <td>'free'</td>\n",
       "      <td>False</td>\n",
       "      <td>True</td>\n",
       "      <td>None</td>\n",
       "      <td>True</td>\n",
       "      <td>...</td>\n",
       "      <td>None</td>\n",
       "      <td>None</td>\n",
       "      <td>None</td>\n",
       "      <td>None</td>\n",
       "      <td>None</td>\n",
       "      <td>None</td>\n",
       "      <td>None</td>\n",
       "      <td>None</td>\n",
       "      <td>None</td>\n",
       "      <td>None</td>\n",
       "    </tr>\n",
       "    <tr>\n",
       "      <th>3</th>\n",
       "      <td>ALP7rrHJxXIHyzMMPGQ1vw</td>\n",
       "      <td>4.5</td>\n",
       "      <td>True</td>\n",
       "      <td>{'garage': False, 'street': False, 'validated'...</td>\n",
       "      <td>True</td>\n",
       "      <td>u'free'</td>\n",
       "      <td>True</td>\n",
       "      <td>True</td>\n",
       "      <td>None</td>\n",
       "      <td>True</td>\n",
       "      <td>...</td>\n",
       "      <td>False</td>\n",
       "      <td>None</td>\n",
       "      <td>None</td>\n",
       "      <td>None</td>\n",
       "      <td>None</td>\n",
       "      <td>None</td>\n",
       "      <td>None</td>\n",
       "      <td>None</td>\n",
       "      <td>None</td>\n",
       "      <td>None</td>\n",
       "    </tr>\n",
       "    <tr>\n",
       "      <th>4</th>\n",
       "      <td>DrQuKhjlSbamzC9F0lXOzQ</td>\n",
       "      <td>3.5</td>\n",
       "      <td>True</td>\n",
       "      <td>{'garage': False, 'street': False, 'validated'...</td>\n",
       "      <td>True</td>\n",
       "      <td>u'free'</td>\n",
       "      <td>False</td>\n",
       "      <td>False</td>\n",
       "      <td>None</td>\n",
       "      <td>True</td>\n",
       "      <td>...</td>\n",
       "      <td>False</td>\n",
       "      <td>True</td>\n",
       "      <td>u'quiet'</td>\n",
       "      <td>u'beer_and_wine'</td>\n",
       "      <td>False</td>\n",
       "      <td>True</td>\n",
       "      <td>{'touristy': False, 'hipster': False, 'romanti...</td>\n",
       "      <td>True</td>\n",
       "      <td>{'dessert': False, 'latenight': False, 'lunch'...</td>\n",
       "      <td>'casual'</td>\n",
       "    </tr>\n",
       "  </tbody>\n",
       "</table>\n",
       "<p>5 rows × 22 columns</p>\n",
       "</div>"
      ],
      "text/plain": [
       "                       id  stars RestaurantsTakeOut  \\\n",
       "0  n-_p1jwGCbZT9YaTbugsdw    4.0               True   \n",
       "1  A0F6H8OO3qYAvI2L3OCp1g    4.0               True   \n",
       "2  rIzmyKEsPZsyhHph5n0Nag    4.0               True   \n",
       "3  ALP7rrHJxXIHyzMMPGQ1vw    4.5               True   \n",
       "4  DrQuKhjlSbamzC9F0lXOzQ    3.5               True   \n",
       "\n",
       "                                     BusinessParking RestaurantsDelivery  \\\n",
       "0  {'garage': False, 'street': True, 'validated':...                None   \n",
       "1  {'garage': False, 'street': True, 'validated':...                None   \n",
       "2  {'garage': False, 'street': False, 'validated'...                None   \n",
       "3  {'garage': False, 'street': False, 'validated'...                True   \n",
       "4  {'garage': False, 'street': False, 'validated'...                True   \n",
       "\n",
       "      WiFi Caters BikeParking RestaurantsPriceRange  \\\n",
       "0     None  False        True                  None   \n",
       "1  u'free'  False        True                  None   \n",
       "2   'free'  False        True                  None   \n",
       "3  u'free'   True        True                  None   \n",
       "4  u'free'  False       False                  None   \n",
       "\n",
       "  BusinessAcceptsCreditCards  ... DogsAllowed GoodForKids  NoiseLevel  \\\n",
       "0                       True  ...       False        True  u'average'   \n",
       "1                       None  ...       False        None  u'average'   \n",
       "2                       True  ...        None        None        None   \n",
       "3                       True  ...       False        None        None   \n",
       "4                       True  ...       False        True    u'quiet'   \n",
       "\n",
       "            Alcohol  HasTV RestaurantsReservations  \\\n",
       "0              None   None                    True   \n",
       "1              None   None                    None   \n",
       "2              None   None                    None   \n",
       "3              None   None                    None   \n",
       "4  u'beer_and_wine'  False                    True   \n",
       "\n",
       "                                            Ambience RestaurantsGoodForGroups  \\\n",
       "0                                               None                     None   \n",
       "1                                               None                     None   \n",
       "2                                               None                     None   \n",
       "3                                               None                     None   \n",
       "4  {'touristy': False, 'hipster': False, 'romanti...                     True   \n",
       "\n",
       "                                         GoodForMeal RestaurantsAttire  \n",
       "0  {'dessert': False, 'latenight': False, 'lunch'...              None  \n",
       "1                                               None              None  \n",
       "2                                               None              None  \n",
       "3                                               None              None  \n",
       "4  {'dessert': False, 'latenight': False, 'lunch'...          'casual'  \n",
       "\n",
       "[5 rows x 22 columns]"
      ]
     },
     "execution_count": 86,
     "metadata": {},
     "output_type": "execute_result"
    }
   ],
   "source": [
    "df.head()"
   ]
  },
  {
   "cell_type": "code",
   "execution_count": 118,
   "id": "3878adb3",
   "metadata": {},
   "outputs": [
    {
     "data": {
      "text/html": [
       "<div>\n",
       "<style scoped>\n",
       "    .dataframe tbody tr th:only-of-type {\n",
       "        vertical-align: middle;\n",
       "    }\n",
       "\n",
       "    .dataframe tbody tr th {\n",
       "        vertical-align: top;\n",
       "    }\n",
       "\n",
       "    .dataframe thead th {\n",
       "        text-align: right;\n",
       "    }\n",
       "</style>\n",
       "<table border=\"1\" class=\"dataframe\">\n",
       "  <thead>\n",
       "    <tr style=\"text-align: right;\">\n",
       "      <th></th>\n",
       "      <th>stars</th>\n",
       "    </tr>\n",
       "    <tr>\n",
       "      <th>RestaurantsTakeOut</th>\n",
       "      <th></th>\n",
       "    </tr>\n",
       "  </thead>\n",
       "  <tbody>\n",
       "    <tr>\n",
       "      <th>False</th>\n",
       "      <td>3.833333</td>\n",
       "    </tr>\n",
       "    <tr>\n",
       "      <th>None</th>\n",
       "      <td>4.176471</td>\n",
       "    </tr>\n",
       "    <tr>\n",
       "      <th>True</th>\n",
       "      <td>3.845369</td>\n",
       "    </tr>\n",
       "  </tbody>\n",
       "</table>\n",
       "</div>"
      ],
      "text/plain": [
       "                       stars\n",
       "RestaurantsTakeOut          \n",
       "False               3.833333\n",
       "None                4.176471\n",
       "True                3.845369"
      ]
     },
     "execution_count": 118,
     "metadata": {},
     "output_type": "execute_result"
    }
   ],
   "source": [
    "group=df.groupby('RestaurantsTakeOut')\n",
    "g1=group.mean()\n",
    "g1"
   ]
  },
  {
   "cell_type": "code",
   "execution_count": 125,
   "id": "73b42b72",
   "metadata": {},
   "outputs": [],
   "source": []
  },
  {
   "cell_type": "code",
   "execution_count": 126,
   "id": "f7834a71",
   "metadata": {},
   "outputs": [
    {
     "data": {
      "text/plain": [
       "<BarContainer object of 3 artists>"
      ]
     },
     "execution_count": 126,
     "metadata": {},
     "output_type": "execute_result"
    },
    {
     "data": {
      "image/png": "[encoded data removed]",
      "text/plain": [
       "<Figure size 432x288 with 1 Axes>"
      ]
     },
     "metadata": {
      "needs_background": "light"
     },
     "output_type": "display_data"
    }
   ],
   "source": [
    "plt.bar(g1.index,list(g1['stars']))"
   ]
  },
  {
   "cell_type": "code",
   "execution_count": 131,
   "id": "f67efb91",
   "metadata": {},
   "outputs": [],
   "source": [
    "# function of plotting attributes and stars\n",
    "def star_plot(name):\n",
    "    #group\n",
    "    group=df.groupby(name)\n",
    "    g1=group.mean()\n",
    "    print(g1)\n",
    "    #plot\n",
    "    plt.bar(g1.index,list(g1['stars']))\n",
    "    plt.ylabel('stars')\n",
    "    plt.xlabel(name)\n",
    "    plt.title(name)\n",
    "    plt.ylim(0,5)\n",
    "    plt.show()"
   ]
  },
  {
   "cell_type": "code",
   "execution_count": 132,
   "id": "aff915a4",
   "metadata": {},
   "outputs": [
    {
     "name": "stdout",
     "output_type": "stream",
     "text": [
      "                       stars\n",
      "RestaurantsTakeOut          \n",
      "False               3.833333\n",
      "None                4.176471\n",
      "True                3.845369\n"
     ]
    },
    {
     "data": {
      "image/png": "[encoded data removed]",
      "text/plain": [
       "<Figure size 432x288 with 1 Axes>"
      ]
     },
     "metadata": {
      "needs_background": "light"
     },
     "output_type": "display_data"
    },
    {
     "name": "stdout",
     "output_type": "stream",
     "text": [
      "                                                       stars\n",
      "BusinessParking                                             \n",
      "None                                                4.181818\n",
      "{'garage': False, 'street': False, 'validated':...  3.723301\n",
      "{'garage': False, 'street': False, 'validated':...  4.500000\n",
      "{'garage': False, 'street': False, 'validated':...  3.908163\n",
      "{'garage': False, 'street': False, 'validated':...  4.000000\n",
      "{'garage': False, 'street': None, 'validated': ...  4.500000\n",
      "{'garage': False, 'street': None, 'validated': ...  4.300000\n",
      "{'garage': False, 'street': None, 'validated': ...  3.666667\n",
      "{'garage': False, 'street': None, 'validated': ...  4.500000\n",
      "{'garage': False, 'street': None, 'validated': ...  4.333333\n",
      "{'garage': False, 'street': None, 'validated': ...  4.000000\n",
      "{'garage': False, 'street': True, 'validated': ...  3.830846\n",
      "{'garage': False, 'street': True, 'validated': ...  4.166667\n",
      "{'garage': False, 'street': True, 'validated': ...  3.800000\n",
      "{'garage': False, 'street': True, 'validated': ...  3.600000\n",
      "{'garage': None, 'street': None, 'validated': F...  3.750000\n",
      "{'garage': None, 'street': None, 'validated': F...  3.875000\n",
      "{'garage': None, 'street': None, 'validated': F...  4.500000\n",
      "{'garage': None, 'street': None, 'validated': N...  4.750000\n",
      "{'garage': None, 'street': True, 'validated': F...  3.875000\n",
      "{'garage': None, 'street': True, 'validated': F...  3.000000\n",
      "{'garage': None, 'street': True, 'validated': N...  4.200000\n",
      "{'garage': None, 'street': True, 'validated': N...  4.000000\n",
      "{'garage': True, 'street': False, 'validated': ...  3.694444\n",
      "{'garage': True, 'street': False, 'validated': ...  4.000000\n",
      "{'garage': True, 'street': False, 'validated': ...  3.000000\n",
      "{'garage': True, 'street': False, 'validated': ...  3.875000\n",
      "{'garage': True, 'street': None, 'validated': F...  3.333333\n",
      "{'garage': True, 'street': None, 'validated': N...  4.000000\n",
      "{'garage': True, 'street': True, 'validated': F...  3.833333\n",
      "{'garage': True, 'street': True, 'validated': F...  3.250000\n",
      "{'garage': True, 'street': True, 'validated': F...  3.928571\n",
      "{'garage': True, 'street': True, 'validated': T...  3.500000\n",
      "{'garage': True, 'street': True, 'validated': T...  4.000000\n",
      "{'valet': False, 'garage': False, 'street': Fal...  4.000000\n",
      "{'valet': False, 'garage': False, 'street': Tru...  3.500000\n"
     ]
    },
    {
     "data": {
      "image/png": "[encoded data removed]",
      "text/plain": [
       "<Figure size 432x288 with 1 Axes>"
      ]
     },
     "metadata": {
      "needs_background": "light"
     },
     "output_type": "display_data"
    },
    {
     "name": "stdout",
     "output_type": "stream",
     "text": [
      "                        stars\n",
      "RestaurantsDelivery          \n",
      "False                3.850806\n",
      "None                 4.064103\n",
      "True                 3.854962\n"
     ]
    },
    {
     "data": {
      "image/png": "[encoded data removed]",
      "text/plain": [
       "<Figure size 432x288 with 1 Axes>"
      ]
     },
     "metadata": {
      "needs_background": "light"
     },
     "output_type": "display_data"
    },
    {
     "name": "stdout",
     "output_type": "stream",
     "text": [
      "            stars\n",
      "WiFi             \n",
      "'free'   3.783784\n",
      "'no'     3.710526\n",
      "'paid'   4.000000\n",
      "u'free'  3.954819\n",
      "u'no'    3.786885\n",
      "u'paid'  4.500000\n"
     ]
    },
    {
     "data": {
      "image/png": "[encoded data removed]",
      "text/plain": [
       "<Figure size 432x288 with 1 Axes>"
      ]
     },
     "metadata": {
      "needs_background": "light"
     },
     "output_type": "display_data"
    },
    {
     "name": "stdout",
     "output_type": "stream",
     "text": [
      "           stars\n",
      "Caters          \n",
      "False   3.807971\n",
      "True    3.949597\n"
     ]
    },
    {
     "data": {
      "image/png": "[encoded data removed]",
      "text/plain": [
       "<Figure size 432x288 with 1 Axes>"
      ]
     },
     "metadata": {
      "needs_background": "light"
     },
     "output_type": "display_data"
    },
    {
     "name": "stdout",
     "output_type": "stream",
     "text": [
      "                stars\n",
      "BikeParking          \n",
      "False        3.885321\n",
      "True         3.846618\n"
     ]
    },
    {
     "data": {
      "image/png": "[encoded data removed]",
      "text/plain": [
       "<Figure size 432x288 with 1 Axes>"
      ]
     },
     "metadata": {
      "needs_background": "light"
     },
     "output_type": "display_data"
    },
    {
     "name": "stdout",
     "output_type": "stream",
     "text": [
      "Empty DataFrame\n",
      "Columns: [stars]\n",
      "Index: []\n"
     ]
    },
    {
     "data": {
      "image/png": "[encoded data removed]",
      "text/plain": [
       "<Figure size 432x288 with 1 Axes>"
      ]
     },
     "metadata": {
      "needs_background": "light"
     },
     "output_type": "display_data"
    },
    {
     "name": "stdout",
     "output_type": "stream",
     "text": [
      "                               stars\n",
      "BusinessAcceptsCreditCards          \n",
      "False                       3.812500\n",
      "True                        3.914712\n"
     ]
    },
    {
     "data": {
      "image/png": "[encoded data removed]",
      "text/plain": [
       "<Figure size 432x288 with 1 Axes>"
      ]
     },
     "metadata": {
      "needs_background": "light"
     },
     "output_type": "display_data"
    },
    {
     "name": "stdout",
     "output_type": "stream",
     "text": [
      "                   stars\n",
      "OutdoorSeating          \n",
      "False           3.780534\n",
      "None            4.173469\n",
      "True            3.921986\n"
     ]
    },
    {
     "data": {
      "image/png": "[encoded data removed]",
      "text/plain": [
       "<Figure size 432x288 with 1 Axes>"
      ]
     },
     "metadata": {
      "needs_background": "light"
     },
     "output_type": "display_data"
    },
    {
     "name": "stdout",
     "output_type": "stream",
     "text": [
      "                         stars\n",
      "WheelchairAccessible          \n",
      "False                 3.812500\n",
      "True                  3.940233\n"
     ]
    },
    {
     "data": {
      "image/png": "[encoded data removed]",
      "text/plain": [
       "<Figure size 432x288 with 1 Axes>"
      ]
     },
     "metadata": {
      "needs_background": "light"
     },
     "output_type": "display_data"
    },
    {
     "name": "stdout",
     "output_type": "stream",
     "text": [
      "                stars\n",
      "DogsAllowed          \n",
      "False        3.888889\n",
      "None         4.000000\n",
      "True         4.022989\n"
     ]
    },
    {
     "data": {
      "image/png": "[encoded data removed]",
      "text/plain": [
       "<Figure size 432x288 with 1 Axes>"
      ]
     },
     "metadata": {
      "needs_background": "light"
     },
     "output_type": "display_data"
    },
    {
     "name": "stdout",
     "output_type": "stream",
     "text": [
      "                stars\n",
      "GoodForKids          \n",
      "False        4.000000\n",
      "True         3.864329\n"
     ]
    },
    {
     "data": {
      "image/png": "[encoded data removed]",
      "text/plain": [
       "<Figure size 432x288 with 1 Axes>"
      ]
     },
     "metadata": {
      "needs_background": "light"
     },
     "output_type": "display_data"
    },
    {
     "name": "stdout",
     "output_type": "stream",
     "text": [
      "                 stars\n",
      "NoiseLevel            \n",
      "'average'     3.857143\n",
      "'quiet'       4.222222\n",
      "u'average'    3.860963\n",
      "u'loud'       3.583333\n",
      "u'quiet'      4.007576\n",
      "u'very_loud'  3.000000\n"
     ]
    },
    {
     "data": {
      "image/png": "[encoded data removed]",
      "text/plain": [
       "<Figure size 432x288 with 1 Axes>"
      ]
     },
     "metadata": {
      "needs_background": "light"
     },
     "output_type": "display_data"
    },
    {
     "name": "stdout",
     "output_type": "stream",
     "text": [
      "                     stars\n",
      "Alcohol                   \n",
      "'beer_and_wine'   4.100000\n",
      "'full_bar'        3.333333\n",
      "'none'            3.793333\n",
      "u'beer_and_wine'  3.928571\n",
      "u'full_bar'       3.875000\n",
      "u'none'           3.841935\n"
     ]
    },
    {
     "data": {
      "image/png": "[encoded data removed]",
      "text/plain": [
       "<Figure size 432x288 with 1 Axes>"
      ]
     },
     "metadata": {
      "needs_background": "light"
     },
     "output_type": "display_data"
    },
    {
     "name": "stdout",
     "output_type": "stream",
     "text": [
      "          stars\n",
      "HasTV          \n",
      "False  3.840336\n",
      "True   3.828947\n"
     ]
    },
    {
     "data": {
      "image/png": "[encoded data removed]",
      "text/plain": [
       "<Figure size 432x288 with 1 Axes>"
      ]
     },
     "metadata": {
      "needs_background": "light"
     },
     "output_type": "display_data"
    },
    {
     "name": "stdout",
     "output_type": "stream",
     "text": [
      "                            stars\n",
      "RestaurantsReservations          \n",
      "False                    3.865079\n",
      "None                     3.500000\n",
      "True                     3.756410\n"
     ]
    },
    {
     "data": {
      "image/png": "[encoded data removed]",
      "text/plain": [
       "<Figure size 432x288 with 1 Axes>"
      ]
     },
     "metadata": {
      "needs_background": "light"
     },
     "output_type": "display_data"
    },
    {
     "name": "stdout",
     "output_type": "stream",
     "text": [
      "                                                       stars\n",
      "Ambience                                                    \n",
      "None                                                4.500000\n",
      "{'romantic': False, 'intimate': False, 'classy'...  3.645833\n",
      "{'romantic': False, 'intimate': False, 'classy'...  3.852941\n",
      "{'romantic': False, 'intimate': False, 'classy'...  4.000000\n",
      "{'romantic': False, 'intimate': False, 'classy'...  3.500000\n",
      "{'romantic': False, 'intimate': False, 'tourist...  3.583333\n",
      "{'romantic': False, 'intimate': False, 'tourist...  3.761905\n",
      "{'touristy': False, 'hipster': False, 'romantic...  4.012195\n",
      "{'touristy': False, 'hipster': False, 'romantic...  3.909091\n",
      "{'touristy': False, 'hipster': False, 'romantic...  4.000000\n",
      "{'touristy': False, 'hipster': False, 'romantic...  3.888889\n",
      "{'touristy': False, 'hipster': False, 'romantic...  3.954545\n",
      "{'touristy': False, 'hipster': False, 'romantic...  4.500000\n",
      "{'touristy': False, 'hipster': False, 'romantic...  3.000000\n",
      "{'touristy': False, 'hipster': False, 'romantic...  4.500000\n",
      "{'touristy': False, 'hipster': False, 'romantic...  4.500000\n",
      "{'touristy': False, 'hipster': False, 'romantic...  3.000000\n",
      "{'touristy': False, 'hipster': False, 'romantic...  3.480769\n",
      "{'touristy': False, 'hipster': False, 'romantic...  3.350000\n",
      "{'touristy': False, 'hipster': False, 'romantic...  3.500000\n",
      "{'touristy': False, 'hipster': False, 'romantic...  4.000000\n",
      "{'touristy': False, 'hipster': False, 'romantic...  3.500000\n",
      "{'touristy': False, 'hipster': False, 'romantic...  3.500000\n",
      "{'touristy': False, 'hipster': False, 'romantic...  4.000000\n",
      "{'touristy': False, 'hipster': None, 'romantic'...  3.500000\n",
      "{'touristy': False, 'hipster': None, 'romantic'...  4.000000\n",
      "{'touristy': False, 'hipster': None, 'romantic'...  4.500000\n",
      "{'touristy': False, 'hipster': None, 'romantic'...  5.000000\n",
      "{'touristy': False, 'hipster': True, 'romantic'...  4.000000\n",
      "{'touristy': False, 'hipster': True, 'romantic'...  4.500000\n",
      "{'touristy': False, 'hipster': True, 'romantic'...  4.000000\n",
      "{'touristy': None, 'hipster': False, 'romantic'...  4.000000\n",
      "{'touristy': None, 'hipster': None, 'romantic':...  4.000000\n",
      "{'touristy': None, 'hipster': None, 'romantic':...  3.500000\n",
      "{'touristy': None, 'hipster': None, 'romantic':...  4.500000\n",
      "{'touristy': None, 'hipster': None, 'romantic':...  4.000000\n",
      "{'touristy': None, 'hipster': None, 'romantic':...  4.000000\n",
      "{'touristy': None, 'hipster': None, 'romantic':...  4.000000\n",
      "{'touristy': None, 'hipster': True, 'romantic':...  4.000000\n",
      "{'touristy': True, 'hipster': False, 'romantic'...  4.250000\n"
     ]
    },
    {
     "data": {
      "image/png": "[encoded data removed]",
      "text/plain": [
       "<Figure size 432x288 with 1 Axes>"
      ]
     },
     "metadata": {
      "needs_background": "light"
     },
     "output_type": "display_data"
    },
    {
     "name": "stdout",
     "output_type": "stream",
     "text": [
      "                             stars\n",
      "RestaurantsGoodForGroups          \n",
      "False                     3.844828\n",
      "True                      3.804762\n"
     ]
    },
    {
     "data": {
      "image/png": "[encoded data removed]",
      "text/plain": [
       "<Figure size 432x288 with 1 Axes>"
      ]
     },
     "metadata": {
      "needs_background": "light"
     },
     "output_type": "display_data"
    },
    {
     "name": "stdout",
     "output_type": "stream",
     "text": [
      "                                                       stars\n",
      "GoodForMeal                                                 \n",
      "None                                                4.750000\n",
      "{'dessert': False, 'latenight': False, 'lunch':...  3.840659\n",
      "{'dessert': False, 'latenight': False, 'lunch':...  4.000000\n",
      "{'dessert': False, 'latenight': False, 'lunch':...  3.500000\n",
      "{'dessert': False, 'latenight': False, 'lunch':...  3.913043\n",
      "{'dessert': False, 'latenight': False, 'lunch':...  3.500000\n",
      "{'dessert': False, 'latenight': False, 'lunch':...  4.166667\n",
      "{'dessert': False, 'latenight': False, 'lunch':...  4.500000\n",
      "{'dessert': False, 'latenight': False, 'lunch':...  3.750000\n",
      "{'dessert': False, 'latenight': False, 'lunch':...  3.500000\n",
      "{'dessert': False, 'latenight': False, 'lunch':...  3.500000\n",
      "{'dessert': False, 'latenight': None, 'lunch': ...  4.000000\n",
      "{'dessert': False, 'latenight': None, 'lunch': ...  4.000000\n",
      "{'dessert': False, 'latenight': True, 'lunch': ...  3.500000\n",
      "{'dessert': False, 'latenight': True, 'lunch': ...  4.000000\n",
      "{'dessert': None, 'latenight': False, 'lunch': ...  4.500000\n",
      "{'dessert': None, 'latenight': False, 'lunch': ...  4.000000\n",
      "{'dessert': None, 'latenight': False, 'lunch': ...  4.500000\n",
      "{'dessert': None, 'latenight': None, 'lunch': N...  3.750000\n",
      "{'dessert': None, 'latenight': None, 'lunch': T...  4.000000\n",
      "{'dessert': None, 'latenight': None, 'lunch': T...  4.000000\n",
      "{'dessert': None, 'latenight': None, 'lunch': T...  4.000000\n",
      "{'dessert': None, 'latenight': True, 'lunch': N...  3.500000\n",
      "{'dessert': True, 'latenight': False, 'lunch': ...  3.913043\n",
      "{'dessert': True, 'latenight': False, 'lunch': ...  3.500000\n",
      "{'dessert': True, 'latenight': False, 'lunch': ...  3.950000\n",
      "{'dessert': True, 'latenight': False, 'lunch': ...  4.000000\n",
      "{'dessert': True, 'latenight': False, 'lunch': ...  3.500000\n",
      "{'dessert': True, 'latenight': False, 'lunch': ...  3.875000\n",
      "{'dessert': True, 'latenight': True, 'lunch': F...  3.500000\n",
      "{'dessert': True, 'latenight': True, 'lunch': F...  3.250000\n",
      "{'dessert': True, 'latenight': True, 'lunch': T...  3.000000\n"
     ]
    },
    {
     "data": {
      "image/png": "[encoded data removed]",
      "text/plain": [
       "<Figure size 432x288 with 1 Axes>"
      ]
     },
     "metadata": {
      "needs_background": "light"
     },
     "output_type": "display_data"
    },
    {
     "name": "stdout",
     "output_type": "stream",
     "text": [
      "                      stars\n",
      "RestaurantsAttire          \n",
      "'casual'           3.824000\n",
      "u'casual'          3.765432\n"
     ]
    },
    {
     "data": {
      "image/png": "[encoded data removed]",
      "text/plain": [
       "<Figure size 432x288 with 1 Axes>"
      ]
     },
     "metadata": {
      "needs_background": "light"
     },
     "output_type": "display_data"
    }
   ],
   "source": [
    "#attribute plots\n",
    "for i in top20:\n",
    "    star_plot(i)"
   ]
  },
  {
   "cell_type": "code",
   "execution_count": 120,
   "id": "59253429",
   "metadata": {},
   "outputs": [],
   "source": []
  },
  {
   "cell_type": "code",
   "execution_count": 132,
   "id": "b13bebc1",
   "metadata": {},
   "outputs": [
    {
     "data": {
      "text/plain": [
       "['business_idstars',\n",
       " [' \" \\'RestaurantsTakeOut\\'\"',\n",
       "  ' \" \\'BusinessParking\\'\"',\n",
       "  ' \" \\'RestaurantsDelivery\\'\"',\n",
       "  ' \" \\'WiFi\\'\"',\n",
       "  ' \" \\'Caters\\'\"',\n",
       "  ' \" \\'BikeParking\\'\"',\n",
       "  ' \" \\'RestaurantsPriceRange2\\'\"',\n",
       "  ' \" \\'BusinessAcceptsCreditCards\\'\"',\n",
       "  ' \" \\'OutdoorSeating\\'\"',\n",
       "  ' \" \\'WheelchairAccessible\\'\"',\n",
       "  ' \" \\'DogsAllowed\\'\"',\n",
       "  ' \" \\'GoodForKids\\'\"',\n",
       "  ' \" \\'NoiseLevel\\'\"',\n",
       "  ' \" \\'Alcohol\\'\"',\n",
       "  ' \" \\'RestaurantsReservations\\'\"',\n",
       "  ' \" \\'HasTV\\'\"',\n",
       "  ' \" \\'Ambience\\'\"',\n",
       "  ' \" \\'RestaurantsGoodForGroups\\'\"',\n",
       "  ' \" \\'GoodForMeal\\'\"',\n",
       "  ' \" \\'RestaurantsAttire\\'\"']]"
      ]
     },
     "execution_count": 132,
     "metadata": {},
     "output_type": "execute_result"
    }
   ],
   "source": []
  },
  {
   "cell_type": "code",
   "execution_count": 91,
   "id": "f6c94c4a",
   "metadata": {},
   "outputs": [
    {
     "ename": "AttributeError",
     "evalue": "'list' object has no attribute 'keys'",
     "output_type": "error",
     "traceback": [
      "\u001b[0;31m---------------------------------------------------------------------------\u001b[0m",
      "\u001b[0;31mAttributeError\u001b[0m                            Traceback (most recent call last)",
      "\u001b[0;32m<ipython-input-91-2736ff677e8d>\u001b[0m in \u001b[0;36m<module>\u001b[0;34m\u001b[0m\n\u001b[1;32m      2\u001b[0m \u001b[0mdf\u001b[0m\u001b[0;34m=\u001b[0m\u001b[0mpd\u001b[0m\u001b[0;34m.\u001b[0m\u001b[0mDataFrame\u001b[0m\u001b[0;34m(\u001b[0m\u001b[0;34m)\u001b[0m\u001b[0;34m\u001b[0m\u001b[0;34m\u001b[0m\u001b[0m\n\u001b[1;32m      3\u001b[0m \u001b[0;32mfor\u001b[0m \u001b[0mi\u001b[0m \u001b[0;32min\u001b[0m \u001b[0mattributes\u001b[0m\u001b[0;34m:\u001b[0m\u001b[0;34m\u001b[0m\u001b[0;34m\u001b[0m\u001b[0m\n\u001b[0;32m----> 4\u001b[0;31m     \u001b[0mdf\u001b[0m\u001b[0;34m[\u001b[0m\u001b[0mi\u001b[0m\u001b[0;34m,\u001b[0m\u001b[0;36m0\u001b[0m\u001b[0;34m]\u001b[0m\u001b[0;34m=\u001b[0m\u001b[0mattributes\u001b[0m\u001b[0;34m.\u001b[0m\u001b[0mkeys\u001b[0m\u001b[0;34m(\u001b[0m\u001b[0;34m)\u001b[0m\u001b[0;34m\u001b[0m\u001b[0;34m\u001b[0m\u001b[0m\n\u001b[0m\u001b[1;32m      5\u001b[0m     \u001b[0mdf\u001b[0m\u001b[0;34m[\u001b[0m\u001b[0mi\u001b[0m\u001b[0;34m,\u001b[0m\u001b[0;36m1\u001b[0m\u001b[0;34m]\u001b[0m\u001b[0;34m=\u001b[0m\u001b[0mattributes\u001b[0m\u001b[0;34m.\u001b[0m\u001b[0mvalues\u001b[0m\u001b[0;34m(\u001b[0m\u001b[0;34m)\u001b[0m\u001b[0;34m\u001b[0m\u001b[0;34m\u001b[0m\u001b[0m\n\u001b[1;32m      6\u001b[0m     \u001b[0mdf\u001b[0m\u001b[0;34m[\u001b[0m\u001b[0mi\u001b[0m\u001b[0;34m,\u001b[0m\u001b[0;36m2\u001b[0m\u001b[0;34m]\u001b[0m\u001b[0;34m=\u001b[0m\u001b[0mbusiness\u001b[0m\u001b[0;34m[\u001b[0m\u001b[0;34m'stars'\u001b[0m\u001b[0;34m]\u001b[0m\u001b[0;34m\u001b[0m\u001b[0;34m\u001b[0m\u001b[0m\n",
      "\u001b[0;31mAttributeError\u001b[0m: 'list' object has no attribute 'keys'"
     ]
    }
   ],
   "source": []
  },
  {
   "cell_type": "code",
   "execution_count": 138,
   "id": "1e56ed85",
   "metadata": {},
   "outputs": [
    {
     "data": {
      "text/plain": [
       "['GoodForKids',\n",
       " 'WheelchairAccessible',\n",
       " 'BusinessParking',\n",
       " 'GoodForMeal',\n",
       " 'DogsAllowed',\n",
       " 'NoiseLevel',\n",
       " 'RestaurantsTakeOut',\n",
       " 'RestaurantsReservations',\n",
       " 'Caters',\n",
       " 'RestaurantsPriceRange2',\n",
       " 'BikeParking',\n",
       " 'BusinessAcceptsCreditCards']"
      ]
     },
     "execution_count": 138,
     "metadata": {},
     "output_type": "execute_result"
    }
   ],
   "source": []
  },
  {
   "cell_type": "code",
   "execution_count": 136,
   "id": "85be4812",
   "metadata": {},
   "outputs": [
    {
     "data": {
      "text/plain": [
       "dict_values(['True', 'True', \"{'garage': False, 'street': True, 'validated': False, 'lot': True, 'valet': False}\", \"{'dessert': False, 'latenight': False, 'lunch': False, 'dinner': False, 'brunch': False, 'breakfast': False}\", 'False', \"u'average'\", 'True', 'True', 'False', '1', 'True', 'True'])"
      ]
     },
     "execution_count": 136,
     "metadata": {},
     "output_type": "execute_result"
    }
   ],
   "source": []
  },
  {
   "cell_type": "code",
   "execution_count": 139,
   "id": "82e6c159",
   "metadata": {},
   "outputs": [
    {
     "data": {
      "text/plain": [
       "'True'"
      ]
     },
     "execution_count": 139,
     "metadata": {},
     "output_type": "execute_result"
    }
   ],
   "source": []
  },
  {
   "cell_type": "code",
   "execution_count": 13,
   "id": "ee2622ca",
   "metadata": {},
   "outputs": [],
   "source": []
  },
  {
   "cell_type": "code",
   "execution_count": 43,
   "id": "c5f23b67",
   "metadata": {},
   "outputs": [
    {
     "data": {
      "text/plain": [
       "list"
      ]
     },
     "execution_count": 43,
     "metadata": {},
     "output_type": "execute_result"
    }
   ],
   "source": [
    "\n"
   ]
  },
  {
   "cell_type": "code",
   "execution_count": 41,
   "id": "ccb3acff",
   "metadata": {},
   "outputs": [],
   "source": []
  },
  {
   "cell_type": "code",
   "execution_count": 29,
   "id": "f74813d3",
   "metadata": {},
   "outputs": [
    {
     "data": {
      "text/plain": [
       "'[\\' \" \\\\\\'RestaurantsTakeOut\\\\\\'\"\\', \\' \" \\\\\\'BusinessParking\\\\\\'\"\\', \\' \" \\\\\\'RestaurantsDelivery\\\\\\'\"\\', \\' \" \\\\\\'WiFi\\\\\\'\"\\', \\' \" \\\\\\'Caters\\\\\\'\"\\', \\' \" \\\\\\'BikeParking\\\\\\'\"\\', \\' \" \\\\\\'RestaurantsPriceRange2\\\\\\'\"\\', \\' \" \\\\\\'BusinessAcceptsCreditCards\\\\\\'\"\\', \\' \" \\\\\\'OutdoorSeating\\\\\\'\"\\', \\' \" \\\\\\'WheelchairAccessible\\\\\\'\"\\', \\' \" \\\\\\'DogsAllowed\\\\\\'\"\\', \\' \" \\\\\\'GoodForKids\\\\\\'\"\\', \\' \" \\\\\\'NoiseLevel\\\\\\'\"\\', \\' \" \\\\\\'Alcohol\\\\\\'\"\\', \\' \" \\\\\\'HasTV\\\\\\'\"\\', \\' \" \\\\\\'RestaurantsReservations\\\\\\'\"\\', \\' \" \\\\\\'Ambience\\\\\\'\"\\', \\' \" \\\\\\'RestaurantsGoodForGroups\\\\\\'\"\\', \\' \" \\\\\\'GoodForMeal\\\\\\'\"\\', \\' \" \\\\\\'RestaurantsAttire\\\\\\'\"\\']'"
      ]
     },
     "execution_count": 29,
     "metadata": {},
     "output_type": "execute_result"
    }
   ],
   "source": []
  },
  {
   "cell_type": "code",
   "execution_count": 22,
   "id": "7ca5f9b0",
   "metadata": {},
   "outputs": [],
   "source": []
  },
  {
   "cell_type": "code",
   "execution_count": 23,
   "id": "ab65ad6c",
   "metadata": {},
   "outputs": [
    {
     "data": {
      "text/html": [
       "<div>\n",
       "<style scoped>\n",
       "    .dataframe tbody tr th:only-of-type {\n",
       "        vertical-align: middle;\n",
       "    }\n",
       "\n",
       "    .dataframe tbody tr th {\n",
       "        vertical-align: top;\n",
       "    }\n",
       "\n",
       "    .dataframe thead th {\n",
       "        text-align: right;\n",
       "    }\n",
       "</style>\n",
       "<table border=\"1\" class=\"dataframe\">\n",
       "  <thead>\n",
       "    <tr style=\"text-align: right;\">\n",
       "      <th></th>\n",
       "      <th>id</th>\n",
       "      <th>stars</th>\n",
       "      <th>kids</th>\n",
       "    </tr>\n",
       "  </thead>\n",
       "  <tbody>\n",
       "    <tr>\n",
       "      <th>0</th>\n",
       "      <td>n-_p1jwGCbZT9YaTbugsdw</td>\n",
       "      <td>4.0</td>\n",
       "      <td>True</td>\n",
       "    </tr>\n",
       "    <tr>\n",
       "      <th>1</th>\n",
       "      <td>A0F6H8OO3qYAvI2L3OCp1g</td>\n",
       "      <td>4.0</td>\n",
       "      <td>None</td>\n",
       "    </tr>\n",
       "    <tr>\n",
       "      <th>2</th>\n",
       "      <td>rIzmyKEsPZsyhHph5n0Nag</td>\n",
       "      <td>4.0</td>\n",
       "      <td>None</td>\n",
       "    </tr>\n",
       "    <tr>\n",
       "      <th>3</th>\n",
       "      <td>ALP7rrHJxXIHyzMMPGQ1vw</td>\n",
       "      <td>4.5</td>\n",
       "      <td>None</td>\n",
       "    </tr>\n",
       "    <tr>\n",
       "      <th>4</th>\n",
       "      <td>DrQuKhjlSbamzC9F0lXOzQ</td>\n",
       "      <td>3.5</td>\n",
       "      <td>True</td>\n",
       "    </tr>\n",
       "    <tr>\n",
       "      <th>...</th>\n",
       "      <td>...</td>\n",
       "      <td>...</td>\n",
       "      <td>...</td>\n",
       "    </tr>\n",
       "    <tr>\n",
       "      <th>691</th>\n",
       "      <td>757zI3bNk4CZ9cql3T6rbQ</td>\n",
       "      <td>4.5</td>\n",
       "      <td>True</td>\n",
       "    </tr>\n",
       "    <tr>\n",
       "      <th>692</th>\n",
       "      <td>LBpKl-sl0Qe18oAdoiDaCQ</td>\n",
       "      <td>4.5</td>\n",
       "      <td>True</td>\n",
       "    </tr>\n",
       "    <tr>\n",
       "      <th>693</th>\n",
       "      <td>aesuEZoyNuctrsKzo-OIUA</td>\n",
       "      <td>4.5</td>\n",
       "      <td>True</td>\n",
       "    </tr>\n",
       "    <tr>\n",
       "      <th>694</th>\n",
       "      <td>W0nk_v3uGiP7CoiW919oeg</td>\n",
       "      <td>3.5</td>\n",
       "      <td>None</td>\n",
       "    </tr>\n",
       "    <tr>\n",
       "      <th>695</th>\n",
       "      <td>EaBDXdIQ_TeeUhn1Twnjvg</td>\n",
       "      <td>3.5</td>\n",
       "      <td>True</td>\n",
       "    </tr>\n",
       "  </tbody>\n",
       "</table>\n",
       "<p>696 rows × 3 columns</p>\n",
       "</div>"
      ],
      "text/plain": [
       "                         id  stars  kids\n",
       "0    n-_p1jwGCbZT9YaTbugsdw    4.0  True\n",
       "1    A0F6H8OO3qYAvI2L3OCp1g    4.0  None\n",
       "2    rIzmyKEsPZsyhHph5n0Nag    4.0  None\n",
       "3    ALP7rrHJxXIHyzMMPGQ1vw    4.5  None\n",
       "4    DrQuKhjlSbamzC9F0lXOzQ    3.5  True\n",
       "..                      ...    ...   ...\n",
       "691  757zI3bNk4CZ9cql3T6rbQ    4.5  True\n",
       "692  LBpKl-sl0Qe18oAdoiDaCQ    4.5  True\n",
       "693  aesuEZoyNuctrsKzo-OIUA    4.5  True\n",
       "694  W0nk_v3uGiP7CoiW919oeg    3.5  None\n",
       "695  EaBDXdIQ_TeeUhn1Twnjvg    3.5  True\n",
       "\n",
       "[696 rows x 3 columns]"
      ]
     },
     "execution_count": 23,
     "metadata": {},
     "output_type": "execute_result"
    }
   ],
   "source": []
  }
 ],
 "metadata": {
  "kernelspec": {
   "display_name": "Python 3",
   "language": "python",
   "name": "python3"
  },
  "language_info": {
   "codemirror_mode": {
    "name": "ipython",
    "version": 3
   },
   "file_extension": ".py",
   "mimetype": "text/x-python",
   "name": "python",
   "nbconvert_exporter": "python",
   "pygments_lexer": "ipython3",
   "version": "3.8.8"
  }
 },
 "nbformat": 4,
 "nbformat_minor": 5
}
